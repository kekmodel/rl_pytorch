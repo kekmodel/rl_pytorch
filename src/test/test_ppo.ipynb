{
 "cells": [
  {
   "cell_type": "code",
   "execution_count": 1,
   "metadata": {
    "colab": {},
    "colab_type": "code",
    "id": "IWnm3qot3o1W"
   },
   "outputs": [],
   "source": [
    "import pickle\n",
    "from collections import deque\n",
    "\n",
    "import gym\n",
    "import imageio\n",
    "import matplotlib.pyplot as plt\n",
    "import numpy as np\n",
    "import torch\n",
    "import torch.nn as nn\n",
    "from torch.distributions import Categorical\n",
    "from running_mean_std import RunningMeanStd"
   ]
  },
  {
   "cell_type": "code",
   "execution_count": 2,
   "metadata": {
    "colab": {},
    "colab_type": "code",
    "id": "9Ffkl_5C4R81"
   },
   "outputs": [],
   "source": [
    "# class ActorCriticNet(nn.Module):\n",
    "#     def __init__(self, obs_space, action_space):\n",
    "#         super().__init__()\n",
    "#         h = 64\n",
    "#         self.head = nn.Sequential(nn.Linear(obs_space, h), nn.Tanh())\n",
    "#         self.pol = nn.Sequential(nn.Linear(h, h), nn.Tanh(), nn.Linear(h, action_space))\n",
    "#         self.val = nn.Sequential(nn.Linear(h, h), nn.Tanh(), nn.Linear(h, 1))\n",
    "#         self.log_softmax = nn.LogSoftmax(dim=-1)\n",
    "\n",
    "#     def forward(self, x):\n",
    "#         out = self.head(x)\n",
    "#         logit = self.pol(out).reshape(out.shape[0], -1)\n",
    "#         log_p = self.log_softmax(logit)\n",
    "#         v = self.val(out).reshape(out.shape[0], 1)\n",
    "\n",
    "#         return log_p, v"
   ]
  },
  {
   "cell_type": "code",
   "execution_count": 3,
   "metadata": {},
   "outputs": [],
   "source": [
    "class ActorCriticNet(nn.Module):\n",
    "    def __init__(self, obs_space, action_space, use_obs_norm=True):\n",
    "        super().__init__()\n",
    "        h = 64\n",
    "        self.use_obs_norm = use_obs_norm\n",
    "        self.obs_space = obs_space\n",
    "        self.obs_norms = nn.ModuleList([nn.BatchNorm1d(1, momentum=None, affine=False) for _ in range(obs_space)])\n",
    "        self.pol = nn.Sequential(\n",
    "            nn.Linear(obs_space, h, bias=True),\n",
    "            nn.Tanh(),\n",
    "            nn.Linear(h, action_space, bias=True),\n",
    "        )\n",
    "        self.val = nn.Sequential(\n",
    "            nn.Linear(obs_space, h, bias=True),\n",
    "            nn.Tanh(),\n",
    "            nn.Linear(h, 1, bias=True),\n",
    "        )\n",
    "        self.log_softmax = nn.LogSoftmax(dim=-1)\n",
    "\n",
    "    def forward(self, x):\n",
    "        if self.use_obs_norm:\n",
    "            norm_x = []\n",
    "            for norm, obs in zip(self.obs_norms, x.chunk(chunks=self.obs_space, dim=1)):\n",
    "                norm_x.append(norm(obs))\n",
    "            x = torch.concat(norm_x, dim=1)\n",
    "        logit = self.pol(x).reshape(x.shape[0], -1)\n",
    "        log_p = self.log_softmax(logit)\n",
    "        v = self.val(x).reshape(x.shape[0], 1)\n",
    "\n",
    "        return log_p, v"
   ]
  },
  {
   "cell_type": "code",
   "execution_count": 4,
   "metadata": {},
   "outputs": [],
   "source": [
    "def get_action_and_value(obs, old_net):\n",
    "    old_net.eval()\n",
    "    with torch.no_grad():\n",
    "        state = torch.tensor([obs]).to(device).float()\n",
    "        log_p, v = old_net(state)\n",
    "        m = Categorical(log_p.exp())\n",
    "        action = m.sample()\n",
    "\n",
    "    return action.item(), v.item()"
   ]
  },
  {
   "cell_type": "markdown",
   "metadata": {},
   "source": [
    "## Main"
   ]
  },
  {
   "cell_type": "code",
   "execution_count": 5,
   "metadata": {
    "colab": {
     "base_uri": "https://localhost:8080/",
     "height": 3377
    },
    "colab_type": "code",
    "executionInfo": {
     "elapsed": 135196,
     "status": "ok",
     "timestamp": 1534482559393,
     "user": {
      "displayName": "윤승제",
      "photoUrl": "//lh5.googleusercontent.com/-EucKC7DmcQI/AAAAAAAAAAI/AAAAAAAAAGA/gQU1NPEmNFA/s50-c-k-no/photo.jpg",
      "userId": "105654037995838004821"
     },
     "user_tz": -540
    },
    "id": "PnifSBJglzHh",
    "outputId": "94177345-918e-4a96-d9a8-d8aba0a4bc9a",
    "scrolled": false
   },
   "outputs": [
    {
     "name": "stderr",
     "output_type": "stream",
     "text": [
      "<ipython-input-5-57fdcd90b39b>:27: FutureWarning: You are using `torch.load` with `weights_only=False` (the current default value), which uses the default pickle module implicitly. It is possible to construct malicious pickle data which will execute arbitrary code during unpickling (See https://github.com/pytorch/pytorch/blob/main/SECURITY.md#untrusted-models for more details). In a future release, the default value for `weights_only` will be flipped to `True`. This limits the functions that could be executed during unpickling. Arbitrary objects will no longer be allowed to be loaded via this mode unless they are explicitly allowlisted by the user via `torch.serialization.add_safe_globals`. We recommend you start setting `weights_only=True` for any use case where you don't have full control of the loaded file. Please open an issue on GitHub for any issues related to this experimental feature.\n",
      "  old_net.load_state_dict(torch.load(\"./saved_models/LunarLander-v2_ep6433_clear_model_ppo_st.pt\"))\n"
     ]
    },
    {
     "data": {
      "text/plain": [
       "ActorCriticNet(\n",
       "  (obs_norms): ModuleList(\n",
       "    (0-7): 8 x BatchNorm1d(1, eps=1e-05, momentum=None, affine=False, track_running_stats=True)\n",
       "  )\n",
       "  (pol): Sequential(\n",
       "    (0): Linear(in_features=8, out_features=64, bias=True)\n",
       "    (1): Tanh()\n",
       "    (2): Linear(in_features=64, out_features=4, bias=True)\n",
       "  )\n",
       "  (val): Sequential(\n",
       "    (0): Linear(in_features=8, out_features=64, bias=True)\n",
       "    (1): Tanh()\n",
       "    (2): Linear(in_features=64, out_features=1, bias=True)\n",
       "  )\n",
       "  (log_softmax): LogSoftmax(dim=-1)\n",
       ")"
      ]
     },
     "execution_count": 5,
     "metadata": {},
     "output_type": "execute_result"
    }
   ],
   "source": [
    "# set device\n",
    "device = torch.device(\"cuda\" if torch.cuda.is_available() else \"cpu\")\n",
    "\n",
    "# make an environment\n",
    "# env = gym.make('CartPole-v0')\n",
    "# env = gym.make(\"CartPole-v1\", render_mode=\"rgb_array\")\n",
    "# env = gym.make(\"MountainCar-v0\", render_mode=\"rgb_array\")\n",
    "env = gym.make(\"LunarLander-v2\", render_mode=\"rgb_array\")\n",
    "SEED = 0\n",
    "# env.seed(SEED)\n",
    "obs_space = env.observation_space.shape[0]\n",
    "action_space = env.action_space.n\n",
    "\n",
    "OBS_NORM = False\n",
    "n_episodes = 10000\n",
    "# n_eval = env.spec.trials\n",
    "n_eval = 10\n",
    "\n",
    "# global values\n",
    "total_steps = 0\n",
    "obses = []\n",
    "rewards = []\n",
    "reward_eval = deque(maxlen=n_eval)\n",
    "\n",
    "# load a model\n",
    "old_net = ActorCriticNet(obs_space, action_space, use_obs_norm=False).to(device)\n",
    "old_net.load_state_dict(torch.load(\"./saved_models/LunarLander-v2_ep6433_clear_model_ppo_st.pt\"))\n",
    "old_net.eval()\n",
    "# with open('./saved_models/CartPole-v1_up36_clear_norm_obs.pkl', 'rb') as f:\n",
    "#      norm_obs = pickle.load(f)"
   ]
  },
  {
   "cell_type": "code",
   "execution_count": 6,
   "metadata": {},
   "outputs": [
    {
     "data": {
      "text/plain": [
       "'rgb_array'"
      ]
     },
     "execution_count": 6,
     "metadata": {},
     "output_type": "execute_result"
    }
   ],
   "source": [
    "env.render_mode"
   ]
  },
  {
   "cell_type": "code",
   "execution_count": 7,
   "metadata": {},
   "outputs": [
    {
     "data": {
      "text/plain": [
       "'rgb_array'"
      ]
     },
     "execution_count": 7,
     "metadata": {},
     "output_type": "execute_result"
    }
   ],
   "source": [
    "env.render_mode"
   ]
  },
  {
   "cell_type": "code",
   "execution_count": 8,
   "metadata": {
    "scrolled": true
   },
   "outputs": [
    {
     "data": {
      "text/plain": [
       "1000"
      ]
     },
     "execution_count": 8,
     "metadata": {},
     "output_type": "execute_result"
    }
   ],
   "source": [
    "env.spec.max_episode_steps"
   ]
  },
  {
   "cell_type": "code",
   "execution_count": 9,
   "metadata": {},
   "outputs": [
    {
     "data": {
      "text/plain": [
       "200"
      ]
     },
     "execution_count": 9,
     "metadata": {},
     "output_type": "execute_result"
    }
   ],
   "source": [
    "env.spec.reward_threshold"
   ]
  },
  {
   "cell_type": "code",
   "execution_count": 10,
   "metadata": {
    "colab": {
     "base_uri": "https://localhost:8080/",
     "height": 3377
    },
    "colab_type": "code",
    "executionInfo": {
     "elapsed": 135196,
     "status": "ok",
     "timestamp": 1534482559393,
     "user": {
      "displayName": "윤승제",
      "photoUrl": "//lh5.googleusercontent.com/-EucKC7DmcQI/AAAAAAAAAAI/AAAAAAAAAGA/gQU1NPEmNFA/s50-c-k-no/photo.jpg",
      "userId": "105654037995838004821"
     },
     "user_tz": -540
    },
    "id": "PnifSBJglzHh",
    "outputId": "94177345-918e-4a96-d9a8-d8aba0a4bc9a",
    "scrolled": false
   },
   "outputs": [
    {
     "name": "stderr",
     "output_type": "stream",
     "text": [
      "<ipython-input-4-0d04513f77d6>:4: UserWarning: Creating a tensor from a list of numpy.ndarrays is extremely slow. Please consider converting the list to a single numpy.ndarray with numpy.array() before converting to a tensor. (Triggered internally at /Users/runner/work/pytorch/pytorch/pytorch/torch/csrc/utils/tensor_new.cpp:281.)\n",
      "  state = torch.tensor([obs]).to(device).float()\n",
      "/Users/jdkim/miniconda3/envs/gym/lib/python3.8/site-packages/gym/utils/passive_env_checker.py:233: DeprecationWarning: `np.bool8` is a deprecated alias for `np.bool_`.  (Deprecated NumPy 1.24)\n",
      "  if not isinstance(terminated, (bool, np.bool8)):\n"
     ]
    },
    {
     "name": "stdout",
     "output_type": "stream",
     "text": [
      "  1 Episode in   239 steps, reward 272.29\n",
      "  2 Episode in   516 steps, reward 263.64\n",
      "  3 Episode in  1344 steps, reward 217.43\n",
      "  4 Episode in  1586 steps, reward 259.54\n",
      "  5 Episode in  2182 steps, reward 241.75\n",
      "  6 Episode in  2378 steps, reward 69.52\n",
      "  7 Episode in  2724 steps, reward 254.85\n",
      "  8 Episode in  2983 steps, reward 259.28\n",
      "  9 Episode in  3247 steps, reward 264.41\n",
      " 10 Episode in  3510 steps, reward 297.65\n",
      "\n",
      "LunarLander-v2 is sloved!  10 Episode in 3510 steps\n",
      "240.03681876622954\n"
     ]
    }
   ],
   "source": [
    "# play\n",
    "for i in range(1, n_episodes + 1):\n",
    "    frames = []\n",
    "    obs, _ = env.reset()\n",
    "    done = False\n",
    "    timeout = False\n",
    "    ep_reward = 0\n",
    "    ep_steps = 0\n",
    "    while not (done or timeout):\n",
    "        frames.append(env.render())\n",
    "        env.render()\n",
    "        if OBS_NORM:\n",
    "            obs_norm = np.clip((obs - norm_obs.mean) / np.sqrt(norm_obs.var + 1e-8), -10, 10)\n",
    "            action, _ = get_action_and_value(obs_norm, old_net)\n",
    "        else:\n",
    "            action, _ = get_action_and_value(obs, old_net)\n",
    "\n",
    "        _obs, reward, done, _, _ = env.step(action)\n",
    "        obs = _obs\n",
    "        total_steps += 1\n",
    "        ep_steps += 1\n",
    "        ep_reward += reward\n",
    "        timeout = ep_steps >= 1000\n",
    "\n",
    "    if done or timeout:\n",
    "        # env.render()\n",
    "        if OBS_NORM:\n",
    "            norm_obs.update(_obs)\n",
    "        rewards.append(ep_reward)\n",
    "        reward_eval.append(ep_reward)\n",
    "        print(\"{:3} Episode in {:5} steps, reward {:.2f}\".format(i, total_steps, ep_reward))\n",
    "        frames.append(env.render())\n",
    "        if ep_reward >= env.spec.reward_threshold:\n",
    "            imageio.mimsave(\n",
    "                f\"{env.spec.id}_reward{ep_reward}.gif\",\n",
    "                frames,\n",
    "            )\n",
    "\n",
    "        if len(reward_eval) >= n_eval:\n",
    "            if np.mean(reward_eval) >= env.spec.reward_threshold:\n",
    "                print(\"\\n{} is sloved! {:3} Episode in {:3} steps\".format(env.spec.id, i, total_steps))\n",
    "                print(np.mean(reward_eval))\n",
    "                break\n",
    "env.close()"
   ]
  },
  {
   "cell_type": "code",
   "execution_count": 11,
   "metadata": {
    "scrolled": false
   },
   "outputs": [
    {
     "data": {
      "image/png": "[encoded data removed]",
      "text/plain": [
       "<Figure size 1080x360 with 1 Axes>"
      ]
     },
     "metadata": {
      "needs_background": "light"
     },
     "output_type": "display_data"
    }
   ],
   "source": [
    "plt.figure(figsize=(15, 5))\n",
    "plt.title(\"reward\")\n",
    "plt.plot(rewards)\n",
    "plt.show()"
   ]
  },
  {
   "cell_type": "code",
   "execution_count": 12,
   "metadata": {},
   "outputs": [
    {
     "data": {
      "text/plain": [
       "[('CartPole-v0', 412, 1),\n",
       " ('CartPole-v1', 452, 0.05),\n",
       " ('MountainCar-v0', 193, 0.1),\n",
       " ('LunarLander-v2', 260, 0.1)]"
      ]
     },
     "execution_count": 12,
     "metadata": {},
     "output_type": "execute_result"
    }
   ],
   "source": [
    "[(\"CartPole-v0\", 412, 1), (\"CartPole-v1\", 452, 0.05), (\"MountainCar-v0\", 193, 0.1), (\"LunarLander-v2\", 260, 0.1)]"
   ]
  },
  {
   "cell_type": "code",
   "execution_count": null,
   "metadata": {},
   "outputs": [],
   "source": []
  },
  {
   "cell_type": "code",
   "execution_count": null,
   "metadata": {},
   "outputs": [],
   "source": []
  }
 ],
 "metadata": {
  "colab": {
   "collapsed_sections": [],
   "name": "C51_tensorflow.ipynb",
   "provenance": [],
   "version": "0.3.2"
  },
  "kernelspec": {
   "display_name": "gym",
   "language": "python",
   "name": "python3"
  },
  "language_info": {
   "codemirror_mode": {
    "name": "ipython",
    "version": 3
   },
   "file_extension": ".py",
   "mimetype": "text/x-python",
   "name": "python",
   "nbconvert_exporter": "python",
   "pygments_lexer": "ipython3",
   "version": "3.8.20"
  }
 },
 "nbformat": 4,
 "nbformat_minor": 1
}
