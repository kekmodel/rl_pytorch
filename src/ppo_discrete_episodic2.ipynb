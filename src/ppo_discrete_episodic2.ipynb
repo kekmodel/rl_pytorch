{
 "cells": [
  {
   "cell_type": "code",
   "execution_count": 1,
   "metadata": {
    "colab": {},
    "colab_type": "code",
    "id": "IWnm3qot3o1W"
   },
   "outputs": [],
   "source": [
    "import random\n",
    "from copy import deepcopy\n",
    "\n",
    "import gym\n",
    "import matplotlib.pyplot as plt\n",
    "import numpy as np\n",
    "import torch\n",
    "import torch.nn as nn\n",
    "from torch.distributions import Categorical\n",
    "from torch.utils.data import DataLoader\n",
    "from transformers.optimization import (\n",
    "    AdamW,\n",
    "    get_constant_schedule_with_warmup,\n",
    "    get_cosine_with_min_lr_schedule_with_warmup,\n",
    ")\n",
    "from IPython.display import clear_output"
   ]
  },
  {
   "cell_type": "code",
   "execution_count": 2,
   "metadata": {
    "colab": {
     "base_uri": "https://localhost:8080/",
     "height": 35
    },
    "colab_type": "code",
    "executionInfo": {
     "elapsed": 708,
     "status": "ok",
     "timestamp": 1534482400648,
     "user": {
      "displayName": "윤승제",
      "photoUrl": "//lh5.googleusercontent.com/-EucKC7DmcQI/AAAAAAAAAAI/AAAAAAAAAGA/gQU1NPEmNFA/s50-c-k-no/photo.jpg",
      "userId": "105654037995838004821"
     },
     "user_tz": -540
    },
    "id": "maRVADiTlzHD",
    "outputId": "783b7610-95c2-4b54-b2ce-d8e853c484ba"
   },
   "outputs": [
    {
     "name": "stdout",
     "output_type": "stream",
     "text": [
      "cuda: False\n"
     ]
    }
   ],
   "source": [
    "SEED = 0\n",
    "BATCH_SIZE = 256\n",
    "LR = 0.002 * BATCH_SIZE / 1024 / 4\n",
    "EPOCHS = 20\n",
    "WARMUP_EPOCHS = 5\n",
    "CLIP = 0.2\n",
    "TARGET_KL = 0.015\n",
    "GAMMA = 0.995\n",
    "LAMBDA = 0.97\n",
    "ENT_COEF = 0.01\n",
    "V_COEF = 10\n",
    "GRAD_NORM = False\n",
    "OBS_NORM = False\n",
    "NUM_ROLLOUT = 4\n",
    "# set device\n",
    "use_cuda = torch.cuda.is_available()\n",
    "print(\"cuda:\", use_cuda)\n",
    "device = torch.device(\"cuda\" if use_cuda else \"cpu\")\n",
    "\n",
    "# random seed\n",
    "random.seed(SEED)\n",
    "np.random.seed(SEED)\n",
    "torch.manual_seed(SEED)\n",
    "if use_cuda:\n",
    "    torch.cuda.manual_seed_all(SEED)"
   ]
  },
  {
   "cell_type": "code",
   "execution_count": 3,
   "metadata": {
    "colab": {},
    "colab_type": "code",
    "id": "9Ffkl_5C4R81"
   },
   "outputs": [],
   "source": [
    "class ActorCriticNet(nn.Module):\n",
    "    def __init__(self, obs_space, action_space, use_obs_norm=True):\n",
    "        super().__init__()\n",
    "        h = 64\n",
    "        self.use_obs_norm = use_obs_norm\n",
    "        self.obs_space = obs_space\n",
    "        self.obs_norms = nn.ModuleList([nn.BatchNorm1d(1, momentum=None, affine=False) for _ in range(obs_space)])\n",
    "        self.pol = nn.Sequential(\n",
    "            nn.Linear(obs_space, h, bias=True),\n",
    "            nn.Tanh(),\n",
    "            nn.Linear(h, action_space, bias=True),\n",
    "        )\n",
    "        self.val = nn.Sequential(\n",
    "            nn.Linear(obs_space, h, bias=True),\n",
    "            nn.Tanh(),\n",
    "            nn.Linear(h, 1, bias=True),\n",
    "        )\n",
    "        self.log_softmax = nn.LogSoftmax(dim=-1)\n",
    "\n",
    "    def forward(self, x):\n",
    "        if self.use_obs_norm:\n",
    "            norm_x = []\n",
    "            for norm, obs in zip(self.obs_norms, x.chunk(chunks=self.obs_space, dim=1)):\n",
    "                norm_x.append(norm(obs))\n",
    "            x = torch.concat(norm_x, dim=1)\n",
    "        logit = self.pol(x).reshape(x.shape[0], -1)\n",
    "        log_p = self.log_softmax(logit)\n",
    "        v = self.val(x).reshape(x.shape[0], 1)\n",
    "\n",
    "        return log_p, v"
   ]
  },
  {
   "cell_type": "code",
   "execution_count": 4,
   "metadata": {},
   "outputs": [],
   "source": [
    "losses = []\n",
    "mean_losses = []\n",
    "\n",
    "\n",
    "def learn(net, old_net, optimizer, scheduler, train_memory):\n",
    "    global CLIP\n",
    "    net.train()\n",
    "    old_net.eval()\n",
    "    all_advs = torch.tensor([adv for _, _, _, adv in train_memory]).to(device)\n",
    "\n",
    "    for epoch in range(EPOCHS):\n",
    "        dataloader = DataLoader(train_memory, shuffle=True, batch_size=BATCH_SIZE, pin_memory=use_cuda)\n",
    "        for s, a, ret, adv in dataloader:\n",
    "            s_batch = s.to(device).float()\n",
    "            a_batch = a.to(device).long()\n",
    "            ret_batch = ret.to(device).float()\n",
    "            adv_batch = adv.to(device).float()\n",
    "            adv_batch = (adv_batch - all_advs.mean()) / (all_advs.std() + 1e-8)\n",
    "            batch_size = s_batch.shape[0]\n",
    "            with torch.no_grad():\n",
    "                log_p_batch_old, _ = old_net(s_batch)\n",
    "                log_p_acting_old = log_p_batch_old[range(batch_size), a_batch]\n",
    "\n",
    "            log_p_batch, v_batch = net(s_batch)\n",
    "            log_p_acting = log_p_batch[range(batch_size), a_batch]\n",
    "            p_ratio = (log_p_acting - log_p_acting_old).exp()\n",
    "            p_ratio_clip = torch.clamp(p_ratio, 1 - CLIP, 1 + CLIP)\n",
    "            p_loss_clip = torch.min(p_ratio * adv_batch, p_ratio_clip * adv_batch).mean()\n",
    "            entropy = -(log_p_batch.exp() * log_p_batch).sum(dim=1).mean()\n",
    "            p_loss = p_loss_clip + ENT_COEF * entropy\n",
    "\n",
    "            v_loss = 0.5 * (ret_batch - v_batch).pow(2).mean()\n",
    "\n",
    "            # approx_kl를 계산하되, 그래프에 포함되지 않도록 함\n",
    "            with torch.no_grad():\n",
    "                approx_kl = (log_p_batch_old - log_p_batch).mean().item()\n",
    "\n",
    "            # approx_kl가 임계치를 초과하면 p_loss의 gradient 전파를 차단\n",
    "            if approx_kl > TARGET_KL:\n",
    "                p_loss_update = p_loss.detach()\n",
    "            else:\n",
    "                p_loss_update = p_loss\n",
    "\n",
    "            # 최종 loss 구성\n",
    "            loss = -(p_loss_update - V_COEF * v_loss)\n",
    "\n",
    "            # optimizer 업데이트\n",
    "            optimizer.zero_grad()\n",
    "            loss.backward()\n",
    "\n",
    "            losses.append(loss.item())\n",
    "            mean_losses.append(np.mean(losses[-200:]))\n",
    "\n",
    "            if GRAD_NORM:\n",
    "                nn.utils.clip_grad_norm_(net.parameters(), max_norm=0.5)\n",
    "            optimizer.step()\n",
    "            scheduler.step()\n",
    "    train_memory.clear()\n",
    "\n",
    "\n",
    "def get_action_and_value(obs, old_net):\n",
    "    old_net.eval()\n",
    "    with torch.no_grad():\n",
    "        state = torch.tensor([obs]).to(device).float()\n",
    "        log_p, v = old_net(state)\n",
    "        m = Categorical(log_p.exp())\n",
    "        action = m.sample()\n",
    "\n",
    "    return action.item(), v.item()\n",
    "\n",
    "\n",
    "def _compute_adv_with_gae(rewards, values, roll_memory):\n",
    "    rew = np.array(rewards, \"float\")\n",
    "    val = np.array(values[:-1], \"float\")\n",
    "    _val = np.array(values[1:], \"float\")\n",
    "    delta = rew + GAMMA * _val - val\n",
    "    dis_r = np.array([GAMMA ** (i) * r for i, r in enumerate(rewards)], \"float\")\n",
    "    gae_dt = np.array([(GAMMA * LAMBDA) ** (i) * dt for i, dt in enumerate(delta.tolist())], \"float\")\n",
    "    for i, data in enumerate(roll_memory):\n",
    "        data.append(sum(dis_r[i:] / GAMMA ** (i)))\n",
    "        data.append(sum(gae_dt[i:] / (GAMMA * LAMBDA) ** (i)))\n",
    "\n",
    "    rewards.clear()\n",
    "    values.clear()\n",
    "\n",
    "    return roll_memory\n",
    "\n",
    "\n",
    "def compute_adv_with_gae(rewards, values, roll_memory):\n",
    "    \"\"\"\n",
    "    Generalized Advantage Estimation (GAE)와 return을 계산하여 roll_memory에 추가합니다.\n",
    "\n",
    "    Parameters:\n",
    "        rewards     : 각 timestep의 보상을 담은 리스트 (길이 T)\n",
    "        values      : 상태가치를 담은 리스트 (길이 T+1, 마지막 값은 bootstrap value)\n",
    "        roll_memory : rollout 데이터 리스트 (각 항목은 추후 return과 advantage를 추가할 리스트)\n",
    "\n",
    "    Returns:\n",
    "        roll_memory : 각 transition에 return과 advantage가 추가된 rollout 데이터\n",
    "    \"\"\"\n",
    "    rollout_length = len(rewards)\n",
    "    advantages = np.zeros(rollout_length, dtype=np.float32)\n",
    "    gae = 0.0\n",
    "\n",
    "    # 역방향 순회로 advantage를 누적 계산 (A_t = δ_t + γλ A_{t+1})\n",
    "    for step in reversed(range(rollout_length)):\n",
    "        # δ_t = r_t + γ * V(s_{t+1}) - V(s_t)\n",
    "        delta = rewards[step] + GAMMA * values[step + 1] - values[step]\n",
    "        gae = delta + GAMMA * LAMBDA * gae\n",
    "        advantages[step] = gae\n",
    "\n",
    "    # Return = Advantage + V(s_t)\n",
    "    returns = advantages + np.array(values[:-1], dtype=np.float32)\n",
    "\n",
    "    # 각 rollout 데이터에 계산된 return과 advantage를 추가 (순서: return, advantage)\n",
    "    for idx, data in enumerate(roll_memory):\n",
    "        data.append(returns[idx])\n",
    "        data.append(advantages[idx])\n",
    "\n",
    "    # rollout이 끝난 후, 리스트를 클리어하여 다음 rollout 준비\n",
    "    rewards.clear()\n",
    "    values.clear()\n",
    "\n",
    "    return roll_memory"
   ]
  },
  {
   "cell_type": "markdown",
   "metadata": {},
   "source": [
    "## Main"
   ]
  },
  {
   "cell_type": "code",
   "execution_count": 5,
   "metadata": {
    "colab": {
     "base_uri": "https://localhost:8080/",
     "height": 3377
    },
    "colab_type": "code",
    "executionInfo": {
     "elapsed": 135196,
     "status": "ok",
     "timestamp": 1534482559393,
     "user": {
      "displayName": "윤승제",
      "photoUrl": "//lh5.googleusercontent.com/-EucKC7DmcQI/AAAAAAAAAAI/AAAAAAAAAGA/gQU1NPEmNFA/s50-c-k-no/photo.jpg",
      "userId": "105654037995838004821"
     },
     "user_tz": -540
    },
    "id": "PnifSBJglzHh",
    "outputId": "94177345-918e-4a96-d9a8-d8aba0a4bc9a",
    "scrolled": false
   },
   "outputs": [
    {
     "name": "stdout",
     "output_type": "stream",
     "text": [
      "8\n",
      "4\n",
      "200\n",
      "1000\n"
     ]
    }
   ],
   "source": [
    "# make an environment\n",
    "# env = gym.make(\"CartPole-v0\")\n",
    "# env = gym.make(\"CartPole-v1\")\n",
    "# env = gym.make(\"MountainCar-v0\")\n",
    "env = gym.make(\"LunarLander-v2\")\n",
    "\n",
    "obs_space = env.observation_space.shape[0]\n",
    "action_space = env.action_space.n\n",
    "print(obs_space)\n",
    "print(action_space)\n",
    "print(env.spec.reward_threshold)\n",
    "print(env.spec.max_episode_steps)"
   ]
  },
  {
   "cell_type": "code",
   "execution_count": 6,
   "metadata": {},
   "outputs": [],
   "source": [
    "# hyperparameter\n",
    "n_episodes = 100000\n",
    "max_ep_len = 1000\n",
    "total_epochs = env.spec.max_episode_steps * NUM_ROLLOUT // BATCH_SIZE\n",
    "n_eval = 10\n",
    "\n",
    "# global values\n",
    "steps = 0\n",
    "ep_rewards = []\n",
    "reward_eval = []\n",
    "\n",
    "# make memories\n",
    "train_memory = []\n",
    "roll_memory = []\n",
    "rewards = []\n",
    "values = []\n",
    "\n",
    "\n",
    "def plot():\n",
    "    clear_output(True)\n",
    "    plt.figure(figsize=(16, 5))\n",
    "    plt.subplot(121)\n",
    "    plt.plot(ep_rewards, alpha=0.5)\n",
    "    plt.subplot(121)\n",
    "    plt.plot(reward_eval)\n",
    "    plt.title(f\"Reward: \" f\"{reward_eval[-1]}\")\n",
    "    plt.subplot(122)\n",
    "    plt.plot(losses, alpha=0.5)\n",
    "    plt.subplot(122)\n",
    "    plt.plot(mean_losses)\n",
    "    plt.title(f\"Loss: \" f\"{np.mean(list(reversed(losses))[: n_eval]):.4f}\")\n",
    "    plt.show()"
   ]
  },
  {
   "cell_type": "code",
   "execution_count": 7,
   "metadata": {
    "colab": {
     "base_uri": "https://localhost:8080/",
     "height": 3377
    },
    "colab_type": "code",
    "executionInfo": {
     "elapsed": 135196,
     "status": "ok",
     "timestamp": 1534482559393,
     "user": {
      "displayName": "윤승제",
      "photoUrl": "//lh5.googleusercontent.com/-EucKC7DmcQI/AAAAAAAAAAI/AAAAAAAAAGA/gQU1NPEmNFA/s50-c-k-no/photo.jpg",
      "userId": "105654037995838004821"
     },
     "user_tz": -540
    },
    "id": "PnifSBJglzHh",
    "outputId": "94177345-918e-4a96-d9a8-d8aba0a4bc9a",
    "scrolled": false
   },
   "outputs": [
    {
     "data": {
      "image/png": "[encoded data removed]",
      "text/plain": [
       "<Figure size 1152x360 with 2 Axes>"
      ]
     },
     "metadata": {
      "needs_background": "light"
     },
     "output_type": "display_data"
    },
    {
     "name": "stdout",
     "output_type": "stream",
     "text": [
      "\n",
      "LunarLander-v2 is sloved! 12187 Episode in 9077882 steps\n"
     ]
    }
   ],
   "source": [
    "# make nerual networks\n",
    "net = ActorCriticNet(obs_space, action_space, OBS_NORM).to(device)\n",
    "old_net = deepcopy(net)\n",
    "no_decay = [\"bias\"]\n",
    "grouped_parameters = [\n",
    "    {\"params\": [p for n, p in net.named_parameters() if not any(nd in n for nd in no_decay)], \"weight_decay\": 0.01},\n",
    "    {\"params\": [p for n, p in net.named_parameters() if any(nd in n for nd in no_decay)], \"weight_decay\": 0.0},\n",
    "]\n",
    "# optimizer = torch.optim.AdamW(net.parameters(), lr=LR, eps=1e-6)\n",
    "optimizer = torch.optim.AdamW(grouped_parameters, lr=LR, eps=1e-8)\n",
    "# optimizer = AdamW(grouped_parameters, lr=LR, eps=1e-8)\n",
    "scheduler = get_constant_schedule_with_warmup(optimizer, num_warmup_steps=total_epochs * EPOCHS * WARMUP_EPOCHS)\n",
    "# scheduler = get_cosine_with_min_lr_schedule_with_warmup(\n",
    "#     optimizer,\n",
    "#     num_warmup_steps=total_epochs * EPOCHS * WARMUP_EPOCHS,\n",
    "#     num_training_steps=total_epochs * EPOCHS * 2000,\n",
    "#     min_lr_rate=0.1,\n",
    "# )\n",
    "\n",
    "# play!\n",
    "solved = False\n",
    "for i in range(1, n_episodes + 1):\n",
    "    obs, _ = env.reset()\n",
    "    done = False\n",
    "    timeout = False\n",
    "    ep_reward = 0\n",
    "    ep_steps = 0\n",
    "    while not done:\n",
    "        # env.render()\n",
    "        action, value = get_action_and_value(obs, old_net)\n",
    "        _obs, reward, done, _, _ = env.step(action)\n",
    "\n",
    "        # store\n",
    "        roll_memory.append([obs, action])\n",
    "        rewards.append(reward)\n",
    "        values.append(value)\n",
    "\n",
    "        obs = _obs\n",
    "        steps += 1\n",
    "        ep_steps += 1\n",
    "        ep_reward += reward\n",
    "\n",
    "        timeout = ep_steps >= max_ep_len\n",
    "\n",
    "        if done or timeout:\n",
    "            if done:\n",
    "                _value = 0.0\n",
    "            else:\n",
    "                _, _value = get_action_and_value(_obs, old_net)\n",
    "\n",
    "            values.append(_value)\n",
    "            train_memory.extend(compute_adv_with_gae(rewards, values, roll_memory))\n",
    "            roll_memory.clear()\n",
    "\n",
    "            ep_rewards.append(ep_reward)\n",
    "            reward_eval.append(np.mean(list(reversed(ep_rewards))[:n_eval]).round(decimals=2))\n",
    "            plot()\n",
    "            if timeout:\n",
    "                break\n",
    "            if len(ep_rewards) >= n_eval:\n",
    "                if reward_eval[-1] >= env.spec.reward_threshold:\n",
    "                    # if reward_eval[-1] >= 495:\n",
    "                    print(\"\\n{} is sloved! {:3} Episode in {:3} steps\".format(env.spec.id, i, steps))\n",
    "                    torch.save(net.state_dict(), f\"./test/saved_models/{env.spec.id}_ep{i}_clear_model_ppo_st.pt\")\n",
    "                    solved = True\n",
    "                    break\n",
    "    if solved:\n",
    "        break\n",
    "    if i % NUM_ROLLOUT == 0:\n",
    "        learn(net, old_net, optimizer, scheduler, train_memory)\n",
    "        old_net.load_state_dict(net.state_dict())\n",
    "\n",
    "env.close()"
   ]
  },
  {
   "cell_type": "code",
   "execution_count": 8,
   "metadata": {},
   "outputs": [
    {
     "data": {
      "text/plain": [
       "[('CartPole-v0', 186, 3, 4),\n",
       " ('CartPole-v1', 277, 3, 4),\n",
       " ('MountainCar-v0', None),\n",
       " ('LunarLander-v2', None)]"
      ]
     },
     "execution_count": 8,
     "metadata": {},
     "output_type": "execute_result"
    }
   ],
   "source": [
    "[(\"CartPole-v0\", 186, 3, 4), (\"CartPole-v1\", 277, 3, 4), (\"MountainCar-v0\", None), (\"LunarLander-v2\", None)]"
   ]
  }
 ],
 "metadata": {
  "colab": {
   "collapsed_sections": [],
   "name": "C51_tensorflow.ipynb",
   "provenance": [],
   "version": "0.3.2"
  },
  "kernelspec": {
   "display_name": "gym",
   "language": "python",
   "name": "python3"
  },
  "language_info": {
   "codemirror_mode": {
    "name": "ipython",
    "version": 3
   },
   "file_extension": ".py",
   "mimetype": "text/x-python",
   "name": "python",
   "nbconvert_exporter": "python",
   "pygments_lexer": "ipython3",
   "version": "3.8.20"
  }
 },
 "nbformat": 4,
 "nbformat_minor": 1
}
