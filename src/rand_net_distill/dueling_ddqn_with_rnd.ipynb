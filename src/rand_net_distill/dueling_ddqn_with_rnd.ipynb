{
 "cells": [
  {
   "cell_type": "code",
   "execution_count": 1,
   "metadata": {
    "colab": {},
    "colab_type": "code",
    "id": "IWnm3qot3o1W"
   },
   "outputs": [],
   "source": [
    "import random\n",
    "from collections import deque\n",
    "from copy import deepcopy\n",
    "\n",
    "import gymnasium\n",
    "import matplotlib.pyplot as plt\n",
    "import numpy as np\n",
    "import torch\n",
    "import torch.nn as nn\n",
    "import torch.optim as optim\n",
    "from torch.utils.data import DataLoader\n",
    "from IPython.display import clear_output"
   ]
  },
  {
   "cell_type": "code",
   "execution_count": 2,
   "metadata": {
    "colab": {
     "base_uri": "https://localhost:8080/",
     "height": 35
    },
    "colab_type": "code",
    "executionInfo": {
     "elapsed": 708,
     "status": "ok",
     "timestamp": 1534482400648,
     "user": {
      "displayName": "윤승제",
      "photoUrl": "//lh5.googleusercontent.com/-EucKC7DmcQI/AAAAAAAAAAI/AAAAAAAAAGA/gQU1NPEmNFA/s50-c-k-no/photo.jpg",
      "userId": "105654037995838004821"
     },
     "user_tz": -540
    },
    "id": "maRVADiTlzHD",
    "outputId": "783b7610-95c2-4b54-b2ce-d8e853c484ba"
   },
   "outputs": [],
   "source": [
    "SEED = 1\n",
    "BATCH_SIZE = 256\n",
    "LR = 0.0003\n",
    "UP_COEF = 0.025\n",
    "EX_COEF = 2.0\n",
    "IN_COEF = 1.0\n",
    "UP_PROP = 0.25\n",
    "GAMMA = 0.99\n",
    "EPS = np.finfo(np.float32).eps\n",
    "\n",
    "# set device\n",
    "use_cuda = torch.cuda.is_available()\n",
    "device = torch.device('cuda' if use_cuda else 'cpu')\n",
    "\n",
    "# random seed\n",
    "random.seed(SEED)\n",
    "np.random.seed(SEED)\n",
    "torch.manual_seed(SEED)\n",
    "if use_cuda:\n",
    "    torch.cuda.manual_seed_all(SEED)"
   ]
  },
  {
   "cell_type": "code",
   "execution_count": 3,
   "metadata": {
    "colab": {},
    "colab_type": "code",
    "id": "9Ffkl_5C4R81"
   },
   "outputs": [],
   "source": [
    "class DuelingDQN(nn.Module):\n",
    "    def __init__(self, obs_space, action_space):\n",
    "        super().__init__()\n",
    "\n",
    "        self.head = nn.Sequential(\n",
    "            nn.Linear(obs_space, obs_space*10),\n",
    "            nn.SELU()\n",
    "        )\n",
    "        self.val = nn.Sequential(\n",
    "            nn.Linear(obs_space*10, 512),\n",
    "            nn.SELU(),\n",
    "            nn.Linear(512, 512),\n",
    "            nn.SELU(),\n",
    "            nn.Linear(512, 1)\n",
    "        )\n",
    "        self.adv = nn.Sequential(\n",
    "            nn.Linear(obs_space*10, 512),\n",
    "            nn.SELU(),\n",
    "            nn.Linear(512, 512),\n",
    "            nn.SELU(),\n",
    "            nn.Linear(512, action_space)\n",
    "        )\n",
    "\n",
    "    def forward(self, x):\n",
    "        out = self.head(x)\n",
    "        val_out = self.val(out).reshape(out.shape[0], 1)\n",
    "        adv_out = self.adv(out).reshape(out.shape[0], -1)\n",
    "        adv_mean = adv_out.mean(dim=1, keepdim=True)\n",
    "        q = val_out + adv_out - adv_mean\n",
    "\n",
    "        return q\n",
    "\n",
    "\n",
    "class RandomNet(nn.Module):\n",
    "    def __init__(self, obs_space):\n",
    "        super().__init__()\n",
    "\n",
    "        self.head = nn.Sequential(\n",
    "            nn.Linear(obs_space, obs_space*10),\n",
    "            nn.SELU()\n",
    "        )\n",
    "        self.fc = nn.Sequential(\n",
    "            nn.Linear(obs_space*10, 512)\n",
    "        )\n",
    "\n",
    "    def forward(self, x):\n",
    "        out = self.head(x)\n",
    "        obs_feature = self.fc(out).reshape(out.shape[0], -1)\n",
    "\n",
    "        return obs_feature\n",
    "\n",
    "\n",
    "class PredictNet(nn.Module):\n",
    "    def __init__(self, obs_space):\n",
    "        super().__init__()\n",
    "        self.head = nn.Sequential(\n",
    "            nn.Linear(obs_space, obs_space*10),\n",
    "            nn.SELU()\n",
    "        )\n",
    "\n",
    "        self.fc = nn.Sequential(\n",
    "            nn.Linear(obs_space*10, 512),\n",
    "            nn.SELU(),\n",
    "            nn.Linear(512, 512),\n",
    "            nn.SELU(),\n",
    "            nn.Linear(512, 512)\n",
    "        )\n",
    "\n",
    "    def forward(self, x):\n",
    "        out = self.head(x)\n",
    "        obs_feature = self.fc(out).reshape(out.shape[0], -1)\n",
    "\n",
    "        return obs_feature"
   ]
  },
  {
   "cell_type": "code",
   "execution_count": 4,
   "metadata": {},
   "outputs": [],
   "source": [
    "m_losses = []\n",
    "f_losses = []\n",
    "losses = []\n",
    "\n",
    "def learn(net, tgt_net, pred_net, rand_net, optimizer, rep_memory):\n",
    "    global mean\n",
    "    global std\n",
    "\n",
    "    net.train()\n",
    "    tgt_net.train()\n",
    "    pred_net.train()\n",
    "    rand_net.train()\n",
    "\n",
    "    train_data = random.sample(rep_memory, BATCH_SIZE)\n",
    "\n",
    "    dataloader = DataLoader(\n",
    "        train_data,\n",
    "        batch_size=BATCH_SIZE,\n",
    "        pin_memory=use_cuda\n",
    "    )\n",
    "\n",
    "    # double DQN\n",
    "    for i, (s, a, r_ex, r_in, _s, d) in enumerate(dataloader):\n",
    "        s_batch = s.to(device).float()\n",
    "        a_batch = a.detach().to(device).long()\n",
    "        _s_batch = _s.to(device).float()\n",
    "\n",
    "        _s_norm = normalize_obs(_s.detach().cpu().numpy(), mean, std)\n",
    "        _s_norm_batch = torch.tensor(_s_norm).to(device).float()\n",
    "        r_ex_batch = r_ex.to(device).float()\n",
    "        r_in_batch = r_in.to(device).float()\n",
    "        r_batch = EX_COEF * 0.5 * r_ex_batch + IN_COEF * 0.5 * r_in_batch\n",
    "        done_mask = 1. - d.to(device).float()\n",
    "\n",
    "        _q_batch = net(_s_batch)\n",
    "        _a_batch = torch.argmax(_q_batch, dim=1)\n",
    "        pred_f = pred_net(_s_norm_batch)\n",
    "\n",
    "        with torch.no_grad():\n",
    "            _q_batch_tgt = tgt_net(_s_batch)\n",
    "            action_space = _q_batch_tgt.shape[1]\n",
    "            _q_best_tgt = _q_batch_tgt[range(BATCH_SIZE), _a_batch]\n",
    "            rand_f = rand_net(_s_norm_batch)\n",
    "\n",
    "        q_batch = net(s_batch)\n",
    "        q_acting = q_batch[range(BATCH_SIZE), a_batch]\n",
    "\n",
    "        # loss\n",
    "        m_loss = ((r_batch + GAMMA * done_mask *_q_best_tgt) - q_acting).pow(2).mean()\n",
    "        m_losses.append(m_loss)\n",
    "\n",
    "        f_loss = (pred_f - rand_f).pow(2)\n",
    "        mask = torch.rand(f_loss.shape[1]).to(device)\n",
    "        mask = (mask < UP_PROP).to(device).float()\n",
    "        f_loss = (f_loss * mask).sum() / mask.sum().clamp(min=1)\n",
    "        f_losses.append(f_loss)\n",
    "\n",
    "        loss = m_loss + f_loss\n",
    "        losses.append(loss.detach().cpu().numpy())\n",
    "        \n",
    "        optimizer.zero_grad()\n",
    "        loss.backward()\n",
    "        optimizer.step()\n",
    "\n",
    "\n",
    "def select_action(obs, tgt_net):\n",
    "    tgt_net.eval()\n",
    "    with torch.no_grad():\n",
    "        state = torch.tensor([obs]).to(device).float()\n",
    "        q = target_net(state)\n",
    "        action = torch.argmax(q)\n",
    "\n",
    "    return action.item()\n",
    "\n",
    "\n",
    "def get_norm_params(obs_memory):\n",
    "    global obs_apace\n",
    "\n",
    "    obses = [[] for _ in range(obs_space)]\n",
    "    for obs in obs_memory:\n",
    "        for j in range(obs_space):\n",
    "            obses[j].append(obs[j])\n",
    "\n",
    "    mean = np.zeros(obs_space, np.float32)\n",
    "    std = np.zeros(obs_space, np.float32)\n",
    "    for i, obs_ in enumerate(obses):\n",
    "        mean[i] = np.mean(obs_)\n",
    "        std[i] = np.std(obs_)\n",
    "\n",
    "    return mean, std + EPS\n",
    "\n",
    "\n",
    "def normalize_obs(obs, mean, std):\n",
    "    norm_obs = (obs - mean) / std\n",
    "\n",
    "    return np.clip(norm_obs, -5, 5)\n",
    "\n",
    "\n",
    "def calculate_reward_in(pred_net, rand_net, obs):\n",
    "    global mean\n",
    "    global std\n",
    "\n",
    "    norm_obs = normalize_obs(obs, mean, std)\n",
    "    state = torch.tensor([norm_obs]).to(device).float()\n",
    "    with torch.no_grad():\n",
    "        pred_obs = pred_net(state)\n",
    "        rand_obs = rand_net(state)\n",
    "        reward = (pred_obs - rand_obs).pow(2).sum()\n",
    "        clipped_reward = torch.clamp(reward, -1, 1)\n",
    "\n",
    "    return clipped_reward.item()\n",
    "\n",
    "\n",
    "def plot():\n",
    "    clear_output(True)\n",
    "    plt.figure(figsize=(16, 5))\n",
    "    plt.subplot(131)\n",
    "    plt.plot(rewards, alpha=0.5)\n",
    "    plt.subplot(131)\n",
    "    plt.plot(reward_eval)\n",
    "    plt.title(f'Extrinsic Reward: '\n",
    "              f'{reward_eval[-1]}')\n",
    "    plt.subplot(132)\n",
    "    plt.plot(rewards_in, alpha=0.5)\n",
    "    plt.title('Intrinsic Reward')\n",
    "    plt.subplot(133)\n",
    "    plt.plot(losses, alpha=0.5)\n",
    "    plt.title('Loss')\n",
    "    plt.show()"
   ]
  },
  {
   "cell_type": "markdown",
   "metadata": {},
   "source": [
    "## Main"
   ]
  },
  {
   "cell_type": "code",
   "execution_count": 5,
   "metadata": {
    "colab": {
     "base_uri": "https://localhost:8080/",
     "height": 3377
    },
    "colab_type": "code",
    "executionInfo": {
     "elapsed": 135196,
     "status": "ok",
     "timestamp": 1534482559393,
     "user": {
      "displayName": "윤승제",
      "photoUrl": "//lh5.googleusercontent.com/-EucKC7DmcQI/AAAAAAAAAAI/AAAAAAAAAGA/gQU1NPEmNFA/s50-c-k-no/photo.jpg",
      "userId": "105654037995838004821"
     },
     "user_tz": -540
    },
    "id": "PnifSBJglzHh",
    "outputId": "94177345-918e-4a96-d9a8-d8aba0a4bc9a",
    "scrolled": false
   },
   "outputs": [],
   "source": [
    "# make an environment\n",
    "# env = gymnasium.make('CartPole-v0')\n",
    "env = gymnasium.make('CartPole-v1')\n",
    "# env = gymnasium.make('MountainCar-v0')\n",
    "# env = gymnasium.make('LunarLander-v2')\n",
    "\n",
    "obs_space = env.observation_space.shape[0]\n",
    "action_space = env.action_space.n\n",
    "\n",
    "# hyperparameter\n",
    "n_episodes = 1000\n",
    "learn_start = 1500\n",
    "memory_size = 50000\n",
    "update_frq = 1\n",
    "use_eps_decay = True\n",
    "epsilon = 1.0\n",
    "eps_min = 0.001\n",
    "decay_rate = 0.0001\n",
    "n_eval = 100\n",
    "\n",
    "# global values\n",
    "init_steps = 0\n",
    "total_steps = 0\n",
    "learn_steps = 0\n",
    "rewards = []\n",
    "rewards_in = []\n",
    "reward_eval = []\n",
    "is_learned = False\n",
    "is_solved = False\n",
    "is_init_roll = True\n",
    "\n",
    "# make four nerual networks\n",
    "net = DuelingDQN(obs_space, action_space).to(device)\n",
    "target_net = deepcopy(net)\n",
    "pred_net = PredictNet(obs_space).to(device)\n",
    "rand_net = RandomNet(obs_space).to(device)\n",
    "\n",
    "# make a optimizer\n",
    "total_params = list(net.parameters()) + list(pred_net.parameters()) \n",
    "optimizer = torch.optim.Adam(total_params, lr=LR)\n",
    "\n",
    "# make memory\n",
    "rep_memory = deque(maxlen=memory_size)\n",
    "obs_memory = deque(maxlen=learn_start)"
   ]
  },
  {
   "cell_type": "code",
   "execution_count": 6,
   "metadata": {},
   "outputs": [
    {
     "data": {
      "text/plain": [
       "False"
      ]
     },
     "execution_count": 6,
     "metadata": {},
     "output_type": "execute_result"
    }
   ],
   "source": [
    "use_cuda"
   ]
  },
  {
   "cell_type": "code",
   "execution_count": 7,
   "metadata": {},
   "outputs": [
    {
     "data": {
      "text/plain": [
       "500"
      ]
     },
     "execution_count": 7,
     "metadata": {},
     "output_type": "execute_result"
    }
   ],
   "source": [
    "env.spec.max_episode_steps"
   ]
  },
  {
   "cell_type": "code",
   "execution_count": 8,
   "metadata": {},
   "outputs": [
    {
     "data": {
      "text/plain": [
       "475.0"
      ]
     },
     "execution_count": 8,
     "metadata": {},
     "output_type": "execute_result"
    }
   ],
   "source": [
    "env.spec.reward_threshold"
   ]
  },
  {
   "cell_type": "code",
   "execution_count": 9,
   "metadata": {},
   "outputs": [],
   "source": [
    "# rollout\n",
    "while True:\n",
    "    obs = env.reset()\n",
    "    done, truncated = False, False\n",
    "    while (not done) and (not truncated):\n",
    "#         env.render()\n",
    "        action = env.action_space.sample()\n",
    "        _obs, _, done, truncated, _ = env.step(action)\n",
    "        obs_memory.append(_obs)\n",
    "        obs = _obs\n",
    "        init_steps += 1\n",
    "        if init_steps == 100000:\n",
    "            mean, std = get_norm_params(obs_memory)\n",
    "            obs_memory.clear()\n",
    "            is_init_roll = False\n",
    "            break\n",
    "    if not is_init_roll:\n",
    "        break"
   ]
  },
  {
   "cell_type": "code",
   "execution_count": 10,
   "metadata": {
    "colab": {
     "base_uri": "https://localhost:8080/",
     "height": 3377
    },
    "colab_type": "code",
    "executionInfo": {
     "elapsed": 135196,
     "status": "ok",
     "timestamp": 1534482559393,
     "user": {
      "displayName": "윤승제",
      "photoUrl": "//lh5.googleusercontent.com/-EucKC7DmcQI/AAAAAAAAAAI/AAAAAAAAAGA/gQU1NPEmNFA/s50-c-k-no/photo.jpg",
      "userId": "105654037995838004821"
     },
     "user_tz": -540
    },
    "id": "PnifSBJglzHh",
    "outputId": "94177345-918e-4a96-d9a8-d8aba0a4bc9a",
    "scrolled": false
   },
   "outputs": [
    {
     "data": {
      "image/png": "[encoded data removed]",
      "text/plain": [
       "<Figure size 1152x360 with 3 Axes>"
      ]
     },
     "metadata": {
      "needs_background": "light"
     },
     "output_type": "display_data"
    },
    {
     "name": "stdout",
     "output_type": "stream",
     "text": [
      "\n",
      "CartPole-v1 is sloved! 592 Episode in 131614 steps\n"
     ]
    }
   ],
   "source": [
    "# play!\n",
    "for i in range(1, n_episodes + 1):\n",
    "    obs, _ = env.reset()\n",
    "    done, truncated = False, False\n",
    "    ep_reward = 0\n",
    "    ep_reward_in = 0.\n",
    "    while (not done) and (not truncated):\n",
    "#         env.render()\n",
    "        if np.random.rand() < epsilon:\n",
    "            action = env.action_space.sample()\n",
    "        else:\n",
    "            action = select_action(obs, target_net)\n",
    "\n",
    "        _obs, reward, done, truncated, _ = env.step(action)\n",
    "        \n",
    "        reward_in = calculate_reward_in(pred_net, rand_net, _obs)\n",
    "\n",
    "        obs_memory.append(_obs)\n",
    "        rep_memory.append((obs, action, reward, reward_in, _obs, done))\n",
    "\n",
    "        obs = _obs\n",
    "        total_steps += 1\n",
    "        ep_reward += reward\n",
    "        ep_reward_in += reward_in\n",
    "        \n",
    "        if use_eps_decay:\n",
    "            epsilon -= epsilon * decay_rate\n",
    "            epsilon = max(eps_min, epsilon)\n",
    "\n",
    "        if total_steps % learn_start == 0:\n",
    "            mean, std = get_norm_params(obs_memory)\n",
    "        \n",
    "        if len(rep_memory) >= learn_start:\n",
    "            if len(rep_memory) == learn_start:\n",
    "                print('\\n====================  Start Learning  ====================\\n')\n",
    "                is_learned = True    \n",
    "            learn(net, target_net, pred_net, rand_net,\n",
    "                  optimizer, rep_memory)\n",
    "            learn_steps += 1\n",
    "\n",
    "        if learn_steps == update_frq:\n",
    "            # target smoothing update\n",
    "            for t, n in zip(target_net.parameters(), net.parameters()):\n",
    "                t.data = UP_COEF * n.data + (1 - UP_COEF) * t.data\n",
    "            learn_steps = 0\n",
    "    if done or truncated:\n",
    "        rewards.append(ep_reward)\n",
    "        rewards_in.append(ep_reward_in)\n",
    "        reward_eval.append(\n",
    "            np.mean(list(reversed(rewards))[: n_eval]).round(decimals=2))\n",
    "        plot()\n",
    "#         print('{:3} Episode in {:5} steps, reward {:.2f}, reward_in {:.2f}'.format(\n",
    "#             i, total_steps, ep_reward, ep_reward_in))\n",
    "\n",
    "        if len(rewards) >= n_eval:\n",
    "            if reward_eval[-1] >= env.spec.reward_threshold:\n",
    "                print('\\n{} is sloved! {:3} Episode in {:3} steps'.format(\n",
    "                    env.spec.id, i, total_steps))\n",
    "                torch.save(target_net.state_dict(),\n",
    "                           f'../test/saved_models/{env.spec.id}_ep{i}_clear_model_dddqn_r.pt')\n",
    "                break\n",
    "env.close()"
   ]
  },
  {
   "cell_type": "code",
   "execution_count": 11,
   "metadata": {},
   "outputs": [
    {
     "data": {
      "text/plain": [
       "[('CartPole-v0', 355, 0.5),\n",
       " ('CartPole-v1', 484, 0.025),\n",
       " ('MountainCar-v0', 571, 0.1),\n",
       " ('LunarLander-v2', 454, 0.5)]"
      ]
     },
     "execution_count": 11,
     "metadata": {},
     "output_type": "execute_result"
    }
   ],
   "source": [
    "[\n",
    "    ('CartPole-v0', 355, 0.5),\n",
    "    ('CartPole-v1', 484, 0.025),\n",
    "    ('MountainCar-v0', 571, 0.1),\n",
    "    ('LunarLander-v2', 454, 0.5)\n",
    "]"
   ]
  },
  {
   "cell_type": "code",
   "execution_count": null,
   "metadata": {},
   "outputs": [],
   "source": []
  }
 ],
 "metadata": {
  "colab": {
   "collapsed_sections": [],
   "name": "C51_tensorflow.ipynb",
   "provenance": [],
   "version": "0.3.2"
  },
  "kernelspec": {
   "display_name": "base",
   "language": "python",
   "name": "python3"
  },
  "language_info": {
   "codemirror_mode": {
    "name": "ipython",
    "version": 3
   },
   "file_extension": ".py",
   "mimetype": "text/x-python",
   "name": "python",
   "nbconvert_exporter": "python",
   "pygments_lexer": "ipython3",
   "version": "3.9.10"
  },
  "vscode": {
   "interpreter": {
    "hash": "90fe37fbc5b130b64dca821671f784e65cc64d3d4cae4c4c4926a786e0034028"
   }
  }
 },
 "nbformat": 4,
 "nbformat_minor": 1
}
