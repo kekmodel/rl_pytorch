{
 "cells": [
  {
   "cell_type": "code",
   "execution_count": 22,
   "metadata": {
    "colab": {},
    "colab_type": "code",
    "id": "IWnm3qot3o1W"
   },
   "outputs": [],
   "source": [
    "import random\n",
    "from copy import deepcopy\n",
    "\n",
    "import gym\n",
    "import matplotlib.pyplot as plt\n",
    "import numpy as np\n",
    "import torch\n",
    "import torch.nn as nn\n",
    "from torch.distributions import Categorical\n",
    "from torch.utils.data import DataLoader\n",
    "from transformers.optimization import (\n",
    "    AdamW,\n",
    "    get_constant_schedule_with_warmup,\n",
    ")\n",
    "from IPython.display import clear_output"
   ]
  },
  {
   "cell_type": "code",
   "execution_count": 23,
   "metadata": {
    "colab": {
     "base_uri": "https://localhost:8080/",
     "height": 35
    },
    "colab_type": "code",
    "executionInfo": {
     "elapsed": 708,
     "status": "ok",
     "timestamp": 1534482400648,
     "user": {
      "displayName": "윤승제",
      "photoUrl": "//lh5.googleusercontent.com/-EucKC7DmcQI/AAAAAAAAAAI/AAAAAAAAAGA/gQU1NPEmNFA/s50-c-k-no/photo.jpg",
      "userId": "105654037995838004821"
     },
     "user_tz": -540
    },
    "id": "maRVADiTlzHD",
    "outputId": "783b7610-95c2-4b54-b2ce-d8e853c484ba"
   },
   "outputs": [
    {
     "name": "stdout",
     "output_type": "stream",
     "text": [
      "cuda: False\n"
     ]
    }
   ],
   "source": [
    "SEED = 0\n",
    "BATCH_SIZE = 256\n",
    "LR = 0.002 * BATCH_SIZE / 1024\n",
    "EPOCHS = 20\n",
    "WARMUP_EPOCHS = 5\n",
    "CLIP = 0.2\n",
    "TARGET_KL = 0.015\n",
    "# TARGET_KL = 999\n",
    "GAMMA = 0.999\n",
    "ENT_COEF = 0.01\n",
    "GRAD_NORM = False\n",
    "OBS_NORM = False\n",
    "NUM_ROLLOUT = 1\n",
    "GROUP_SIZE = 2\n",
    "# set device\n",
    "use_cuda = torch.cuda.is_available()\n",
    "print(\"cuda:\", use_cuda)\n",
    "device = torch.device(\"cuda\" if use_cuda else \"cpu\")\n",
    "\n",
    "# random seed\n",
    "random.seed(SEED)\n",
    "np.random.seed(SEED)\n",
    "torch.manual_seed(SEED)\n",
    "if use_cuda:\n",
    "    torch.cuda.manual_seed_all(SEED)"
   ]
  },
  {
   "cell_type": "code",
   "execution_count": 24,
   "metadata": {
    "colab": {},
    "colab_type": "code",
    "id": "9Ffkl_5C4R81"
   },
   "outputs": [],
   "source": [
    "class ActorCriticNet(nn.Module):\n",
    "    def __init__(self, obs_space, action_space, use_obs_norm=True):\n",
    "        super().__init__()\n",
    "        h = 64\n",
    "        self.use_obs_norm = use_obs_norm\n",
    "        self.obs_space = obs_space\n",
    "        self.obs_norms = nn.ModuleList([nn.BatchNorm1d(1, momentum=None, affine=False) for _ in range(obs_space)])\n",
    "        self.pol = nn.Sequential(\n",
    "            nn.Linear(obs_space, h, bias=True),\n",
    "            nn.Tanh(),\n",
    "            nn.Linear(h, action_space, bias=True),\n",
    "        )\n",
    "        self.log_softmax = nn.LogSoftmax(dim=-1)\n",
    "\n",
    "    def forward(self, x):\n",
    "        if self.use_obs_norm:\n",
    "            norm_x = []\n",
    "            for norm, obs in zip(self.obs_norms, x.chunk(chunks=self.obs_space, dim=1)):\n",
    "                norm_x.append(norm(obs))\n",
    "            x = torch.concat(norm_x, dim=1)\n",
    "        logit = self.pol(x).reshape(x.shape[0], -1)\n",
    "        log_p = self.log_softmax(logit)\n",
    "        return log_p"
   ]
  },
  {
   "cell_type": "code",
   "execution_count": 25,
   "metadata": {},
   "outputs": [],
   "source": [
    "losses = []\n",
    "mean_losses = []\n",
    "\n",
    "\n",
    "def learn(net, old_net, optimizer, scheduler, train_memory):\n",
    "    net.train()\n",
    "    old_net.eval()\n",
    "\n",
    "    for _ in range(EPOCHS):\n",
    "        dataloader = DataLoader(train_memory, shuffle=True, batch_size=BATCH_SIZE, pin_memory=use_cuda)\n",
    "        for s, a, _, adv in dataloader:\n",
    "            s_batch = s.to(device).float()\n",
    "            a_batch = a.to(device).long()\n",
    "            adv_batch = adv.to(device).float()\n",
    "            batch_size = s_batch.shape[0]\n",
    "            with torch.no_grad():\n",
    "                log_p_batch_old = old_net(s_batch)\n",
    "                log_p_acting_old = log_p_batch_old[range(batch_size), a_batch]\n",
    "\n",
    "            log_p_batch = net(s_batch)\n",
    "            log_p_acting = log_p_batch[range(batch_size), a_batch]\n",
    "            p_ratio = (log_p_acting - log_p_acting_old).exp()\n",
    "            p_ratio_clip = torch.clamp(p_ratio, 1 - CLIP, 1 + CLIP)\n",
    "            p_loss_clip = torch.min(p_ratio * adv_batch, p_ratio_clip * adv_batch).mean()\n",
    "            entropy = -(log_p_batch.exp() * log_p_batch).sum(dim=1).mean()\n",
    "            p_loss = p_loss_clip + ENT_COEF * entropy\n",
    "\n",
    "            # approx_kl를 계산하되, 그래프에 포함되지 않도록 함\n",
    "            with torch.no_grad():\n",
    "                approx_kl = (log_p_batch_old - log_p_batch).mean().item()\n",
    "\n",
    "            # approx_kl가 임계치를 초과하면 p_loss의 gradient 전파를 차단\n",
    "            if approx_kl > TARGET_KL:\n",
    "                p_loss_update = p_loss.detach()\n",
    "                loss = -p_loss_update\n",
    "            else:\n",
    "                p_loss_update = p_loss\n",
    "                # 최종 loss 구성\n",
    "                loss = -p_loss_update\n",
    "\n",
    "                # optimizer 업데이트\n",
    "                optimizer.zero_grad()\n",
    "                loss.backward()\n",
    "\n",
    "                if GRAD_NORM:\n",
    "                    nn.utils.clip_grad_norm_(net.parameters(), max_norm=0.5)\n",
    "                optimizer.step()\n",
    "                scheduler.step()\n",
    "\n",
    "            losses.append(loss.item())\n",
    "            mean_losses.append(np.mean(losses[-200:]))\n",
    "\n",
    "    train_memory.clear()\n",
    "\n",
    "\n",
    "def get_action(obs, old_net):\n",
    "    old_net.eval()\n",
    "    with torch.no_grad():\n",
    "        state = torch.tensor([obs]).to(device).float()\n",
    "        log_p = old_net(state)\n",
    "        m = Categorical(log_p.exp())\n",
    "        action = m.sample()\n",
    "    return action.item()\n",
    "\n",
    "\n",
    "def compute_return(rewards, roll_memory):\n",
    "    dis_r = np.array([GAMMA ** (i) * r for i, r in enumerate(rewards)], dtype=np.float32)\n",
    "    for i, data in enumerate(roll_memory):\n",
    "        ret = sum(dis_r[i:] / GAMMA ** (i))\n",
    "        data.append(ret)\n",
    "        assert len(data) == 3\n",
    "    return roll_memory\n",
    "\n",
    "\n",
    "def compute_advantage(group_memory):\n",
    "    rets = []\n",
    "    for data in group_memory:\n",
    "        rets.append(data[2])\n",
    "\n",
    "    rets_mean = np.mean(rets)\n",
    "    rets_std = np.std(rets) + 1e-8\n",
    "    for i, data in enumerate(group_memory):\n",
    "        adv = (rets[i] - rets_mean) / rets_std\n",
    "        data.append(adv)\n",
    "        assert len(data) == 4, f\"{len(data)}\"\n",
    "    return group_memory"
   ]
  },
  {
   "cell_type": "code",
   "execution_count": 26,
   "metadata": {},
   "outputs": [],
   "source": [
    "def plot(ep_rewards, reward_eval, n_eval):\n",
    "    clear_output(True)\n",
    "    plt.figure(figsize=(16, 5))\n",
    "    plt.subplot(121)\n",
    "    plt.plot(ep_rewards, alpha=0.5)\n",
    "    plt.subplot(121)\n",
    "    plt.plot(reward_eval)\n",
    "    plt.title(f\"Reward: \" f\"{reward_eval[-1]}\")\n",
    "    plt.subplot(122)\n",
    "    plt.plot(losses, alpha=0.5)\n",
    "    plt.subplot(122)\n",
    "    plt.plot(mean_losses)\n",
    "    plt.title(f\"Loss: \" f\"{np.mean(list(reversed(losses))[: n_eval]):.4f}\")\n",
    "    plt.show()"
   ]
  },
  {
   "cell_type": "code",
   "execution_count": 27,
   "metadata": {},
   "outputs": [
    {
     "name": "stdout",
     "output_type": "stream",
     "text": [
      "4\n",
      "2\n",
      "475.0\n",
      "500\n"
     ]
    }
   ],
   "source": [
    "# make an environment\n",
    "# env = gym.make(\"CartPole-v0\")\n",
    "env = gym.make(\"CartPole-v1\")\n",
    "# env = gym.make(\"MountainCar-v0\")\n",
    "# env = gym.make(\"LunarLander-v2\")\n",
    "\n",
    "obs_space = env.observation_space.shape[0]\n",
    "action_space = env.action_space.n\n",
    "print(obs_space)\n",
    "print(action_space)\n",
    "print(env.spec.reward_threshold)\n",
    "print(env.spec.max_episode_steps)"
   ]
  },
  {
   "cell_type": "code",
   "execution_count": 28,
   "metadata": {},
   "outputs": [
    {
     "data": {
      "image/png": "[encoded data removed]",
      "text/plain": [
       "<Figure size 1152x360 with 2 Axes>"
      ]
     },
     "metadata": {
      "needs_background": "light"
     },
     "output_type": "display_data"
    },
    {
     "name": "stdout",
     "output_type": "stream",
     "text": [
      "\n",
      "CartPole-v1 is solved!  65 Episode in 18198 steps\n"
     ]
    }
   ],
   "source": [
    "max_ep_len = 1000\n",
    "total_epochs = env.spec.max_episode_steps * NUM_ROLLOUT // BATCH_SIZE\n",
    "episode_counter = 1  # 전체 에피소드 카운터\n",
    "steps = 0  # 전체 스텝 카운터\n",
    "n_episodes = 100000\n",
    "n_eval = 10\n",
    "\n",
    "# --- 네트워크, 옵티마이저, 스케줄러 생성 (이전 코드와 동일) ---\n",
    "net = ActorCriticNet(obs_space, action_space, OBS_NORM).to(device)\n",
    "old_net = deepcopy(net)\n",
    "no_decay = [\"bias\"]\n",
    "grouped_parameters = [\n",
    "    {\"params\": [p for n, p in net.named_parameters() if not any(nd in n for nd in no_decay)], \"weight_decay\": 0.01},\n",
    "    {\"params\": [p for n, p in net.named_parameters() if any(nd in n for nd in no_decay)], \"weight_decay\": 0.0},\n",
    "]\n",
    "optimizer = torch.optim.AdamW(grouped_parameters, lr=LR, eps=1e-8)\n",
    "scheduler = get_constant_schedule_with_warmup(optimizer, num_warmup_steps=total_epochs * EPOCHS * WARMUP_EPOCHS)\n",
    "\n",
    "# --- 메모리 변수 ---\n",
    "train_memory = []  # 글로벌로 누적할 학습 메모리 (learn() 함수 내부에서 clear됨)\n",
    "ep_rewards = []  # 에피소드 보상 기록\n",
    "reward_eval = []  # 최근 n_eval 에피소드의 평균 보상 기록\n",
    "solved = False\n",
    "\n",
    "while episode_counter <= n_episodes:\n",
    "    group_memory = []\n",
    "    for g in range(GROUP_SIZE):\n",
    "        # 에피소드별로 롤아웃 관련 리스트 초기화\n",
    "        roll_memory = []  # 각 transition([obs, action]) 저장\n",
    "        rewards = []  # 각 timestep의 reward 저장\n",
    "        done = False\n",
    "        timeout = False\n",
    "        ep_reward = 0\n",
    "        ep_steps = 0\n",
    "        obs, _ = env.reset(seed=episode_counter)\n",
    "        while not done:\n",
    "            action = get_action(obs, old_net)\n",
    "            _obs, reward, done, _, _ = env.step(action)\n",
    "\n",
    "            # 현재 transition 저장\n",
    "            roll_memory.append([obs, action])\n",
    "            rewards.append(reward)\n",
    "\n",
    "            obs = _obs\n",
    "            steps += 1\n",
    "            ep_steps += 1\n",
    "            ep_reward += reward\n",
    "\n",
    "            timeout = ep_steps >= max_ep_len\n",
    "\n",
    "            if done or timeout:\n",
    "                group_memory.extend(compute_return(rewards, roll_memory))\n",
    "                # rewards.clear()\n",
    "                # roll_memory.clear()\n",
    "                # print(g, len(rewards), timeout)\n",
    "\n",
    "                # === 에피소드 종료 후 로깅 및 목표 보상 달성 체크 ===\n",
    "                ep_rewards.append(ep_reward)\n",
    "                # 최신 n_eval 에피소드의 평균 보상 계산\n",
    "                current_avg = np.mean(list(reversed(ep_rewards))[:n_eval])\n",
    "                reward_eval.append(np.round(current_avg, 2))\n",
    "                plot(ep_rewards, reward_eval, n_eval)\n",
    "\n",
    "                if timeout:\n",
    "                    break\n",
    "                # 목표 보상 달성 여부 확인 (에피소드 수가 n_eval 이상일 때)\n",
    "                if len(ep_rewards) >= n_eval and reward_eval[-1] >= env.spec.reward_threshold:\n",
    "                    print(\"\\n{} is solved! {:3} Episode in {:3} steps\".format(env.spec.id, episode_counter, steps))\n",
    "                    torch.save(\n",
    "                        net.state_dict(),\n",
    "                        f\"./test/saved_models/{env.spec.id}_ep{episode_counter}_clear_model_ppo_st.pt\",\n",
    "                    )\n",
    "                    env.close()\n",
    "                    solved = True\n",
    "                    break\n",
    "            if solved:\n",
    "                break\n",
    "        if solved:\n",
    "            break\n",
    "    if solved:\n",
    "        break\n",
    "    if episode_counter >= n_episodes:\n",
    "        break\n",
    "\n",
    "    train_memory.extend(compute_advantage(group_memory))\n",
    "    # group_memory.clear()\n",
    "    # 일정 에피소드마다 학습 진행\n",
    "    if episode_counter % NUM_ROLLOUT == 0:\n",
    "        learn(net, old_net, optimizer, scheduler, train_memory)\n",
    "        old_net.load_state_dict(net.state_dict())\n",
    "    episode_counter += 1"
   ]
  },
  {
   "cell_type": "code",
   "execution_count": 29,
   "metadata": {},
   "outputs": [
    {
     "data": {
      "text/plain": [
       "[('CartPole-v0', 186, 3, 4),\n",
       " ('CartPole-v1', 277, 3, 4),\n",
       " ('MountainCar-v0', None),\n",
       " ('LunarLander-v2', None)]"
      ]
     },
     "execution_count": 29,
     "metadata": {},
     "output_type": "execute_result"
    }
   ],
   "source": [
    "[(\"CartPole-v0\", 186, 3, 4), (\"CartPole-v1\", 277, 3, 4), (\"MountainCar-v0\", None), (\"LunarLander-v2\", None)]"
   ]
  }
 ],
 "metadata": {
  "colab": {
   "collapsed_sections": [],
   "name": "C51_tensorflow.ipynb",
   "provenance": [],
   "version": "0.3.2"
  },
  "kernelspec": {
   "display_name": "gym",
   "language": "python",
   "name": "python3"
  },
  "language_info": {
   "codemirror_mode": {
    "name": "ipython",
    "version": 3
   },
   "file_extension": ".py",
   "mimetype": "text/x-python",
   "name": "python",
   "nbconvert_exporter": "python",
   "pygments_lexer": "ipython3",
   "version": "3.8.20"
  }
 },
 "nbformat": 4,
 "nbformat_minor": 1
}
