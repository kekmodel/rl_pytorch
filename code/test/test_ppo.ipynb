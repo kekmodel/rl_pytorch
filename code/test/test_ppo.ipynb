{
 "cells": [
  {
   "cell_type": "code",
   "execution_count": 1,
   "metadata": {
    "colab": {},
    "colab_type": "code",
    "id": "IWnm3qot3o1W"
   },
   "outputs": [],
   "source": [
    "from collections import deque\n",
    "\n",
    "import gym\n",
    "import imageio\n",
    "import matplotlib.pyplot as plt\n",
    "import numpy as np\n",
    "import torch\n",
    "import torch.nn as nn\n",
    "from torch.distributions import Categorical \n",
    "from running_mean_std import RunningMeanStd "
   ]
  },
  {
   "cell_type": "code",
   "execution_count": 2,
   "metadata": {
    "colab": {},
    "colab_type": "code",
    "id": "9Ffkl_5C4R81"
   },
   "outputs": [],
   "source": [
    "class ActorCriticNet(nn.Module):\n",
    "    def __init__(self, obs_space, action_space):\n",
    "        super().__init__()\n",
    "        h = 64\n",
    "        self.head = nn.Sequential(\n",
    "            nn.Linear(obs_space, h),\n",
    "            nn.Tanh()\n",
    "        )\n",
    "        self.pol = nn.Sequential(\n",
    "            nn.Linear(h, h),\n",
    "            nn.Tanh(),\n",
    "            nn.Linear(h, action_space)\n",
    "        )\n",
    "        self.val = nn.Sequential(\n",
    "            nn.Linear(h, h),\n",
    "            nn.Tanh(),\n",
    "            nn.Linear(h, 1)\n",
    "        )\n",
    "        self.log_softmax = nn.LogSoftmax(dim=-1)\n",
    "\n",
    "    def forward(self, x):\n",
    "        out = self.head(x)\n",
    "        logit = self.pol(out).reshape(out.shape[0], -1)\n",
    "        log_p = self.log_softmax(logit)\n",
    "        v = self.val(out).reshape(out.shape[0], 1)\n",
    "\n",
    "        return log_p, v"
   ]
  },
  {
   "cell_type": "code",
   "execution_count": 3,
   "metadata": {},
   "outputs": [],
   "source": [
    "def get_action_and_value(obs, old_net):\n",
    "    old_net.eval()\n",
    "    with torch.no_grad():\n",
    "        state = torch.tensor([obs]).to(device).float()\n",
    "        log_p, v = old_net(state)\n",
    "        m = Categorical(log_p.exp())\n",
    "        action = m.sample()\n",
    "\n",
    "    return action.item(), v.item()"
   ]
  },
  {
   "cell_type": "markdown",
   "metadata": {},
   "source": [
    "## Main"
   ]
  },
  {
   "cell_type": "code",
   "execution_count": 4,
   "metadata": {
    "colab": {
     "base_uri": "https://localhost:8080/",
     "height": 3377
    },
    "colab_type": "code",
    "executionInfo": {
     "elapsed": 135196,
     "status": "ok",
     "timestamp": 1534482559393,
     "user": {
      "displayName": "윤승제",
      "photoUrl": "//lh5.googleusercontent.com/-EucKC7DmcQI/AAAAAAAAAAI/AAAAAAAAAGA/gQU1NPEmNFA/s50-c-k-no/photo.jpg",
      "userId": "105654037995838004821"
     },
     "user_tz": -540
    },
    "id": "PnifSBJglzHh",
    "outputId": "94177345-918e-4a96-d9a8-d8aba0a4bc9a",
    "scrolled": false
   },
   "outputs": [
    {
     "name": "stderr",
     "output_type": "stream",
     "text": [
      "/home/jay/anaconda3/lib/python3.7/site-packages/gym/envs/registration.py:14: PkgResourcesDeprecationWarning: Parameters to load are deprecated.  Call .resolve and .require separately.\n",
      "  result = entry_point.load(False)\n"
     ]
    }
   ],
   "source": [
    "# set device\n",
    "device = torch.device('cuda' if torch.cuda.is_available() else 'cpu')\n",
    "\n",
    "# make an environment\n",
    "# env = gym.make('CartPole-v0')\n",
    "env = gym.make('CartPole-v1')\n",
    "# env = gym.make('MountainCar-v0')\n",
    "# env = gym.make('LunarLander-v2')\n",
    "\n",
    "SEED = 0\n",
    "env.seed(SEED)\n",
    "obs_space = env.observation_space.shape[0]\n",
    "action_space = env.action_space.n\n",
    "\n",
    "OBS_NORM = False\n",
    "n_episodes = 1000\n",
    "n_eval = env.spec.trials\n",
    "\n",
    "# global values\n",
    "norm_obs = RunningMeanStd(shape=env.observation_space.shape)\n",
    "total_steps = 0\n",
    "obses = []\n",
    "rewards = []\n",
    "reward_eval = deque(maxlen=n_eval)\n",
    "\n",
    "# load a model\n",
    "target_net = ActorCriticNet(obs_space, action_space).to(device)\n",
    "target_net.load_state_dict(torch.load(\n",
    "    './saved_models/CartPole-v1_up215_clear_model_ppo_st.pt'))"
   ]
  },
  {
   "cell_type": "code",
   "execution_count": 5,
   "metadata": {
    "scrolled": true
   },
   "outputs": [
    {
     "data": {
      "text/plain": [
       "500"
      ]
     },
     "execution_count": 5,
     "metadata": {},
     "output_type": "execute_result"
    }
   ],
   "source": [
    "env.spec.max_episode_steps"
   ]
  },
  {
   "cell_type": "code",
   "execution_count": 6,
   "metadata": {
    "scrolled": true
   },
   "outputs": [
    {
     "data": {
      "text/plain": [
       "100"
      ]
     },
     "execution_count": 6,
     "metadata": {},
     "output_type": "execute_result"
    }
   ],
   "source": [
    "env.spec.trials"
   ]
  },
  {
   "cell_type": "code",
   "execution_count": 7,
   "metadata": {},
   "outputs": [
    {
     "data": {
      "text/plain": [
       "475.0"
      ]
     },
     "execution_count": 7,
     "metadata": {},
     "output_type": "execute_result"
    }
   ],
   "source": [
    "env.spec.reward_threshold"
   ]
  },
  {
   "cell_type": "code",
   "execution_count": 9,
   "metadata": {
    "colab": {
     "base_uri": "https://localhost:8080/",
     "height": 3377
    },
    "colab_type": "code",
    "executionInfo": {
     "elapsed": 135196,
     "status": "ok",
     "timestamp": 1534482559393,
     "user": {
      "displayName": "윤승제",
      "photoUrl": "//lh5.googleusercontent.com/-EucKC7DmcQI/AAAAAAAAAAI/AAAAAAAAAGA/gQU1NPEmNFA/s50-c-k-no/photo.jpg",
      "userId": "105654037995838004821"
     },
     "user_tz": -540
    },
    "id": "PnifSBJglzHh",
    "outputId": "94177345-918e-4a96-d9a8-d8aba0a4bc9a",
    "scrolled": false
   },
   "outputs": [
    {
     "name": "stdout",
     "output_type": "stream",
     "text": [
      "  1 Episode in    94 steps, reward 94.00\n",
      "  2 Episode in   594 steps, reward 500.00\n",
      "  3 Episode in   743 steps, reward 149.00\n",
      "  4 Episode in  1243 steps, reward 500.00\n",
      "  5 Episode in  1743 steps, reward 500.00\n",
      "  6 Episode in  2243 steps, reward 500.00\n",
      "  7 Episode in  2743 steps, reward 500.00\n",
      "  8 Episode in  3243 steps, reward 500.00\n",
      "  9 Episode in  3743 steps, reward 500.00\n",
      " 10 Episode in  4243 steps, reward 500.00\n",
      " 11 Episode in  4743 steps, reward 500.00\n",
      " 12 Episode in  5243 steps, reward 500.00\n",
      " 13 Episode in  5347 steps, reward 104.00\n",
      " 14 Episode in  5847 steps, reward 500.00\n",
      " 15 Episode in  6347 steps, reward 500.00\n",
      " 16 Episode in  6847 steps, reward 500.00\n",
      " 17 Episode in  7347 steps, reward 500.00\n",
      " 18 Episode in  7847 steps, reward 500.00\n",
      " 19 Episode in  8347 steps, reward 500.00\n",
      " 20 Episode in  8847 steps, reward 500.00\n",
      " 21 Episode in  9347 steps, reward 500.00\n",
      " 22 Episode in  9847 steps, reward 500.00\n",
      " 23 Episode in 10347 steps, reward 500.00\n",
      " 24 Episode in 10847 steps, reward 500.00\n",
      " 25 Episode in 11347 steps, reward 500.00\n",
      " 26 Episode in 11847 steps, reward 500.00\n",
      " 27 Episode in 12347 steps, reward 500.00\n",
      " 28 Episode in 12847 steps, reward 500.00\n",
      " 29 Episode in 13347 steps, reward 500.00\n",
      " 30 Episode in 13847 steps, reward 500.00\n",
      " 31 Episode in 14347 steps, reward 500.00\n",
      " 32 Episode in 14847 steps, reward 500.00\n",
      " 33 Episode in 15347 steps, reward 500.00\n",
      " 34 Episode in 15847 steps, reward 500.00\n",
      " 35 Episode in 15957 steps, reward 110.00\n",
      " 36 Episode in 16457 steps, reward 500.00\n",
      " 37 Episode in 16957 steps, reward 500.00\n",
      " 38 Episode in 17457 steps, reward 500.00\n",
      " 39 Episode in 17957 steps, reward 500.00\n",
      " 40 Episode in 18457 steps, reward 500.00\n",
      " 41 Episode in 18957 steps, reward 500.00\n",
      " 42 Episode in 19457 steps, reward 500.00\n",
      " 43 Episode in 19957 steps, reward 500.00\n",
      " 44 Episode in 20457 steps, reward 500.00\n",
      " 45 Episode in 20957 steps, reward 500.00\n",
      " 46 Episode in 21457 steps, reward 500.00\n",
      " 47 Episode in 21957 steps, reward 500.00\n",
      " 48 Episode in 22457 steps, reward 500.00\n",
      " 49 Episode in 22957 steps, reward 500.00\n",
      " 50 Episode in 23457 steps, reward 500.00\n",
      " 51 Episode in 23957 steps, reward 500.00\n",
      " 52 Episode in 24457 steps, reward 500.00\n",
      " 53 Episode in 24957 steps, reward 500.00\n",
      " 54 Episode in 25457 steps, reward 500.00\n",
      " 55 Episode in 25957 steps, reward 500.00\n",
      " 56 Episode in 26457 steps, reward 500.00\n",
      " 57 Episode in 26957 steps, reward 500.00\n",
      " 58 Episode in 27457 steps, reward 500.00\n",
      " 59 Episode in 27957 steps, reward 500.00\n",
      " 60 Episode in 28457 steps, reward 500.00\n",
      " 61 Episode in 28957 steps, reward 500.00\n",
      " 62 Episode in 29457 steps, reward 500.00\n",
      " 63 Episode in 29957 steps, reward 500.00\n",
      " 64 Episode in 30457 steps, reward 500.00\n",
      " 65 Episode in 30957 steps, reward 500.00\n",
      " 66 Episode in 31457 steps, reward 500.00\n",
      " 67 Episode in 31957 steps, reward 500.00\n",
      " 68 Episode in 31976 steps, reward 19.00\n",
      " 69 Episode in 32476 steps, reward 500.00\n",
      " 70 Episode in 32976 steps, reward 500.00\n",
      " 71 Episode in 33476 steps, reward 500.00\n",
      " 72 Episode in 33976 steps, reward 500.00\n",
      " 73 Episode in 34476 steps, reward 500.00\n",
      " 74 Episode in 34976 steps, reward 500.00\n",
      " 75 Episode in 35476 steps, reward 500.00\n",
      " 76 Episode in 35976 steps, reward 500.00\n",
      " 77 Episode in 36476 steps, reward 500.00\n",
      " 78 Episode in 36976 steps, reward 500.00\n",
      " 79 Episode in 37476 steps, reward 500.00\n",
      " 80 Episode in 37976 steps, reward 500.00\n",
      " 81 Episode in 38476 steps, reward 500.00\n",
      " 82 Episode in 38976 steps, reward 500.00\n",
      " 83 Episode in 39476 steps, reward 500.00\n",
      " 84 Episode in 39976 steps, reward 500.00\n",
      " 85 Episode in 40476 steps, reward 500.00\n",
      " 86 Episode in 40976 steps, reward 500.00\n",
      " 87 Episode in 41080 steps, reward 104.00\n",
      " 88 Episode in 41562 steps, reward 482.00\n",
      " 89 Episode in 42062 steps, reward 500.00\n",
      " 90 Episode in 42562 steps, reward 500.00\n",
      " 91 Episode in 43062 steps, reward 500.00\n",
      " 92 Episode in 43562 steps, reward 500.00\n",
      " 93 Episode in 44062 steps, reward 500.00\n",
      " 94 Episode in 44562 steps, reward 500.00\n",
      " 95 Episode in 45062 steps, reward 500.00\n",
      " 96 Episode in 45562 steps, reward 500.00\n",
      " 97 Episode in 46062 steps, reward 500.00\n",
      " 98 Episode in 46562 steps, reward 500.00\n",
      " 99 Episode in 47062 steps, reward 500.00\n",
      "100 Episode in 47562 steps, reward 500.00\n",
      "\n",
      "CartPole-v1 is sloved! 100 Episode in 47562 steps\n",
      "475.62\n"
     ]
    }
   ],
   "source": [
    "# play\n",
    "# frames = []\n",
    "for i in range(1, n_episodes + 1):\n",
    "    obs = env.reset()\n",
    "    done = False\n",
    "    ep_reward = 0\n",
    "    while not done:\n",
    "#         frames.append(env.render(mode = 'rgb_array'))\n",
    "        env.render()\n",
    "        if OBS_NORM:\n",
    "            obses.append(obs)\n",
    "            norm_obs.update(np.array(obses))\n",
    "            obs_norm = np.clip(\n",
    "                (obs - norm_obs.mean) / np.sqrt(norm_obs.var + 1e-8),\n",
    "                -5, 5)\n",
    "            action, _ = get_action_and_value(obs_norm, old_net)\n",
    "        else:\n",
    "            action, _ = get_action_and_value(obs, old_net)        \n",
    "        \n",
    "        _obs, reward, done, _ = env.step(action)\n",
    "        obs = _obs\n",
    "        total_steps += 1\n",
    "        ep_reward += reward     \n",
    "\n",
    "    if done:\n",
    "        env.render()\n",
    "        rewards.append(ep_reward)\n",
    "        reward_eval.append(ep_reward)\n",
    "        print('{:3} Episode in {:5} steps, reward {:.2f}'.format(\n",
    "            i, total_steps, ep_reward))\n",
    "#         frames.append(env.render(mode = 'rgb_array'))\n",
    "#         imageio.mimsave(f'{env.spec.id}.gif', frames,)\n",
    "        \n",
    "        if len(reward_eval) >= n_eval:\n",
    "            if np.mean(reward_eval) >= env.spec.reward_threshold:\n",
    "                print('\\n{} is sloved! {:3} Episode in {:3} steps'.format(\n",
    "                    env.spec.id, i, total_steps))\n",
    "                print(np.mean(reward_eval))\n",
    "                break\n",
    "env.close()"
   ]
  },
  {
   "cell_type": "code",
   "execution_count": 10,
   "metadata": {
    "scrolled": false
   },
   "outputs": [
    {
     "data": {
      "image/png": "[encoded data removed]",
      "text/plain": [
       "<Figure size 1080x360 with 1 Axes>"
      ]
     },
     "metadata": {
      "needs_background": "light"
     },
     "output_type": "display_data"
    }
   ],
   "source": [
    "plt.figure(figsize=(15, 5))\n",
    "plt.title('reward')\n",
    "plt.plot(rewards)\n",
    "plt.show()"
   ]
  },
  {
   "cell_type": "code",
   "execution_count": 11,
   "metadata": {},
   "outputs": [
    {
     "data": {
      "text/plain": [
       "[('CartPole-v0', 412, 1),\n",
       " ('CartPole-v1', 452, 0.05),\n",
       " ('MountainCar-v0', 193, 0.1),\n",
       " ('LunarLander-v2', 260, 0.1)]"
      ]
     },
     "execution_count": 11,
     "metadata": {},
     "output_type": "execute_result"
    }
   ],
   "source": [
    "[\n",
    "    ('CartPole-v0', 412, 1),\n",
    "    ('CartPole-v1', 452, 0.05),\n",
    "    ('MountainCar-v0', 193, 0.1),\n",
    "    ('LunarLander-v2', 260, 0.1)\n",
    "]"
   ]
  }
 ],
 "metadata": {
  "colab": {
   "collapsed_sections": [],
   "name": "C51_tensorflow.ipynb",
   "provenance": [],
   "version": "0.3.2"
  },
  "kernelspec": {
   "display_name": "Python 3",
   "language": "python",
   "name": "python3"
  },
  "language_info": {
   "codemirror_mode": {
    "name": "ipython",
    "version": 3
   },
   "file_extension": ".py",
   "mimetype": "text/x-python",
   "name": "python",
   "nbconvert_exporter": "python",
   "pygments_lexer": "ipython3",
   "version": "3.7.0"
  }
 },
 "nbformat": 4,
 "nbformat_minor": 1
}
