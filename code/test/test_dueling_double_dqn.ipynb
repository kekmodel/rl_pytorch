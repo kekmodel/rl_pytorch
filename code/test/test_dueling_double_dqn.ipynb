{
 "cells": [
  {
   "cell_type": "code",
   "execution_count": 1,
   "metadata": {
    "colab": {},
    "colab_type": "code",
    "id": "IWnm3qot3o1W"
   },
   "outputs": [],
   "source": [
    "from collections import deque\n",
    "\n",
    "import gym\n",
    "import imageio\n",
    "import matplotlib.pyplot as plt\n",
    "import numpy as np\n",
    "import torch\n",
    "import torch.nn as nn"
   ]
  },
  {
   "cell_type": "code",
   "execution_count": 2,
   "metadata": {
    "colab": {},
    "colab_type": "code",
    "id": "9Ffkl_5C4R81"
   },
   "outputs": [],
   "source": [
    "class DuelingDQN(nn.Module):\n",
    "    def __init__(self, obs_space, action_space):\n",
    "        super().__init__()\n",
    "\n",
    "        self.head = nn.Sequential(\n",
    "            nn.Linear(obs_space, obs_space*10),\n",
    "            nn.SELU()\n",
    "        )\n",
    "\n",
    "        self.val = nn.Sequential(\n",
    "            nn.Linear(obs_space*10, 512),\n",
    "            nn.SELU(),\n",
    "            nn.Linear(512, 512),\n",
    "            nn.SELU(),\n",
    "            nn.Linear(512, 1)\n",
    "        )\n",
    "\n",
    "        self.adv = nn.Sequential(\n",
    "            nn.Linear(obs_space*10, 512),\n",
    "            nn.SELU(),\n",
    "            nn.Linear(512, 512),\n",
    "            nn.SELU(),\n",
    "            nn.Linear(512, action_space)\n",
    "        )\n",
    "\n",
    "    def forward(self, x):\n",
    "        out = self.head(x)\n",
    "        val_out = self.val(out).reshape(out.shape[0], 1)\n",
    "        adv_out = self.adv(out).reshape(out.shape[0], -1)\n",
    "        adv_mean = adv_out.mean(dim=1, keepdim=True)\n",
    "        q = val_out + adv_out - adv_mean\n",
    "\n",
    "        return q"
   ]
  },
  {
   "cell_type": "code",
   "execution_count": 3,
   "metadata": {},
   "outputs": [],
   "source": [
    "def select_action(obs, tgt_net):\n",
    "    tgt_net.eval()\n",
    "    with torch.no_grad():\n",
    "        state = torch.tensor([obs]).to(device).float()\n",
    "        q = tgt_net(state)\n",
    "        action = torch.argmax(q)\n",
    "\n",
    "    return action.item()"
   ]
  },
  {
   "cell_type": "markdown",
   "metadata": {},
   "source": [
    "## Main"
   ]
  },
  {
   "cell_type": "code",
   "execution_count": 4,
   "metadata": {
    "colab": {
     "base_uri": "https://localhost:8080/",
     "height": 3377
    },
    "colab_type": "code",
    "executionInfo": {
     "elapsed": 135196,
     "status": "ok",
     "timestamp": 1534482559393,
     "user": {
      "displayName": "윤승제",
      "photoUrl": "//lh5.googleusercontent.com/-EucKC7DmcQI/AAAAAAAAAAI/AAAAAAAAAGA/gQU1NPEmNFA/s50-c-k-no/photo.jpg",
      "userId": "105654037995838004821"
     },
     "user_tz": -540
    },
    "id": "PnifSBJglzHh",
    "outputId": "94177345-918e-4a96-d9a8-d8aba0a4bc9a",
    "scrolled": false
   },
   "outputs": [
    {
     "name": "stderr",
     "output_type": "stream",
     "text": [
      "/home/jay/anaconda3/lib/python3.7/site-packages/gym/envs/registration.py:14: PkgResourcesDeprecationWarning: Parameters to load are deprecated.  Call .resolve and .require separately.\n",
      "  result = entry_point.load(False)\n"
     ]
    },
    {
     "name": "stdout",
     "output_type": "stream",
     "text": [
      "\u001b[33mWARN: gym.spaces.Box autodetected dtype as <class 'numpy.float32'>. Please provide explicit dtype.\u001b[0m\n"
     ]
    }
   ],
   "source": [
    "# set device\n",
    "device = torch.device('cuda' if torch.cuda.is_available() else 'cpu')\n",
    "\n",
    "# make an environment\n",
    "# env = gym.make('CartPole-v0')\n",
    "# env = gym.make('CartPole-v1')\n",
    "env = gym.make('MountainCar-v0')\n",
    "# env = gym.make('LunarLander-v2')\n",
    "\n",
    "SEED = 0\n",
    "env.seed(SEED)\n",
    "obs_space = env.observation_space.shape[0]\n",
    "action_space = env.action_space.n\n",
    "\n",
    "# hyperparameter\n",
    "n_episodes = 1000\n",
    "n_eval = env.spec.trials\n",
    "\n",
    "# global values\n",
    "total_steps = 0\n",
    "rewards = []\n",
    "reward_eval = deque(maxlen=n_eval)\n",
    "is_solved = False\n",
    "\n",
    "# load a model\n",
    "target_net = DuelingDQN(obs_space, action_space).to(device)\n",
    "target_net.load_state_dict(torch.load(\n",
    "    './saved_models/MountainCar-v0_ep810_clear_model_dddqn.pt'))"
   ]
  },
  {
   "cell_type": "code",
   "execution_count": 5,
   "metadata": {
    "scrolled": true
   },
   "outputs": [
    {
     "data": {
      "text/plain": [
       "200"
      ]
     },
     "execution_count": 5,
     "metadata": {},
     "output_type": "execute_result"
    }
   ],
   "source": [
    "env.spec.max_episode_steps"
   ]
  },
  {
   "cell_type": "code",
   "execution_count": 6,
   "metadata": {
    "scrolled": true
   },
   "outputs": [
    {
     "data": {
      "text/plain": [
       "100"
      ]
     },
     "execution_count": 6,
     "metadata": {},
     "output_type": "execute_result"
    }
   ],
   "source": [
    "env.spec.trials"
   ]
  },
  {
   "cell_type": "code",
   "execution_count": 7,
   "metadata": {},
   "outputs": [
    {
     "data": {
      "text/plain": [
       "-110.0"
      ]
     },
     "execution_count": 7,
     "metadata": {},
     "output_type": "execute_result"
    }
   ],
   "source": [
    "env.spec.reward_threshold"
   ]
  },
  {
   "cell_type": "code",
   "execution_count": 8,
   "metadata": {},
   "outputs": [],
   "source": [
    "# env.metadata['video.frames_per_second'] = 60"
   ]
  },
  {
   "cell_type": "code",
   "execution_count": 9,
   "metadata": {
    "colab": {
     "base_uri": "https://localhost:8080/",
     "height": 3377
    },
    "colab_type": "code",
    "executionInfo": {
     "elapsed": 135196,
     "status": "ok",
     "timestamp": 1534482559393,
     "user": {
      "displayName": "윤승제",
      "photoUrl": "//lh5.googleusercontent.com/-EucKC7DmcQI/AAAAAAAAAAI/AAAAAAAAAGA/gQU1NPEmNFA/s50-c-k-no/photo.jpg",
      "userId": "105654037995838004821"
     },
     "user_tz": -540
    },
    "id": "PnifSBJglzHh",
    "outputId": "94177345-918e-4a96-d9a8-d8aba0a4bc9a",
    "scrolled": true
   },
   "outputs": [
    {
     "name": "stdout",
     "output_type": "stream",
     "text": [
      "  1 Episode in   113 steps, reward -113.00\n",
      "  2 Episode in   198 steps, reward -85.00\n",
      "  3 Episode in   313 steps, reward -115.00\n",
      "  4 Episode in   427 steps, reward -114.00\n",
      "  5 Episode in   538 steps, reward -111.00\n",
      "  6 Episode in   634 steps, reward -96.00\n",
      "  7 Episode in   752 steps, reward -118.00\n",
      "  8 Episode in   849 steps, reward -97.00\n",
      "  9 Episode in   961 steps, reward -112.00\n",
      " 10 Episode in  1076 steps, reward -115.00\n",
      " 11 Episode in  1189 steps, reward -113.00\n",
      " 12 Episode in  1274 steps, reward -85.00\n",
      " 13 Episode in  1390 steps, reward -116.00\n",
      " 14 Episode in  1505 steps, reward -115.00\n",
      " 15 Episode in  1590 steps, reward -85.00\n",
      " 16 Episode in  1684 steps, reward -94.00\n",
      " 17 Episode in  1800 steps, reward -116.00\n",
      " 18 Episode in  1886 steps, reward -86.00\n",
      " 19 Episode in  1999 steps, reward -113.00\n",
      " 20 Episode in  2085 steps, reward -86.00\n",
      " 21 Episode in  2175 steps, reward -90.00\n",
      " 22 Episode in  2288 steps, reward -113.00\n",
      " 23 Episode in  2405 steps, reward -117.00\n",
      " 24 Episode in  2499 steps, reward -94.00\n",
      " 25 Episode in  2586 steps, reward -87.00\n",
      " 26 Episode in  2675 steps, reward -89.00\n",
      " 27 Episode in  2766 steps, reward -91.00\n",
      " 28 Episode in  2877 steps, reward -111.00\n",
      " 29 Episode in  2992 steps, reward -115.00\n",
      " 30 Episode in  3105 steps, reward -113.00\n",
      " 31 Episode in  3220 steps, reward -115.00\n",
      " 32 Episode in  3336 steps, reward -116.00\n",
      " 33 Episode in  3451 steps, reward -115.00\n",
      " 34 Episode in  3537 steps, reward -86.00\n",
      " 35 Episode in  3655 steps, reward -118.00\n",
      " 36 Episode in  3773 steps, reward -118.00\n",
      " 37 Episode in  3859 steps, reward -86.00\n",
      " 38 Episode in  3975 steps, reward -116.00\n",
      " 39 Episode in  4091 steps, reward -116.00\n",
      " 40 Episode in  4204 steps, reward -113.00\n",
      " 41 Episode in  4321 steps, reward -117.00\n",
      " 42 Episode in  4406 steps, reward -85.00\n",
      " 43 Episode in  4519 steps, reward -113.00\n",
      " 44 Episode in  4633 steps, reward -114.00\n",
      " 45 Episode in  4718 steps, reward -85.00\n",
      " 46 Episode in  4831 steps, reward -113.00\n",
      " 47 Episode in  4917 steps, reward -86.00\n",
      " 48 Episode in  5004 steps, reward -87.00\n",
      " 49 Episode in  5119 steps, reward -115.00\n",
      " 50 Episode in  5205 steps, reward -86.00\n",
      " 51 Episode in  5316 steps, reward -111.00\n",
      " 52 Episode in  5428 steps, reward -112.00\n",
      " 53 Episode in  5514 steps, reward -86.00\n",
      " 54 Episode in  5629 steps, reward -115.00\n",
      " 55 Episode in  5744 steps, reward -115.00\n",
      " 56 Episode in  5859 steps, reward -115.00\n",
      " 57 Episode in  5954 steps, reward -95.00\n",
      " 58 Episode in  6039 steps, reward -85.00\n",
      " 59 Episode in  6123 steps, reward -84.00\n",
      " 60 Episode in  6236 steps, reward -113.00\n",
      " 61 Episode in  6323 steps, reward -87.00\n",
      " 62 Episode in  6435 steps, reward -112.00\n",
      " 63 Episode in  6546 steps, reward -111.00\n",
      " 64 Episode in  6661 steps, reward -115.00\n",
      " 65 Episode in  6776 steps, reward -115.00\n",
      " 66 Episode in  6888 steps, reward -112.00\n",
      " 67 Episode in  6977 steps, reward -89.00\n",
      " 68 Episode in  7093 steps, reward -116.00\n",
      " 69 Episode in  7179 steps, reward -86.00\n",
      " 70 Episode in  7270 steps, reward -91.00\n",
      " 71 Episode in  7381 steps, reward -111.00\n",
      " 72 Episode in  7472 steps, reward -91.00\n",
      " 73 Episode in  7585 steps, reward -113.00\n",
      " 74 Episode in  7702 steps, reward -117.00\n",
      " 75 Episode in  7818 steps, reward -116.00\n",
      " 76 Episode in  7934 steps, reward -116.00\n",
      " 77 Episode in  8049 steps, reward -115.00\n",
      " 78 Episode in  8133 steps, reward -84.00\n",
      " 79 Episode in  8223 steps, reward -90.00\n",
      " 80 Episode in  8320 steps, reward -97.00\n",
      " 81 Episode in  8433 steps, reward -113.00\n",
      " 82 Episode in  8523 steps, reward -90.00\n",
      " 83 Episode in  8636 steps, reward -113.00\n",
      " 84 Episode in  8754 steps, reward -118.00\n",
      " 85 Episode in  8869 steps, reward -115.00\n",
      " 86 Episode in  8984 steps, reward -115.00\n",
      " 87 Episode in  9100 steps, reward -116.00\n",
      " 88 Episode in  9192 steps, reward -92.00\n",
      " 89 Episode in  9310 steps, reward -118.00\n",
      " 90 Episode in  9426 steps, reward -116.00\n",
      " 91 Episode in  9541 steps, reward -115.00\n",
      " 92 Episode in  9652 steps, reward -111.00\n",
      " 93 Episode in  9764 steps, reward -112.00\n",
      " 94 Episode in  9882 steps, reward -118.00\n",
      " 95 Episode in  9978 steps, reward -96.00\n",
      " 96 Episode in 10065 steps, reward -87.00\n",
      " 97 Episode in 10182 steps, reward -117.00\n",
      " 98 Episode in 10270 steps, reward -88.00\n",
      " 99 Episode in 10386 steps, reward -116.00\n",
      "100 Episode in 10499 steps, reward -113.00\n",
      "\n",
      "MountainCar-v0 is sloved! 100 Episode in 10499 steps\n",
      "Mean Reward: -104.99\n"
     ]
    }
   ],
   "source": [
    "# play\n",
    "# frames = []\n",
    "for i in range(1, n_episodes + 1):\n",
    "    obs = env.reset()\n",
    "    done = False\n",
    "    ep_reward = 0\n",
    "    while not done:\n",
    "#         frames.append(env.render(mode = 'rgb_array'))\n",
    "        env.render()\n",
    "        action = select_action(obs, target_net)\n",
    "        _obs, reward, done, _ = env.step(action)\n",
    "        obs = _obs\n",
    "        total_steps += 1\n",
    "        ep_reward += reward     \n",
    "    if done:\n",
    "        env.render()\n",
    "        rewards.append(ep_reward)\n",
    "        reward_eval.append(ep_reward)\n",
    "        print('{:3} Episode in {:5} steps, reward {:.2f}'.format(\n",
    "            i, total_steps, ep_reward))\n",
    "#         frames.append(env.render(mode = 'rgb_array'))\n",
    "#         imageio.mimsave(f'{env.spec.id}.gif', frames,)\n",
    "        \n",
    "        if len(reward_eval) >= n_eval:\n",
    "            if np.mean(reward_eval) >= env.spec.reward_threshold:\n",
    "                print('\\n{} is sloved! {:3} Episode in {:3} steps'.format(\n",
    "                    env.spec.id, i, total_steps))\n",
    "                print(f'Mean Reward: {np.mean(reward_eval).round(decimals=2)}')\n",
    "                break\n",
    "env.close()"
   ]
  },
  {
   "cell_type": "code",
   "execution_count": 10,
   "metadata": {
    "scrolled": false
   },
   "outputs": [
    {
     "data": {
      "image/png": "[encoded data removed]",
      "text/plain": [
       "<Figure size 1080x360 with 1 Axes>"
      ]
     },
     "metadata": {
      "needs_background": "light"
     },
     "output_type": "display_data"
    }
   ],
   "source": [
    "plt.figure(figsize=(15, 5))\n",
    "plt.title('reward')\n",
    "plt.plot(rewards)\n",
    "plt.show()"
   ]
  },
  {
   "cell_type": "code",
   "execution_count": 11,
   "metadata": {},
   "outputs": [
    {
     "data": {
      "text/plain": [
       "[('CartPole-v0', 412, 1),\n",
       " ('CartPole-v1', 452, 0.05),\n",
       " ('MountainCar-v0', 193, 0.1),\n",
       " ('LunarLander-v2', 260, 0.1)]"
      ]
     },
     "execution_count": 11,
     "metadata": {},
     "output_type": "execute_result"
    }
   ],
   "source": [
    "[\n",
    "    ('CartPole-v0', 412, 1),\n",
    "    ('CartPole-v1', 452, 0.05),\n",
    "    ('MountainCar-v0', 193, 0.1),\n",
    "    ('LunarLander-v2', 260, 0.1)\n",
    "]"
   ]
  }
 ],
 "metadata": {
  "colab": {
   "collapsed_sections": [],
   "name": "C51_tensorflow.ipynb",
   "provenance": [],
   "version": "0.3.2"
  },
  "kernelspec": {
   "display_name": "Python 3",
   "language": "python",
   "name": "python3"
  },
  "language_info": {
   "codemirror_mode": {
    "name": "ipython",
    "version": 3
   },
   "file_extension": ".py",
   "mimetype": "text/x-python",
   "name": "python",
   "nbconvert_exporter": "python",
   "pygments_lexer": "ipython3",
   "version": "3.7.0"
  }
 },
 "nbformat": 4,
 "nbformat_minor": 1
}
