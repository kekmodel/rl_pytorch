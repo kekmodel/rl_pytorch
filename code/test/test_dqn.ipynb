{
 "cells": [
  {
   "cell_type": "code",
   "execution_count": 1,
   "metadata": {
    "colab": {},
    "colab_type": "code",
    "id": "IWnm3qot3o1W"
   },
   "outputs": [],
   "source": [
    "from collections import deque\n",
    "\n",
    "import gym\n",
    "import imageio\n",
    "import matplotlib.pyplot as plt\n",
    "import numpy as np\n",
    "import torch\n",
    "import torch.nn as nn"
   ]
  },
  {
   "cell_type": "code",
   "execution_count": 2,
   "metadata": {
    "colab": {},
    "colab_type": "code",
    "id": "9Ffkl_5C4R81"
   },
   "outputs": [],
   "source": [
    "class DQN(nn.Module):\n",
    "    def __init__(self, obs_space, action_space):\n",
    "        super().__init__()\n",
    "\n",
    "        self.head = nn.Sequential(\n",
    "            nn.Linear(obs_space, obs_space*10),\n",
    "            nn.SELU()\n",
    "        )\n",
    "        self.fc = nn.Sequential(\n",
    "            nn.Linear(obs_space*10, 512),\n",
    "            nn.SELU(),\n",
    "            nn.Linear(512, 512),\n",
    "            nn.SELU(),\n",
    "            nn.Linear(512, action_space)\n",
    "        )\n",
    "\n",
    "    def forward(self, x):\n",
    "        out = self.head(x)\n",
    "        q = self.fc(out).reshape(out.shape[0], -1)\n",
    "\n",
    "        return q"
   ]
  },
  {
   "cell_type": "code",
   "execution_count": 3,
   "metadata": {},
   "outputs": [],
   "source": [
    "def select_action(obs, tgt_net):\n",
    "    tgt_net.eval()\n",
    "    with torch.no_grad():\n",
    "        state = torch.tensor([obs]).to(device).float()\n",
    "        q = tgt_net(state)\n",
    "        action = torch.argmax(q)\n",
    "\n",
    "    return action.item()"
   ]
  },
  {
   "cell_type": "markdown",
   "metadata": {},
   "source": [
    "## Main"
   ]
  },
  {
   "cell_type": "code",
   "execution_count": 4,
   "metadata": {
    "colab": {
     "base_uri": "https://localhost:8080/",
     "height": 3377
    },
    "colab_type": "code",
    "executionInfo": {
     "elapsed": 135196,
     "status": "ok",
     "timestamp": 1534482559393,
     "user": {
      "displayName": "윤승제",
      "photoUrl": "//lh5.googleusercontent.com/-EucKC7DmcQI/AAAAAAAAAAI/AAAAAAAAAGA/gQU1NPEmNFA/s50-c-k-no/photo.jpg",
      "userId": "105654037995838004821"
     },
     "user_tz": -540
    },
    "id": "PnifSBJglzHh",
    "outputId": "94177345-918e-4a96-d9a8-d8aba0a4bc9a",
    "scrolled": false
   },
   "outputs": [
    {
     "name": "stderr",
     "output_type": "stream",
     "text": [
      "/home/jay/anaconda3/lib/python3.7/site-packages/gym/envs/registration.py:14: PkgResourcesDeprecationWarning: Parameters to load are deprecated.  Call .resolve and .require separately.\n",
      "  result = entry_point.load(False)\n"
     ]
    },
    {
     "name": "stdout",
     "output_type": "stream",
     "text": [
      "\u001b[33mWARN: gym.spaces.Box autodetected dtype as <class 'numpy.float32'>. Please provide explicit dtype.\u001b[0m\n"
     ]
    }
   ],
   "source": [
    "# set device\n",
    "device = torch.device('cuda' if torch.cuda.is_available() else 'cpu')\n",
    "\n",
    "# make an environment\n",
    "# env = gym.make('CartPole-v0')\n",
    "# env = gym.make('CartPole-v1')\n",
    "env = gym.make('MountainCar-v0')\n",
    "# env = gym.make('LunarLander-v2')\n",
    "\n",
    "SEED = 0\n",
    "env.seed(SEED)\n",
    "obs_space = env.observation_space.shape[0]\n",
    "action_space = env.action_space.n\n",
    "\n",
    "# hyperparameter\n",
    "n_episodes = 1000\n",
    "n_eval = env.spec.trials\n",
    "\n",
    "# global values\n",
    "total_steps = 0\n",
    "rewards = []\n",
    "reward_eval = deque(maxlen=n_eval)\n",
    "is_solved = False\n",
    "\n",
    "# load a model\n",
    "target_net = DQN(obs_space, action_space).to(device)\n",
    "target_net.load_state_dict(torch.load(\n",
    "    './saved_models/MountainCar-v0_ep304_clear_model_dqn.pt'))"
   ]
  },
  {
   "cell_type": "code",
   "execution_count": 5,
   "metadata": {
    "scrolled": true
   },
   "outputs": [
    {
     "data": {
      "text/plain": [
       "200"
      ]
     },
     "execution_count": 5,
     "metadata": {},
     "output_type": "execute_result"
    }
   ],
   "source": [
    "env.spec.max_episode_steps"
   ]
  },
  {
   "cell_type": "code",
   "execution_count": 6,
   "metadata": {
    "scrolled": true
   },
   "outputs": [
    {
     "data": {
      "text/plain": [
       "100"
      ]
     },
     "execution_count": 6,
     "metadata": {},
     "output_type": "execute_result"
    }
   ],
   "source": [
    "env.spec.trials"
   ]
  },
  {
   "cell_type": "code",
   "execution_count": 7,
   "metadata": {},
   "outputs": [
    {
     "data": {
      "text/plain": [
       "-110.0"
      ]
     },
     "execution_count": 7,
     "metadata": {},
     "output_type": "execute_result"
    }
   ],
   "source": [
    "env.spec.reward_threshold"
   ]
  },
  {
   "cell_type": "code",
   "execution_count": 8,
   "metadata": {},
   "outputs": [],
   "source": [
    "# env.metadata['video.frames_per_second'] = 60"
   ]
  },
  {
   "cell_type": "code",
   "execution_count": 9,
   "metadata": {
    "colab": {
     "base_uri": "https://localhost:8080/",
     "height": 3377
    },
    "colab_type": "code",
    "executionInfo": {
     "elapsed": 135196,
     "status": "ok",
     "timestamp": 1534482559393,
     "user": {
      "displayName": "윤승제",
      "photoUrl": "//lh5.googleusercontent.com/-EucKC7DmcQI/AAAAAAAAAAI/AAAAAAAAAGA/gQU1NPEmNFA/s50-c-k-no/photo.jpg",
      "userId": "105654037995838004821"
     },
     "user_tz": -540
    },
    "id": "PnifSBJglzHh",
    "outputId": "94177345-918e-4a96-d9a8-d8aba0a4bc9a",
    "scrolled": true
   },
   "outputs": [
    {
     "name": "stdout",
     "output_type": "stream",
     "text": [
      "  1 Episode in   112 steps, reward -112.00\n",
      "  2 Episode in   196 steps, reward -84.00\n",
      "  3 Episode in   300 steps, reward -104.00\n",
      "  4 Episode in   408 steps, reward -108.00\n",
      "  5 Episode in   520 steps, reward -112.00\n",
      "  6 Episode in   618 steps, reward -98.00\n",
      "  7 Episode in   725 steps, reward -107.00\n",
      "  8 Episode in   824 steps, reward -99.00\n",
      "  9 Episode in   936 steps, reward -112.00\n",
      " 10 Episode in  1093 steps, reward -157.00\n",
      " 11 Episode in  1206 steps, reward -113.00\n",
      " 12 Episode in  1290 steps, reward -84.00\n",
      " 13 Episode in  1397 steps, reward -107.00\n",
      " 14 Episode in  1501 steps, reward -104.00\n",
      " 15 Episode in  1585 steps, reward -84.00\n",
      " 16 Episode in  1681 steps, reward -96.00\n",
      " 17 Episode in  1788 steps, reward -107.00\n",
      " 18 Episode in  1874 steps, reward -86.00\n",
      " 19 Episode in  1987 steps, reward -113.00\n",
      " 20 Episode in  2072 steps, reward -85.00\n",
      " 21 Episode in  2162 steps, reward -90.00\n",
      " 22 Episode in  2275 steps, reward -113.00\n",
      " 23 Episode in  2382 steps, reward -107.00\n",
      " 24 Episode in  2478 steps, reward -96.00\n",
      " 25 Episode in  2565 steps, reward -87.00\n",
      " 26 Episode in  2654 steps, reward -89.00\n",
      " 27 Episode in  2746 steps, reward -92.00\n",
      " 28 Episode in  2857 steps, reward -111.00\n",
      " 29 Episode in  3013 steps, reward -156.00\n",
      " 30 Episode in  3121 steps, reward -108.00\n",
      " 31 Episode in  3229 steps, reward -108.00\n",
      " 32 Episode in  3337 steps, reward -108.00\n",
      " 33 Episode in  3494 steps, reward -157.00\n",
      " 34 Episode in  3580 steps, reward -86.00\n",
      " 35 Episode in  3687 steps, reward -107.00\n",
      " 36 Episode in  3794 steps, reward -107.00\n",
      " 37 Episode in  3879 steps, reward -85.00\n",
      " 38 Episode in  3986 steps, reward -107.00\n",
      " 39 Episode in  4142 steps, reward -156.00\n",
      " 40 Episode in  4250 steps, reward -108.00\n",
      " 41 Episode in  4357 steps, reward -107.00\n",
      " 42 Episode in  4441 steps, reward -84.00\n",
      " 43 Episode in  4555 steps, reward -114.00\n",
      " 44 Episode in  4663 steps, reward -108.00\n",
      " 45 Episode in  4747 steps, reward -84.00\n",
      " 46 Episode in  4855 steps, reward -108.00\n",
      " 47 Episode in  4940 steps, reward -85.00\n",
      " 48 Episode in  5027 steps, reward -87.00\n",
      " 49 Episode in  5187 steps, reward -160.00\n",
      " 50 Episode in  5272 steps, reward -85.00\n",
      " 51 Episode in  5384 steps, reward -112.00\n",
      " 52 Episode in  5495 steps, reward -111.00\n",
      " 53 Episode in  5581 steps, reward -86.00\n",
      " 54 Episode in  5689 steps, reward -108.00\n",
      " 55 Episode in  5797 steps, reward -108.00\n",
      " 56 Episode in  5905 steps, reward -108.00\n",
      " 57 Episode in  6002 steps, reward -97.00\n",
      " 58 Episode in  6087 steps, reward -85.00\n",
      " 59 Episode in  6170 steps, reward -83.00\n",
      " 60 Episode in  6278 steps, reward -108.00\n",
      " 61 Episode in  6364 steps, reward -86.00\n",
      " 62 Episode in  6475 steps, reward -111.00\n",
      " 63 Episode in  6586 steps, reward -111.00\n",
      " 64 Episode in  6695 steps, reward -109.00\n",
      " 65 Episode in  6859 steps, reward -164.00\n",
      " 66 Episode in  6971 steps, reward -112.00\n",
      " 67 Episode in  7060 steps, reward -89.00\n",
      " 68 Episode in  7167 steps, reward -107.00\n",
      " 69 Episode in  7252 steps, reward -85.00\n",
      " 70 Episode in  7344 steps, reward -92.00\n",
      " 71 Episode in  7456 steps, reward -112.00\n",
      " 72 Episode in  7548 steps, reward -92.00\n",
      " 73 Episode in  7661 steps, reward -113.00\n",
      " 74 Episode in  7768 steps, reward -107.00\n",
      " 75 Episode in  7875 steps, reward -107.00\n",
      " 76 Episode in  8029 steps, reward -154.00\n",
      " 77 Episode in  8137 steps, reward -108.00\n",
      " 78 Episode in  8220 steps, reward -83.00\n",
      " 79 Episode in  8310 steps, reward -90.00\n",
      " 80 Episode in  8409 steps, reward -99.00\n",
      " 81 Episode in  8522 steps, reward -113.00\n",
      " 82 Episode in  8612 steps, reward -90.00\n",
      " 83 Episode in  8725 steps, reward -113.00\n",
      " 84 Episode in  8832 steps, reward -107.00\n",
      " 85 Episode in  8936 steps, reward -104.00\n",
      " 86 Episode in  9050 steps, reward -114.00\n",
      " 87 Episode in  9157 steps, reward -107.00\n",
      " 88 Episode in  9249 steps, reward -92.00\n",
      " 89 Episode in  9356 steps, reward -107.00\n",
      " 90 Episode in  9512 steps, reward -156.00\n",
      " 91 Episode in  9620 steps, reward -108.00\n",
      " 92 Episode in  9731 steps, reward -111.00\n",
      " 93 Episode in  9840 steps, reward -109.00\n",
      " 94 Episode in  9947 steps, reward -107.00\n",
      " 95 Episode in 10045 steps, reward -98.00\n",
      " 96 Episode in 10131 steps, reward -86.00\n",
      " 97 Episode in 10238 steps, reward -107.00\n",
      " 98 Episode in 10327 steps, reward -89.00\n",
      " 99 Episode in 10481 steps, reward -154.00\n",
      "100 Episode in 10589 steps, reward -108.00\n",
      "\n",
      "MountainCar-v0 is sloved! 100 Episode in 10589 steps\n",
      "Mean Reward: -105.89\n"
     ]
    }
   ],
   "source": [
    "# play\n",
    "# frames = []\n",
    "for i in range(1, n_episodes + 1):\n",
    "    obs = env.reset()\n",
    "    done = False\n",
    "    ep_reward = 0\n",
    "    while not done:\n",
    "#         frames.append(env.render(mode = 'rgb_array'))\n",
    "        env.render()\n",
    "        action = select_action(obs, target_net)\n",
    "        _obs, reward, done, _ = env.step(action)\n",
    "        obs = _obs\n",
    "        total_steps += 1\n",
    "        ep_reward += reward     \n",
    "    if done:\n",
    "        env.render()\n",
    "        rewards.append(ep_reward)\n",
    "        reward_eval.append(ep_reward)\n",
    "        print('{:3} Episode in {:5} steps, reward {:.2f}'.format(\n",
    "            i, total_steps, ep_reward))\n",
    "#         frames.append(env.render(mode = 'rgb_array'))\n",
    "#         imageio.mimsave(f'{env.spec.id}.gif', frames,)\n",
    "        \n",
    "        if len(reward_eval) >= n_eval:\n",
    "            if np.mean(reward_eval) >= env.spec.reward_threshold:\n",
    "                print('\\n{} is sloved! {:3} Episode in {:3} steps'.format(\n",
    "                    env.spec.id, i, total_steps))\n",
    "                print(f'Mean Reward: {np.mean(reward_eval).round(decimals=2)}')\n",
    "                break\n",
    "env.close()"
   ]
  },
  {
   "cell_type": "code",
   "execution_count": 10,
   "metadata": {
    "scrolled": false
   },
   "outputs": [
    {
     "data": {
      "image/png": "[encoded data removed]",
      "text/plain": [
       "<Figure size 1080x360 with 1 Axes>"
      ]
     },
     "metadata": {
      "needs_background": "light"
     },
     "output_type": "display_data"
    }
   ],
   "source": [
    "plt.figure(figsize=(15, 5))\n",
    "plt.title('reward')\n",
    "plt.plot(rewards)\n",
    "plt.show()"
   ]
  },
  {
   "cell_type": "code",
   "execution_count": 11,
   "metadata": {},
   "outputs": [
    {
     "data": {
      "text/plain": [
       "[('CartPole-v0', 412, 1),\n",
       " ('CartPole-v1', 452, 0.05),\n",
       " ('MountainCar-v0', 193, 0.1),\n",
       " ('LunarLander-v2', 260, 0.1)]"
      ]
     },
     "execution_count": 11,
     "metadata": {},
     "output_type": "execute_result"
    }
   ],
   "source": [
    "[\n",
    "    ('CartPole-v0', 412, 1),\n",
    "    ('CartPole-v1', 452, 0.05),\n",
    "    ('MountainCar-v0', 193, 0.1),\n",
    "    ('LunarLander-v2', 260, 0.1)\n",
    "]"
   ]
  }
 ],
 "metadata": {
  "colab": {
   "collapsed_sections": [],
   "name": "C51_tensorflow.ipynb",
   "provenance": [],
   "version": "0.3.2"
  },
  "kernelspec": {
   "display_name": "Python 3",
   "language": "python",
   "name": "python3"
  },
  "language_info": {
   "codemirror_mode": {
    "name": "ipython",
    "version": 3
   },
   "file_extension": ".py",
   "mimetype": "text/x-python",
   "name": "python",
   "nbconvert_exporter": "python",
   "pygments_lexer": "ipython3",
   "version": "3.7.0"
  }
 },
 "nbformat": 4,
 "nbformat_minor": 1
}
