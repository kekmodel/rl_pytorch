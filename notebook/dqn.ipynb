{
 "cells": [
  {
   "cell_type": "code",
   "execution_count": 1,
   "metadata": {
    "colab": {},
    "colab_type": "code",
    "id": "IWnm3qot3o1W"
   },
   "outputs": [],
   "source": [
    "import random\n",
    "from collections import deque\n",
    "from copy import deepcopy\n",
    "\n",
    "import gym\n",
    "import matplotlib.pyplot as plt\n",
    "import numpy as np\n",
    "import torch\n",
    "import torch.nn as nn\n",
    "import torch.optim as optim\n",
    "from torch.utils.data import DataLoader"
   ]
  },
  {
   "cell_type": "code",
   "execution_count": 2,
   "metadata": {
    "colab": {
     "base_uri": "https://localhost:8080/",
     "height": 35
    },
    "colab_type": "code",
    "executionInfo": {
     "elapsed": 708,
     "status": "ok",
     "timestamp": 1534482400648,
     "user": {
      "displayName": "윤승제",
      "photoUrl": "//lh5.googleusercontent.com/-EucKC7DmcQI/AAAAAAAAAAI/AAAAAAAAAGA/gQU1NPEmNFA/s50-c-k-no/photo.jpg",
      "userId": "105654037995838004821"
     },
     "user_tz": -540
    },
    "id": "maRVADiTlzHD",
    "outputId": "783b7610-95c2-4b54-b2ce-d8e853c484ba"
   },
   "outputs": [],
   "source": [
    "SEED = 1\n",
    "BATCH_SIZE = 256\n",
    "LR = 0.0003\n",
    "UP_COEF = 0.25\n",
    "GAMMA = 0.99\n",
    "EPS = 1e-8\n",
    "\n",
    "# set device\n",
    "use_cuda = torch.cuda.is_available()\n",
    "device = torch.device('cuda' if use_cuda else 'cpu')\n",
    "\n",
    "# random seed\n",
    "random.seed(SEED)\n",
    "np.random.seed(SEED)\n",
    "torch.manual_seed(SEED)\n",
    "if use_cuda:\n",
    "    torch.cuda.manual_seed_all(SEED)"
   ]
  },
  {
   "cell_type": "code",
   "execution_count": 3,
   "metadata": {
    "colab": {},
    "colab_type": "code",
    "id": "9Ffkl_5C4R81"
   },
   "outputs": [],
   "source": [
    "class DQN(nn.Module):\n",
    "    def __init__(self, obs_space, action_space):\n",
    "        super().__init__()\n",
    "\n",
    "        self.head = nn.Sequential(\n",
    "            nn.Linear(obs_space, 256),\n",
    "            nn.SELU(),\n",
    "            nn.Linear(256, 256),\n",
    "            nn.SELU()\n",
    "        )\n",
    "\n",
    "        self.fc = nn.Sequential(\n",
    "            nn.Linear(256, 256),\n",
    "            nn.SELU(),\n",
    "            nn.Linear(256, action_space)\n",
    "        )\n",
    "\n",
    "    def forward(self, x):\n",
    "        out = self.head(x)\n",
    "        q = self.fc(out).reshape(out.shape[0], -1)\n",
    "\n",
    "        return q"
   ]
  },
  {
   "cell_type": "code",
   "execution_count": 4,
   "metadata": {},
   "outputs": [],
   "source": [
    "losses = []\n",
    "\n",
    "\n",
    "def learn(net, tgt_net, optimizer, rep_memory):\n",
    "    global action_space\n",
    "    net.train()\n",
    "    tgt_net.train()\n",
    "\n",
    "    train_data = random.sample(rep_memory, BATCH_SIZE)\n",
    "    dataloader = DataLoader(\n",
    "        train_data, batch_size=BATCH_SIZE, pin_memory=use_cuda)\n",
    "\n",
    "    for i, (s, a, r, _s, d) in enumerate(dataloader):\n",
    "        s_batch = s.to(device).float()\n",
    "        a_batch = a.detach().to(device).long()\n",
    "        _s_batch = _s.to(device).float()\n",
    "        r_batch = r.detach().to(device).float()\n",
    "        done_mask = 1 - d.detach().to(device).float()\n",
    "\n",
    "        with torch.no_grad():\n",
    "            _q_batch_tgt = tgt_net(_s_batch)\n",
    "            _q_acting_tgt = _q_batch_tgt[range(BATCH_SIZE), a_batch]\n",
    "\n",
    "        q_batch = net(s_batch)\n",
    "        q_acting = q_batch[range(BATCH_SIZE), a_batch]\n",
    "\n",
    "        # loss\n",
    "        loss = ((r_batch + GAMMA * done_mask * _q_acting_tgt) - q_acting).pow(2).mean()\n",
    "        losses.append(loss)\n",
    "\n",
    "        optimizer.zero_grad()\n",
    "        loss.backward()\n",
    "        optimizer.step()\n",
    "\n",
    "\n",
    "def select_action(obs, tgt_net):\n",
    "    tgt_net.eval()\n",
    "    with torch.no_grad():\n",
    "        state = torch.tensor([obs]).to(device).float()\n",
    "        q = tgt_net(state)\n",
    "        action = torch.argmax(q)\n",
    "\n",
    "    return action.item()"
   ]
  },
  {
   "cell_type": "markdown",
   "metadata": {},
   "source": [
    "## Main"
   ]
  },
  {
   "cell_type": "code",
   "execution_count": 5,
   "metadata": {
    "colab": {
     "base_uri": "https://localhost:8080/",
     "height": 3377
    },
    "colab_type": "code",
    "executionInfo": {
     "elapsed": 135196,
     "status": "ok",
     "timestamp": 1534482559393,
     "user": {
      "displayName": "윤승제",
      "photoUrl": "//lh5.googleusercontent.com/-EucKC7DmcQI/AAAAAAAAAAI/AAAAAAAAAGA/gQU1NPEmNFA/s50-c-k-no/photo.jpg",
      "userId": "105654037995838004821"
     },
     "user_tz": -540
    },
    "id": "PnifSBJglzHh",
    "outputId": "94177345-918e-4a96-d9a8-d8aba0a4bc9a",
    "scrolled": true
   },
   "outputs": [],
   "source": [
    "# make an environment\n",
    "env = gym.make('CartPole-v0')\n",
    "# env = gym.make('CartPole-v1')\n",
    "# env = gym.make('MountainCar-v0')\n",
    "# env = gym.make('LunarLander-v2')\n",
    "\n",
    "env.seed(SEED)\n",
    "obs_space = env.observation_space.shape[0]\n",
    "action_space = env.action_space.n\n",
    "\n",
    "# hyperparameter\n",
    "n_episodes = 1000\n",
    "learn_start = 1500\n",
    "memory_size = 50000\n",
    "update_frq = 1\n",
    "use_eps_decay = False\n",
    "epsilon = 0.001\n",
    "eps_min = 0.001\n",
    "decay_rate = 0.0001\n",
    "n_eval = env.spec.trials\n",
    "\n",
    "# global values\n",
    "total_steps = 0\n",
    "learn_steps = 0\n",
    "rewards = []\n",
    "reward_eval = deque(maxlen=n_eval)\n",
    "is_learned = False\n",
    "is_solved = False\n",
    "\n",
    "# make two nerual networks\n",
    "net = DQN(obs_space, action_space).to(device)\n",
    "target_net = deepcopy(net)\n",
    "\n",
    "# make optimizer\n",
    "optimizer = optim.Adam(net.parameters(), lr=LR, eps=EPS)\n",
    "\n",
    "# make a memory\n",
    "rep_memory = deque(maxlen=memory_size)"
   ]
  },
  {
   "cell_type": "code",
   "execution_count": 6,
   "metadata": {},
   "outputs": [
    {
     "data": {
      "text/plain": [
       "True"
      ]
     },
     "execution_count": 6,
     "metadata": {},
     "output_type": "execute_result"
    }
   ],
   "source": [
    "use_cuda"
   ]
  },
  {
   "cell_type": "code",
   "execution_count": 7,
   "metadata": {},
   "outputs": [
    {
     "data": {
      "text/plain": [
       "200"
      ]
     },
     "execution_count": 7,
     "metadata": {},
     "output_type": "execute_result"
    }
   ],
   "source": [
    "env.spec.max_episode_steps"
   ]
  },
  {
   "cell_type": "code",
   "execution_count": 8,
   "metadata": {},
   "outputs": [
    {
     "data": {
      "text/plain": [
       "100"
      ]
     },
     "execution_count": 8,
     "metadata": {},
     "output_type": "execute_result"
    }
   ],
   "source": [
    "env.spec.trials"
   ]
  },
  {
   "cell_type": "code",
   "execution_count": 9,
   "metadata": {},
   "outputs": [
    {
     "data": {
      "text/plain": [
       "195.0"
      ]
     },
     "execution_count": 9,
     "metadata": {},
     "output_type": "execute_result"
    }
   ],
   "source": [
    "env.spec.reward_threshold"
   ]
  },
  {
   "cell_type": "code",
   "execution_count": 10,
   "metadata": {
    "colab": {
     "base_uri": "https://localhost:8080/",
     "height": 3377
    },
    "colab_type": "code",
    "executionInfo": {
     "elapsed": 135196,
     "status": "ok",
     "timestamp": 1534482559393,
     "user": {
      "displayName": "윤승제",
      "photoUrl": "//lh5.googleusercontent.com/-EucKC7DmcQI/AAAAAAAAAAI/AAAAAAAAAGA/gQU1NPEmNFA/s50-c-k-no/photo.jpg",
      "userId": "105654037995838004821"
     },
     "user_tz": -540
    },
    "id": "PnifSBJglzHh",
    "outputId": "94177345-918e-4a96-d9a8-d8aba0a4bc9a",
    "scrolled": false
   },
   "outputs": [
    {
     "name": "stdout",
     "output_type": "stream",
     "text": [
      "  1 Episode in    10 steps, reward 10.00\n",
      "  2 Episode in    18 steps, reward 8.00\n",
      "  3 Episode in    28 steps, reward 10.00\n",
      "  4 Episode in    38 steps, reward 10.00\n",
      "  5 Episode in    48 steps, reward 10.00\n",
      "  6 Episode in    58 steps, reward 10.00\n",
      "  7 Episode in    67 steps, reward 9.00\n",
      "  8 Episode in    78 steps, reward 11.00\n",
      "  9 Episode in    88 steps, reward 10.00\n",
      " 10 Episode in    98 steps, reward 10.00\n",
      " 11 Episode in   107 steps, reward 9.00\n",
      " 12 Episode in   115 steps, reward 8.00\n",
      " 13 Episode in   124 steps, reward 9.00\n",
      " 14 Episode in   133 steps, reward 9.00\n",
      " 15 Episode in   143 steps, reward 10.00\n",
      " 16 Episode in   153 steps, reward 10.00\n",
      " 17 Episode in   163 steps, reward 10.00\n",
      " 18 Episode in   172 steps, reward 9.00\n",
      " 19 Episode in   181 steps, reward 9.00\n",
      " 20 Episode in   190 steps, reward 9.00\n",
      " 21 Episode in   198 steps, reward 8.00\n",
      " 22 Episode in   207 steps, reward 9.00\n",
      " 23 Episode in   215 steps, reward 8.00\n",
      " 24 Episode in   226 steps, reward 11.00\n",
      " 25 Episode in   236 steps, reward 10.00\n",
      " 26 Episode in   245 steps, reward 9.00\n",
      " 27 Episode in   254 steps, reward 9.00\n",
      " 28 Episode in   263 steps, reward 9.00\n",
      " 29 Episode in   273 steps, reward 10.00\n",
      " 30 Episode in   282 steps, reward 9.00\n",
      " 31 Episode in   291 steps, reward 9.00\n",
      " 32 Episode in   301 steps, reward 10.00\n",
      " 33 Episode in   310 steps, reward 9.00\n",
      " 34 Episode in   318 steps, reward 8.00\n",
      " 35 Episode in   326 steps, reward 8.00\n",
      " 36 Episode in   334 steps, reward 8.00\n",
      " 37 Episode in   343 steps, reward 9.00\n",
      " 38 Episode in   353 steps, reward 10.00\n",
      " 39 Episode in   363 steps, reward 10.00\n",
      " 40 Episode in   373 steps, reward 10.00\n",
      " 41 Episode in   382 steps, reward 9.00\n",
      " 42 Episode in   392 steps, reward 10.00\n",
      " 43 Episode in   402 steps, reward 10.00\n",
      " 44 Episode in   412 steps, reward 10.00\n",
      " 45 Episode in   421 steps, reward 9.00\n",
      " 46 Episode in   430 steps, reward 9.00\n",
      " 47 Episode in   440 steps, reward 10.00\n",
      " 48 Episode in   449 steps, reward 9.00\n",
      " 49 Episode in   458 steps, reward 9.00\n",
      " 50 Episode in   469 steps, reward 11.00\n",
      " 51 Episode in   479 steps, reward 10.00\n",
      " 52 Episode in   488 steps, reward 9.00\n",
      " 53 Episode in   497 steps, reward 9.00\n",
      " 54 Episode in   506 steps, reward 9.00\n",
      " 55 Episode in   515 steps, reward 9.00\n",
      " 56 Episode in   524 steps, reward 9.00\n",
      " 57 Episode in   534 steps, reward 10.00\n",
      " 58 Episode in   545 steps, reward 11.00\n",
      " 59 Episode in   553 steps, reward 8.00\n",
      " 60 Episode in   563 steps, reward 10.00\n",
      " 61 Episode in   572 steps, reward 9.00\n",
      " 62 Episode in   581 steps, reward 9.00\n",
      " 63 Episode in   590 steps, reward 9.00\n",
      " 64 Episode in   600 steps, reward 10.00\n",
      " 65 Episode in   609 steps, reward 9.00\n",
      " 66 Episode in   619 steps, reward 10.00\n",
      " 67 Episode in   629 steps, reward 10.00\n",
      " 68 Episode in   639 steps, reward 10.00\n",
      " 69 Episode in   648 steps, reward 9.00\n",
      " 70 Episode in   659 steps, reward 11.00\n",
      " 71 Episode in   670 steps, reward 11.00\n",
      " 72 Episode in   679 steps, reward 9.00\n",
      " 73 Episode in   689 steps, reward 10.00\n",
      " 74 Episode in   698 steps, reward 9.00\n",
      " 75 Episode in   707 steps, reward 9.00\n",
      " 76 Episode in   715 steps, reward 8.00\n",
      " 77 Episode in   724 steps, reward 9.00\n",
      " 78 Episode in   733 steps, reward 9.00\n",
      " 79 Episode in   743 steps, reward 10.00\n",
      " 80 Episode in   754 steps, reward 11.00\n",
      " 81 Episode in   763 steps, reward 9.00\n",
      " 82 Episode in   772 steps, reward 9.00\n",
      " 83 Episode in   781 steps, reward 9.00\n",
      " 84 Episode in   791 steps, reward 10.00\n",
      " 85 Episode in   800 steps, reward 9.00\n",
      " 86 Episode in   808 steps, reward 8.00\n",
      " 87 Episode in   818 steps, reward 10.00\n",
      " 88 Episode in   827 steps, reward 9.00\n",
      " 89 Episode in   836 steps, reward 9.00\n",
      " 90 Episode in   845 steps, reward 9.00\n",
      " 91 Episode in   854 steps, reward 9.00\n",
      " 92 Episode in   863 steps, reward 9.00\n",
      " 93 Episode in   872 steps, reward 9.00\n",
      " 94 Episode in   882 steps, reward 10.00\n",
      " 95 Episode in   892 steps, reward 10.00\n",
      " 96 Episode in   900 steps, reward 8.00\n",
      " 97 Episode in   909 steps, reward 9.00\n",
      " 98 Episode in   919 steps, reward 10.00\n",
      " 99 Episode in   928 steps, reward 9.00\n",
      "100 Episode in   936 steps, reward 8.00\n",
      "101 Episode in   945 steps, reward 9.00\n",
      "102 Episode in   954 steps, reward 9.00\n",
      "103 Episode in   964 steps, reward 10.00\n",
      "104 Episode in   974 steps, reward 10.00\n",
      "105 Episode in   983 steps, reward 9.00\n",
      "106 Episode in   992 steps, reward 9.00\n",
      "107 Episode in  1001 steps, reward 9.00\n",
      "108 Episode in  1010 steps, reward 9.00\n",
      "109 Episode in  1020 steps, reward 10.00\n",
      "110 Episode in  1028 steps, reward 8.00\n",
      "111 Episode in  1038 steps, reward 10.00\n",
      "112 Episode in  1048 steps, reward 10.00\n",
      "113 Episode in  1058 steps, reward 10.00\n",
      "114 Episode in  1068 steps, reward 10.00\n",
      "115 Episode in  1078 steps, reward 10.00\n",
      "116 Episode in  1086 steps, reward 8.00\n",
      "117 Episode in  1096 steps, reward 10.00\n",
      "118 Episode in  1105 steps, reward 9.00\n",
      "119 Episode in  1114 steps, reward 9.00\n",
      "120 Episode in  1123 steps, reward 9.00\n",
      "121 Episode in  1134 steps, reward 11.00\n",
      "122 Episode in  1143 steps, reward 9.00\n",
      "123 Episode in  1152 steps, reward 9.00\n",
      "124 Episode in  1160 steps, reward 8.00\n",
      "125 Episode in  1170 steps, reward 10.00\n",
      "126 Episode in  1178 steps, reward 8.00\n",
      "127 Episode in  1186 steps, reward 8.00\n",
      "128 Episode in  1196 steps, reward 10.00\n",
      "129 Episode in  1206 steps, reward 10.00\n",
      "130 Episode in  1214 steps, reward 8.00\n",
      "131 Episode in  1223 steps, reward 9.00\n",
      "132 Episode in  1232 steps, reward 9.00\n",
      "133 Episode in  1241 steps, reward 9.00\n",
      "134 Episode in  1252 steps, reward 11.00\n",
      "135 Episode in  1262 steps, reward 10.00\n",
      "136 Episode in  1273 steps, reward 11.00\n",
      "137 Episode in  1283 steps, reward 10.00\n",
      "138 Episode in  1293 steps, reward 10.00\n",
      "139 Episode in  1301 steps, reward 8.00\n",
      "140 Episode in  1309 steps, reward 8.00\n",
      "141 Episode in  1317 steps, reward 8.00\n",
      "142 Episode in  1326 steps, reward 9.00\n",
      "143 Episode in  1336 steps, reward 10.00\n",
      "144 Episode in  1347 steps, reward 11.00\n",
      "145 Episode in  1356 steps, reward 9.00\n",
      "146 Episode in  1365 steps, reward 9.00\n",
      "147 Episode in  1374 steps, reward 9.00\n",
      "148 Episode in  1384 steps, reward 10.00\n",
      "149 Episode in  1393 steps, reward 9.00\n",
      "150 Episode in  1404 steps, reward 11.00\n",
      "151 Episode in  1414 steps, reward 10.00\n",
      "152 Episode in  1423 steps, reward 9.00\n",
      "153 Episode in  1432 steps, reward 9.00\n",
      "154 Episode in  1441 steps, reward 9.00\n",
      "155 Episode in  1451 steps, reward 10.00\n",
      "156 Episode in  1460 steps, reward 9.00\n",
      "157 Episode in  1468 steps, reward 8.00\n",
      "158 Episode in  1479 steps, reward 11.00\n",
      "159 Episode in  1489 steps, reward 10.00\n",
      "160 Episode in  1498 steps, reward 9.00\n",
      "\n",
      "============  Start Learning  ============\n",
      "\n",
      "161 Episode in  1508 steps, reward 10.00\n",
      "162 Episode in  1516 steps, reward 8.00\n",
      "163 Episode in  1526 steps, reward 10.00\n",
      "164 Episode in  1535 steps, reward 9.00\n",
      "165 Episode in  1544 steps, reward 9.00\n",
      "166 Episode in  1554 steps, reward 10.00\n",
      "167 Episode in  1564 steps, reward 10.00\n",
      "168 Episode in  1574 steps, reward 10.00\n",
      "169 Episode in  1584 steps, reward 10.00\n",
      "170 Episode in  1593 steps, reward 9.00\n",
      "171 Episode in  1603 steps, reward 10.00\n",
      "172 Episode in  1613 steps, reward 10.00\n",
      "173 Episode in  1621 steps, reward 8.00\n",
      "174 Episode in  1630 steps, reward 9.00\n",
      "175 Episode in  1638 steps, reward 8.00\n",
      "176 Episode in  1648 steps, reward 10.00\n",
      "177 Episode in  1656 steps, reward 8.00\n",
      "178 Episode in  1666 steps, reward 10.00\n",
      "179 Episode in  1676 steps, reward 10.00\n",
      "180 Episode in  1686 steps, reward 10.00\n",
      "181 Episode in  1695 steps, reward 9.00\n",
      "182 Episode in  1704 steps, reward 9.00\n",
      "183 Episode in  1714 steps, reward 10.00\n",
      "184 Episode in  1723 steps, reward 9.00\n",
      "185 Episode in  1749 steps, reward 26.00\n",
      "186 Episode in  1758 steps, reward 9.00\n",
      "187 Episode in  1768 steps, reward 10.00\n",
      "188 Episode in  1777 steps, reward 9.00\n",
      "189 Episode in  1786 steps, reward 9.00\n",
      "190 Episode in  1794 steps, reward 8.00\n",
      "191 Episode in  1807 steps, reward 13.00\n",
      "192 Episode in  1820 steps, reward 13.00\n",
      "193 Episode in  1837 steps, reward 17.00\n",
      "194 Episode in  1919 steps, reward 82.00\n",
      "195 Episode in  1959 steps, reward 40.00\n",
      "196 Episode in  2011 steps, reward 52.00\n",
      "197 Episode in  2051 steps, reward 40.00\n",
      "198 Episode in  2095 steps, reward 44.00\n",
      "199 Episode in  2191 steps, reward 96.00\n",
      "200 Episode in  2391 steps, reward 200.00\n",
      "201 Episode in  2591 steps, reward 200.00\n",
      "202 Episode in  2791 steps, reward 200.00\n"
     ]
    },
    {
     "name": "stdout",
     "output_type": "stream",
     "text": [
      "203 Episode in  2991 steps, reward 200.00\n",
      "204 Episode in  3191 steps, reward 200.00\n",
      "205 Episode in  3391 steps, reward 200.00\n",
      "206 Episode in  3591 steps, reward 200.00\n",
      "207 Episode in  3791 steps, reward 200.00\n",
      "208 Episode in  3991 steps, reward 200.00\n",
      "209 Episode in  4191 steps, reward 200.00\n",
      "210 Episode in  4391 steps, reward 200.00\n",
      "211 Episode in  4591 steps, reward 200.00\n",
      "212 Episode in  4773 steps, reward 182.00\n",
      "213 Episode in  4895 steps, reward 122.00\n",
      "214 Episode in  5070 steps, reward 175.00\n",
      "215 Episode in  5270 steps, reward 200.00\n",
      "216 Episode in  5470 steps, reward 200.00\n",
      "217 Episode in  5603 steps, reward 133.00\n",
      "218 Episode in  5754 steps, reward 151.00\n",
      "219 Episode in  5952 steps, reward 198.00\n",
      "220 Episode in  6140 steps, reward 188.00\n",
      "221 Episode in  6337 steps, reward 197.00\n",
      "222 Episode in  6537 steps, reward 200.00\n",
      "223 Episode in  6732 steps, reward 195.00\n",
      "224 Episode in  6932 steps, reward 200.00\n",
      "225 Episode in  7132 steps, reward 200.00\n",
      "226 Episode in  7332 steps, reward 200.00\n",
      "227 Episode in  7532 steps, reward 200.00\n",
      "228 Episode in  7729 steps, reward 197.00\n",
      "229 Episode in  7929 steps, reward 200.00\n",
      "230 Episode in  8109 steps, reward 180.00\n",
      "231 Episode in  8285 steps, reward 176.00\n",
      "232 Episode in  8485 steps, reward 200.00\n",
      "233 Episode in  8685 steps, reward 200.00\n",
      "234 Episode in  8885 steps, reward 200.00\n",
      "235 Episode in  9085 steps, reward 200.00\n",
      "236 Episode in  9285 steps, reward 200.00\n",
      "237 Episode in  9485 steps, reward 200.00\n",
      "238 Episode in  9670 steps, reward 185.00\n",
      "239 Episode in  9870 steps, reward 200.00\n",
      "240 Episode in 10070 steps, reward 200.00\n",
      "241 Episode in 10270 steps, reward 200.00\n",
      "242 Episode in 10470 steps, reward 200.00\n",
      "243 Episode in 10670 steps, reward 200.00\n",
      "244 Episode in 10870 steps, reward 200.00\n",
      "245 Episode in 11070 steps, reward 200.00\n",
      "246 Episode in 11270 steps, reward 200.00\n",
      "247 Episode in 11465 steps, reward 195.00\n",
      "248 Episode in 11665 steps, reward 200.00\n",
      "249 Episode in 11865 steps, reward 200.00\n",
      "250 Episode in 12065 steps, reward 200.00\n",
      "251 Episode in 12265 steps, reward 200.00\n",
      "252 Episode in 12465 steps, reward 200.00\n",
      "253 Episode in 12665 steps, reward 200.00\n",
      "254 Episode in 12865 steps, reward 200.00\n",
      "255 Episode in 13065 steps, reward 200.00\n",
      "256 Episode in 13237 steps, reward 172.00\n",
      "257 Episode in 13437 steps, reward 200.00\n",
      "258 Episode in 13637 steps, reward 200.00\n",
      "259 Episode in 13808 steps, reward 171.00\n",
      "260 Episode in 13954 steps, reward 146.00\n",
      "261 Episode in 14154 steps, reward 200.00\n",
      "262 Episode in 14354 steps, reward 200.00\n",
      "263 Episode in 14554 steps, reward 200.00\n",
      "264 Episode in 14754 steps, reward 200.00\n",
      "265 Episode in 14954 steps, reward 200.00\n",
      "266 Episode in 15154 steps, reward 200.00\n",
      "267 Episode in 15354 steps, reward 200.00\n",
      "268 Episode in 15554 steps, reward 200.00\n",
      "269 Episode in 15754 steps, reward 200.00\n",
      "270 Episode in 15954 steps, reward 200.00\n",
      "271 Episode in 16154 steps, reward 200.00\n",
      "272 Episode in 16354 steps, reward 200.00\n",
      "273 Episode in 16554 steps, reward 200.00\n",
      "274 Episode in 16749 steps, reward 195.00\n",
      "275 Episode in 16930 steps, reward 181.00\n",
      "276 Episode in 17130 steps, reward 200.00\n",
      "277 Episode in 17330 steps, reward 200.00\n",
      "278 Episode in 17530 steps, reward 200.00\n",
      "279 Episode in 17730 steps, reward 200.00\n",
      "280 Episode in 17930 steps, reward 200.00\n",
      "281 Episode in 18130 steps, reward 200.00\n",
      "282 Episode in 18330 steps, reward 200.00\n",
      "283 Episode in 18530 steps, reward 200.00\n",
      "284 Episode in 18730 steps, reward 200.00\n",
      "285 Episode in 18930 steps, reward 200.00\n",
      "286 Episode in 19130 steps, reward 200.00\n",
      "287 Episode in 19320 steps, reward 190.00\n",
      "288 Episode in 19520 steps, reward 200.00\n",
      "289 Episode in 19720 steps, reward 200.00\n",
      "290 Episode in 19920 steps, reward 200.00\n",
      "291 Episode in 20120 steps, reward 200.00\n",
      "292 Episode in 20320 steps, reward 200.00\n",
      "293 Episode in 20520 steps, reward 200.00\n",
      "294 Episode in 20720 steps, reward 200.00\n",
      "295 Episode in 20920 steps, reward 200.00\n",
      "296 Episode in 21120 steps, reward 200.00\n",
      "297 Episode in 21320 steps, reward 200.00\n",
      "298 Episode in 21520 steps, reward 200.00\n",
      "299 Episode in 21720 steps, reward 200.00\n",
      "\n",
      "CartPole-v0 is sloved! 299 Episode in 21720 steps\n"
     ]
    }
   ],
   "source": [
    "# play\n",
    "for i in range(1, n_episodes + 1):\n",
    "    obs = env.reset()\n",
    "    done = False\n",
    "    ep_reward = 0\n",
    "    while not done:\n",
    "#         env.render()\n",
    "        if np.random.rand() < epsilon:\n",
    "            action = env.action_space.sample()\n",
    "        else:\n",
    "            action = select_action(obs, target_net)\n",
    "\n",
    "        _obs, reward, done, _ = env.step(action)\n",
    "\n",
    "        rep_memory.append((obs, action, reward, _obs, done))\n",
    "\n",
    "        obs = _obs\n",
    "        total_steps += 1\n",
    "        ep_reward += reward\n",
    "\n",
    "        if use_eps_decay:\n",
    "            epsilon -= epsilon * decay_rate\n",
    "            epsilon = max(eps_min, epsilon)\n",
    "\n",
    "        if len(rep_memory) >= learn_start:\n",
    "            if len(rep_memory) == learn_start:\n",
    "                print('\\n============  Start Learning  ============\\n')\n",
    "            learn(net, target_net, optimizer, rep_memory)\n",
    "            learn_steps += 1\n",
    "\n",
    "        if learn_steps == update_frq:\n",
    "            # target smoothing update\n",
    "            for t, n in zip(target_net.parameters(), net.parameters()):\n",
    "                t.data = UP_COEF * n.data + (1 - UP_COEF) * t.data\n",
    "            learn_steps = 0\n",
    "    if done:\n",
    "        rewards.append(ep_reward)\n",
    "        reward_eval.append(ep_reward)\n",
    "        print('{:3} Episode in {:5} steps, reward {:.2f}'.format(\n",
    "            i, total_steps, ep_reward))\n",
    "\n",
    "        if len(reward_eval) >= n_eval:\n",
    "            if np.mean(reward_eval) >= env.spec.reward_threshold:\n",
    "                print('\\n{} is sloved! {:3} Episode in {:3} steps'.format(\n",
    "                    env.spec.id, i, total_steps))\n",
    "                torch.save(target_net.state_dict(),\n",
    "                           f'./test/saved_models/{env.spec.id}_ep{i}_clear_model_dqn.pt')\n",
    "                break\n",
    "env.close()"
   ]
  },
  {
   "cell_type": "code",
   "execution_count": 11,
   "metadata": {
    "scrolled": false
   },
   "outputs": [
    {
     "data": {
      "image/png": "[encoded data removed]",
      "text/plain": [
       "<Figure size 1080x360 with 1 Axes>"
      ]
     },
     "metadata": {
      "needs_background": "light"
     },
     "output_type": "display_data"
    },
    {
     "data": {
      "image/png": "[encoded data removed]",
      "text/plain": [
       "<Figure size 1080x360 with 1 Axes>"
      ]
     },
     "metadata": {
      "needs_background": "light"
     },
     "output_type": "display_data"
    }
   ],
   "source": [
    "plt.figure(figsize=(15, 5))\n",
    "plt.title('Reward')\n",
    "plt.plot(rewards)\n",
    "plt.figure(figsize=(15, 5))\n",
    "plt.title('Loss')\n",
    "plt.plot(losses)\n",
    "plt.show()"
   ]
  },
  {
   "cell_type": "code",
   "execution_count": 12,
   "metadata": {},
   "outputs": [
    {
     "data": {
      "text/plain": [
       "[('CartPole-v0', 299, 0.25),\n",
       " ('CartPole-v1', 413, 0.025),\n",
       " ('MountainCar-v0', None, 0.05)]"
      ]
     },
     "execution_count": 12,
     "metadata": {},
     "output_type": "execute_result"
    }
   ],
   "source": [
    "[\n",
    "    ('CartPole-v0', 299, 0.25),\n",
    "    ('CartPole-v1', 413, 0.025),\n",
    "    ('MountainCar-v0', None ,0.05)\n",
    "]"
   ]
  }
 ],
 "metadata": {
  "colab": {
   "collapsed_sections": [],
   "name": "C51_tensorflow.ipynb",
   "provenance": [],
   "version": "0.3.2"
  },
  "kernelspec": {
   "display_name": "Python 3",
   "language": "python",
   "name": "python3"
  },
  "language_info": {
   "codemirror_mode": {
    "name": "ipython",
    "version": 3
   },
   "file_extension": ".py",
   "mimetype": "text/x-python",
   "name": "python",
   "nbconvert_exporter": "python",
   "pygments_lexer": "ipython3",
   "version": "3.6.6"
  }
 },
 "nbformat": 4,
 "nbformat_minor": 1
}
