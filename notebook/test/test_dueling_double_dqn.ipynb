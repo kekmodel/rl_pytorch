{
 "cells": [
  {
   "cell_type": "code",
   "execution_count": 1,
   "metadata": {
    "colab": {},
    "colab_type": "code",
    "id": "IWnm3qot3o1W"
   },
   "outputs": [],
   "source": [
    "from collections import deque\n",
    "\n",
    "import gym\n",
    "import imageio\n",
    "import matplotlib.pyplot as plt\n",
    "import numpy as np\n",
    "import torch\n",
    "import torch.nn as nn"
   ]
  },
  {
   "cell_type": "code",
   "execution_count": 2,
   "metadata": {
    "colab": {},
    "colab_type": "code",
    "id": "9Ffkl_5C4R81"
   },
   "outputs": [],
   "source": [
    "class DuelingDQN(nn.Module):\n",
    "    def __init__(self, obs_space, action_space):\n",
    "        super().__init__()\n",
    "\n",
    "        self.head = nn.Sequential(\n",
    "            nn.Linear(obs_space, 256),\n",
    "            nn.SELU(),\n",
    "#             nn.Linear(256, 256),\n",
    "#             nn.SELU()\n",
    "        )\n",
    "\n",
    "        self.val = nn.Sequential(\n",
    "            nn.Linear(256, 256),\n",
    "            nn.SELU(),\n",
    "            nn.Linear(256, 1)\n",
    "        )\n",
    "\n",
    "        self.adv = nn.Sequential(\n",
    "            nn.Linear(256, 256),\n",
    "            nn.SELU(),\n",
    "            nn.Linear(256, action_space)\n",
    "        )\n",
    "\n",
    "    def forward(self, x):\n",
    "        out = self.head(x)\n",
    "        val_out = self.val(out).reshape(out.shape[0], 1)\n",
    "        adv_out = self.adv(out).reshape(out.shape[0], -1)\n",
    "        adv_mean = adv_out.mean(dim=1, keepdim=True)\n",
    "        q = val_out + adv_out - adv_mean\n",
    "\n",
    "        return q"
   ]
  },
  {
   "cell_type": "code",
   "execution_count": 3,
   "metadata": {},
   "outputs": [],
   "source": [
    "def select_action(obs, tgt_net):\n",
    "    tgt_net.eval()\n",
    "    with torch.no_grad():\n",
    "        state = torch.tensor([obs]).to(device).float()\n",
    "        q = tgt_net(state)\n",
    "        action = torch.argmax(q)\n",
    "\n",
    "    return action.item()"
   ]
  },
  {
   "cell_type": "markdown",
   "metadata": {},
   "source": [
    "## Main"
   ]
  },
  {
   "cell_type": "code",
   "execution_count": 4,
   "metadata": {
    "colab": {
     "base_uri": "https://localhost:8080/",
     "height": 3377
    },
    "colab_type": "code",
    "executionInfo": {
     "elapsed": 135196,
     "status": "ok",
     "timestamp": 1534482559393,
     "user": {
      "displayName": "윤승제",
      "photoUrl": "//lh5.googleusercontent.com/-EucKC7DmcQI/AAAAAAAAAAI/AAAAAAAAAGA/gQU1NPEmNFA/s50-c-k-no/photo.jpg",
      "userId": "105654037995838004821"
     },
     "user_tz": -540
    },
    "id": "PnifSBJglzHh",
    "outputId": "94177345-918e-4a96-d9a8-d8aba0a4bc9a",
    "scrolled": false
   },
   "outputs": [
    {
     "name": "stderr",
     "output_type": "stream",
     "text": [
      "/home/jay/anaconda3/lib/python3.6/site-packages/gym/__init__.py:22: UserWarning: DEPRECATION WARNING: to improve load times, gym no longer automatically loads gym.spaces. Please run \"import gym.spaces\" to load gym.spaces on your own. This warning will turn into an error in a future version of gym.\n",
      "  warnings.warn('DEPRECATION WARNING: to improve load times, gym no longer automatically loads gym.spaces. Please run \"import gym.spaces\" to load gym.spaces on your own. This warning will turn into an error in a future version of gym.')\n"
     ]
    },
    {
     "name": "stdout",
     "output_type": "stream",
     "text": [
      "\u001b[33mWARN: gym.spaces.Box autodetected dtype as <class 'numpy.float32'>. Please provide explicit dtype.\u001b[0m\n"
     ]
    }
   ],
   "source": [
    "# set device\n",
    "device = torch.device('cuda' if torch.cuda.is_available() else 'cpu')\n",
    "\n",
    "# make an environment\n",
    "# env = gym.make('CartPole-v0')\n",
    "# env = gym.make('CartPole-v1')\n",
    "env = gym.make('MountainCar-v0')\n",
    "# env = gym.make('LunarLander-v2')\n",
    "\n",
    "SEED = 0\n",
    "env.seed(SEED)\n",
    "obs_space = env.observation_space.shape[0]\n",
    "action_space = env.action_space.n\n",
    "\n",
    "# hyperparameter\n",
    "n_episodes = 1000\n",
    "n_eval = env.spec.trials\n",
    "\n",
    "# global values\n",
    "total_steps = 0\n",
    "rewards = []\n",
    "reward_eval = deque(maxlen=n_eval)\n",
    "is_solved = False\n",
    "\n",
    "# load a model\n",
    "target_net = DuelingDQN(obs_space, action_space).to(device)\n",
    "target_net.load_state_dict(torch.load(\n",
    "    './saved_models/MountainCar-v0_ep623_clear_model_dddqn.pt'))"
   ]
  },
  {
   "cell_type": "code",
   "execution_count": 5,
   "metadata": {
    "scrolled": true
   },
   "outputs": [
    {
     "data": {
      "text/plain": [
       "200"
      ]
     },
     "execution_count": 5,
     "metadata": {},
     "output_type": "execute_result"
    }
   ],
   "source": [
    "env.spec.max_episode_steps"
   ]
  },
  {
   "cell_type": "code",
   "execution_count": 6,
   "metadata": {
    "scrolled": true
   },
   "outputs": [
    {
     "data": {
      "text/plain": [
       "100"
      ]
     },
     "execution_count": 6,
     "metadata": {},
     "output_type": "execute_result"
    }
   ],
   "source": [
    "env.spec.trials"
   ]
  },
  {
   "cell_type": "code",
   "execution_count": 7,
   "metadata": {},
   "outputs": [
    {
     "data": {
      "text/plain": [
       "-110.0"
      ]
     },
     "execution_count": 7,
     "metadata": {},
     "output_type": "execute_result"
    }
   ],
   "source": [
    "env.spec.reward_threshold"
   ]
  },
  {
   "cell_type": "code",
   "execution_count": 8,
   "metadata": {},
   "outputs": [],
   "source": [
    "# env.metadata['video.frames_per_second'] = 60"
   ]
  },
  {
   "cell_type": "code",
   "execution_count": 9,
   "metadata": {
    "colab": {
     "base_uri": "https://localhost:8080/",
     "height": 3377
    },
    "colab_type": "code",
    "executionInfo": {
     "elapsed": 135196,
     "status": "ok",
     "timestamp": 1534482559393,
     "user": {
      "displayName": "윤승제",
      "photoUrl": "//lh5.googleusercontent.com/-EucKC7DmcQI/AAAAAAAAAAI/AAAAAAAAAGA/gQU1NPEmNFA/s50-c-k-no/photo.jpg",
      "userId": "105654037995838004821"
     },
     "user_tz": -540
    },
    "id": "PnifSBJglzHh",
    "outputId": "94177345-918e-4a96-d9a8-d8aba0a4bc9a",
    "scrolled": true
   },
   "outputs": [
    {
     "name": "stdout",
     "output_type": "stream",
     "text": [
      "  1 Episode in   113 steps, reward -113.00\n",
      "  2 Episode in   197 steps, reward -84.00\n",
      "  3 Episode in   304 steps, reward -107.00\n",
      "  4 Episode in   415 steps, reward -111.00\n",
      "  5 Episode in   529 steps, reward -114.00\n",
      "  6 Episode in   636 steps, reward -107.00\n",
      "  7 Episode in   745 steps, reward -109.00\n",
      "  8 Episode in   852 steps, reward -107.00\n",
      "  9 Episode in   965 steps, reward -113.00\n",
      " 10 Episode in  1073 steps, reward -108.00\n",
      " 11 Episode in  1186 steps, reward -113.00\n",
      " 12 Episode in  1270 steps, reward -84.00\n",
      " 13 Episode in  1379 steps, reward -109.00\n",
      " 14 Episode in  1486 steps, reward -107.00\n",
      " 15 Episode in  1570 steps, reward -84.00\n",
      " 16 Episode in  1676 steps, reward -106.00\n",
      " 17 Episode in  1785 steps, reward -109.00\n",
      " 18 Episode in  1889 steps, reward -104.00\n",
      " 19 Episode in  2002 steps, reward -113.00\n",
      " 20 Episode in  2105 steps, reward -103.00\n",
      " 21 Episode in  2211 steps, reward -106.00\n",
      " 22 Episode in  2324 steps, reward -113.00\n",
      " 23 Episode in  2433 steps, reward -109.00\n",
      " 24 Episode in  2540 steps, reward -107.00\n",
      " 25 Episode in  2645 steps, reward -105.00\n",
      " 26 Episode in  2751 steps, reward -106.00\n",
      " 27 Episode in  2857 steps, reward -106.00\n",
      " 28 Episode in  2971 steps, reward -114.00\n",
      " 29 Episode in  3079 steps, reward -108.00\n",
      " 30 Episode in  3194 steps, reward -115.00\n",
      " 31 Episode in  3304 steps, reward -110.00\n",
      " 32 Episode in  3413 steps, reward -109.00\n",
      " 33 Episode in  3521 steps, reward -108.00\n",
      " 34 Episode in  3625 steps, reward -104.00\n",
      " 35 Episode in  3734 steps, reward -109.00\n",
      " 36 Episode in  3843 steps, reward -109.00\n",
      " 37 Episode in  3947 steps, reward -104.00\n",
      " 38 Episode in  4056 steps, reward -109.00\n",
      " 39 Episode in  4165 steps, reward -109.00\n",
      " 40 Episode in  4280 steps, reward -115.00\n",
      " 41 Episode in  4389 steps, reward -109.00\n",
      " 42 Episode in  4473 steps, reward -84.00\n",
      " 43 Episode in  4586 steps, reward -113.00\n",
      " 44 Episode in  4701 steps, reward -115.00\n",
      " 45 Episode in  4785 steps, reward -84.00\n",
      " 46 Episode in  4900 steps, reward -115.00\n",
      " 47 Episode in  5004 steps, reward -104.00\n",
      " 48 Episode in  5109 steps, reward -105.00\n",
      " 49 Episode in  5217 steps, reward -108.00\n",
      " 50 Episode in  5321 steps, reward -104.00\n",
      " 51 Episode in  5434 steps, reward -113.00\n",
      " 52 Episode in  5548 steps, reward -114.00\n",
      " 53 Episode in  5652 steps, reward -104.00\n",
      " 54 Episode in  5762 steps, reward -110.00\n",
      " 55 Episode in  5872 steps, reward -110.00\n",
      " 56 Episode in  5982 steps, reward -110.00\n",
      " 57 Episode in  6089 steps, reward -107.00\n",
      " 58 Episode in  6174 steps, reward -85.00\n",
      " 59 Episode in  6258 steps, reward -84.00\n",
      " 60 Episode in  6373 steps, reward -115.00\n",
      " 61 Episode in  6478 steps, reward -105.00\n",
      " 62 Episode in  6592 steps, reward -114.00\n",
      " 63 Episode in  6706 steps, reward -114.00\n",
      " 64 Episode in  6813 steps, reward -107.00\n",
      " 65 Episode in  6921 steps, reward -108.00\n",
      " 66 Episode in  7035 steps, reward -114.00\n",
      " 67 Episode in  7141 steps, reward -106.00\n",
      " 68 Episode in  7250 steps, reward -109.00\n",
      " 69 Episode in  7353 steps, reward -103.00\n",
      " 70 Episode in  7459 steps, reward -106.00\n",
      " 71 Episode in  7573 steps, reward -114.00\n",
      " 72 Episode in  7679 steps, reward -106.00\n",
      " 73 Episode in  7792 steps, reward -113.00\n",
      " 74 Episode in  7901 steps, reward -109.00\n",
      " 75 Episode in  8010 steps, reward -109.00\n",
      " 76 Episode in  8119 steps, reward -109.00\n",
      " 77 Episode in  8229 steps, reward -110.00\n",
      " 78 Episode in  8313 steps, reward -84.00\n",
      " 79 Episode in  8419 steps, reward -106.00\n",
      " 80 Episode in  8526 steps, reward -107.00\n",
      " 81 Episode in  8639 steps, reward -113.00\n",
      " 82 Episode in  8745 steps, reward -106.00\n",
      " 83 Episode in  8858 steps, reward -113.00\n",
      " 84 Episode in  8967 steps, reward -109.00\n",
      " 85 Episode in  9074 steps, reward -107.00\n",
      " 86 Episode in  9181 steps, reward -107.00\n",
      " 87 Episode in  9290 steps, reward -109.00\n",
      " 88 Episode in  9396 steps, reward -106.00\n",
      " 89 Episode in  9505 steps, reward -109.00\n",
      " 90 Episode in  9614 steps, reward -109.00\n",
      " 91 Episode in  9724 steps, reward -110.00\n",
      " 92 Episode in  9838 steps, reward -114.00\n",
      " 93 Episode in  9952 steps, reward -114.00\n",
      " 94 Episode in 10061 steps, reward -109.00\n",
      " 95 Episode in 10168 steps, reward -107.00\n",
      " 96 Episode in 10272 steps, reward -104.00\n",
      " 97 Episode in 10381 steps, reward -109.00\n",
      " 98 Episode in 10486 steps, reward -105.00\n",
      " 99 Episode in 10595 steps, reward -109.00\n",
      "100 Episode in 10710 steps, reward -115.00\n",
      "\n",
      "MountainCar-v0 is sloved! 100 Episode in 10710 steps\n",
      "-107.1\n"
     ]
    }
   ],
   "source": [
    "# play\n",
    "# frames = []\n",
    "for i in range(1, n_episodes + 1):\n",
    "    obs = env.reset()\n",
    "    done = False\n",
    "    ep_reward = 0\n",
    "    while not done:\n",
    "#         frames.append(env.render(mode = 'rgb_array'))\n",
    "        env.render()\n",
    "        action = select_action(obs, target_net)\n",
    "        _obs, reward, done, _ = env.step(action)\n",
    "        obs = _obs\n",
    "        total_steps += 1\n",
    "        ep_reward += reward     \n",
    "    if done:\n",
    "        env.render()\n",
    "        rewards.append(ep_reward)\n",
    "        reward_eval.append(ep_reward)\n",
    "        print('{:3} Episode in {:5} steps, reward {:.2f}'.format(\n",
    "            i, total_steps, ep_reward))\n",
    "#         frames.append(env.render(mode = 'rgb_array'))\n",
    "#         imageio.mimsave(f'{env.spec.id}.gif', frames,)\n",
    "        \n",
    "        if len(reward_eval) >= n_eval:\n",
    "            if np.mean(reward_eval) >= env.spec.reward_threshold:\n",
    "                print('\\n{} is sloved! {:3} Episode in {:3} steps'.format(\n",
    "                    env.spec.id, i, total_steps))\n",
    "                print(np.mean(reward_eval))\n",
    "                break\n",
    "env.close()"
   ]
  },
  {
   "cell_type": "code",
   "execution_count": 10,
   "metadata": {
    "scrolled": false
   },
   "outputs": [
    {
     "data": {
      "image/png": "[encoded data removed]",
      "text/plain": [
       "<Figure size 1080x360 with 1 Axes>"
      ]
     },
     "metadata": {
      "needs_background": "light"
     },
     "output_type": "display_data"
    }
   ],
   "source": [
    "plt.figure(figsize=(15, 5))\n",
    "plt.title('reward')\n",
    "plt.plot(rewards)\n",
    "plt.show()"
   ]
  },
  {
   "cell_type": "code",
   "execution_count": 11,
   "metadata": {},
   "outputs": [
    {
     "data": {
      "text/plain": [
       "[('CartPole-v0', 412, 1),\n",
       " ('CartPole-v1', 452, 0.05),\n",
       " ('MountainCar-v0', 193, 0.1),\n",
       " ('LunarLander-v2', 260, 0.1)]"
      ]
     },
     "execution_count": 11,
     "metadata": {},
     "output_type": "execute_result"
    }
   ],
   "source": [
    "[\n",
    "    ('CartPole-v0', 412, 1),\n",
    "    ('CartPole-v1', 452, 0.05),\n",
    "    ('MountainCar-v0', 193, 0.1),\n",
    "    ('LunarLander-v2', 260, 0.1)\n",
    "]"
   ]
  }
 ],
 "metadata": {
  "colab": {
   "collapsed_sections": [],
   "name": "C51_tensorflow.ipynb",
   "provenance": [],
   "version": "0.3.2"
  },
  "kernelspec": {
   "display_name": "Python 3",
   "language": "python",
   "name": "python3"
  },
  "language_info": {
   "codemirror_mode": {
    "name": "ipython",
    "version": 3
   },
   "file_extension": ".py",
   "mimetype": "text/x-python",
   "name": "python",
   "nbconvert_exporter": "python",
   "pygments_lexer": "ipython3",
   "version": "3.6.6"
  }
 },
 "nbformat": 4,
 "nbformat_minor": 1
}
