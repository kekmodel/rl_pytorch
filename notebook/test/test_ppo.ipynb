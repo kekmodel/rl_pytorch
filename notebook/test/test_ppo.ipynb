{
 "cells": [
  {
   "cell_type": "code",
   "execution_count": 1,
   "metadata": {
    "colab": {},
    "colab_type": "code",
    "id": "IWnm3qot3o1W"
   },
   "outputs": [],
   "source": [
    "from collections import deque\n",
    "\n",
    "import gym\n",
    "import imageio\n",
    "import matplotlib.pyplot as plt\n",
    "import numpy as np\n",
    "import torch\n",
    "import torch.nn as nn\n",
    "from torch.distributions import Categorical "
   ]
  },
  {
   "cell_type": "code",
   "execution_count": 2,
   "metadata": {
    "colab": {},
    "colab_type": "code",
    "id": "9Ffkl_5C4R81"
   },
   "outputs": [],
   "source": [
    "class ActorCriticNet(nn.Module):\n",
    "    def __init__(self, obs_space, action_space):\n",
    "        super().__init__()\n",
    "\n",
    "        self.head = nn.Sequential(\n",
    "            nn.Linear(obs_space, 256),\n",
    "            nn.SELU()\n",
    "        )\n",
    "\n",
    "        self.pol = nn.Sequential(\n",
    "            nn.Linear(256, 256),\n",
    "            nn.SELU(),\n",
    "            nn.Linear(256, action_space)\n",
    "        )\n",
    "        \n",
    "        self.val = nn.Sequential(\n",
    "            nn.Linear(256, 256),\n",
    "            nn.SELU(),\n",
    "            nn.Linear(256, 1)\n",
    "        )\n",
    "        \n",
    "        self.log_softmax = nn.LogSoftmax(dim=-1)\n",
    "\n",
    "    def forward(self, x):\n",
    "        out = self.head(x)\n",
    "        logit = self.pol(out).reshape(out.shape[0], -1)\n",
    "        value = self.val(out).reshape(out.shape[0], 1)\n",
    "        log_probs = self.log_softmax(logit)\n",
    "        \n",
    "        return log_probs, value"
   ]
  },
  {
   "cell_type": "code",
   "execution_count": 3,
   "metadata": {},
   "outputs": [],
   "source": [
    "def get_action_and_value(obs, old_net):\n",
    "    old_net.eval()\n",
    "    with torch.no_grad():\n",
    "        state = torch.tensor([obs]).to(device).float()\n",
    "        log_p, v = old_net(state)\n",
    "        m = Categorical(log_p.exp())\n",
    "        action = m.sample()\n",
    "\n",
    "    return action.item(), v.item()"
   ]
  },
  {
   "cell_type": "markdown",
   "metadata": {},
   "source": [
    "## Main"
   ]
  },
  {
   "cell_type": "code",
   "execution_count": 4,
   "metadata": {
    "colab": {
     "base_uri": "https://localhost:8080/",
     "height": 3377
    },
    "colab_type": "code",
    "executionInfo": {
     "elapsed": 135196,
     "status": "ok",
     "timestamp": 1534482559393,
     "user": {
      "displayName": "윤승제",
      "photoUrl": "//lh5.googleusercontent.com/-EucKC7DmcQI/AAAAAAAAAAI/AAAAAAAAAGA/gQU1NPEmNFA/s50-c-k-no/photo.jpg",
      "userId": "105654037995838004821"
     },
     "user_tz": -540
    },
    "id": "PnifSBJglzHh",
    "outputId": "94177345-918e-4a96-d9a8-d8aba0a4bc9a",
    "scrolled": false
   },
   "outputs": [],
   "source": [
    "# set device\n",
    "device = torch.device('cuda' if torch.cuda.is_available() else 'cpu')\n",
    "\n",
    "# make an environment\n",
    "# env = gym.make('CartPole-v0')\n",
    "env = gym.make('CartPole-v1')\n",
    "# env = gym.make('MountainCar-v0')\n",
    "# env = gym.make('LunarLander-v2')\n",
    "\n",
    "SEED = 0\n",
    "env.seed(SEED)\n",
    "obs_space = env.observation_space.shape[0]\n",
    "action_space = env.action_space.n\n",
    "\n",
    "# hyperparameter\n",
    "n_episodes = 1000\n",
    "n_eval = env.spec.trials\n",
    "\n",
    "# global values\n",
    "total_steps = 0\n",
    "rewards = []\n",
    "reward_eval = deque(maxlen=n_eval)\n",
    "is_solved = False\n",
    "\n",
    "# load a model\n",
    "target_net = ActorCriticNet(obs_space, action_space).to(device)\n",
    "target_net.load_state_dict(torch.load(\n",
    "    './saved_models/CartPole-v1_ep225_clear_model_ppo.pt'))"
   ]
  },
  {
   "cell_type": "code",
   "execution_count": 5,
   "metadata": {
    "scrolled": true
   },
   "outputs": [
    {
     "data": {
      "text/plain": [
       "500"
      ]
     },
     "execution_count": 5,
     "metadata": {},
     "output_type": "execute_result"
    }
   ],
   "source": [
    "env.spec.max_episode_steps"
   ]
  },
  {
   "cell_type": "code",
   "execution_count": 6,
   "metadata": {
    "scrolled": true
   },
   "outputs": [
    {
     "data": {
      "text/plain": [
       "100"
      ]
     },
     "execution_count": 6,
     "metadata": {},
     "output_type": "execute_result"
    }
   ],
   "source": [
    "env.spec.trials"
   ]
  },
  {
   "cell_type": "code",
   "execution_count": 7,
   "metadata": {},
   "outputs": [
    {
     "data": {
      "text/plain": [
       "475.0"
      ]
     },
     "execution_count": 7,
     "metadata": {},
     "output_type": "execute_result"
    }
   ],
   "source": [
    "env.spec.reward_threshold"
   ]
  },
  {
   "cell_type": "code",
   "execution_count": 8,
   "metadata": {},
   "outputs": [],
   "source": [
    "# env.metadata['video.frames_per_second'] = 60"
   ]
  },
  {
   "cell_type": "code",
   "execution_count": 9,
   "metadata": {
    "colab": {
     "base_uri": "https://localhost:8080/",
     "height": 3377
    },
    "colab_type": "code",
    "executionInfo": {
     "elapsed": 135196,
     "status": "ok",
     "timestamp": 1534482559393,
     "user": {
      "displayName": "윤승제",
      "photoUrl": "//lh5.googleusercontent.com/-EucKC7DmcQI/AAAAAAAAAAI/AAAAAAAAAGA/gQU1NPEmNFA/s50-c-k-no/photo.jpg",
      "userId": "105654037995838004821"
     },
     "user_tz": -540
    },
    "id": "PnifSBJglzHh",
    "outputId": "94177345-918e-4a96-d9a8-d8aba0a4bc9a",
    "scrolled": true
   },
   "outputs": [
    {
     "name": "stdout",
     "output_type": "stream",
     "text": [
      "  1 Episode in   500 steps, reward 500.00\n",
      "  2 Episode in  1000 steps, reward 500.00\n",
      "  3 Episode in  1500 steps, reward 500.00\n",
      "  4 Episode in  2000 steps, reward 500.00\n",
      "  5 Episode in  2500 steps, reward 500.00\n",
      "  6 Episode in  3000 steps, reward 500.00\n",
      "  7 Episode in  3500 steps, reward 500.00\n",
      "  8 Episode in  4000 steps, reward 500.00\n",
      "  9 Episode in  4500 steps, reward 500.00\n",
      " 10 Episode in  5000 steps, reward 500.00\n",
      " 11 Episode in  5500 steps, reward 500.00\n",
      " 12 Episode in  6000 steps, reward 500.00\n",
      " 13 Episode in  6500 steps, reward 500.00\n",
      " 14 Episode in  7000 steps, reward 500.00\n",
      " 15 Episode in  7500 steps, reward 500.00\n",
      " 16 Episode in  8000 steps, reward 500.00\n",
      " 17 Episode in  8500 steps, reward 500.00\n",
      " 18 Episode in  9000 steps, reward 500.00\n",
      " 19 Episode in  9500 steps, reward 500.00\n",
      " 20 Episode in 10000 steps, reward 500.00\n",
      " 21 Episode in 10500 steps, reward 500.00\n",
      " 22 Episode in 11000 steps, reward 500.00\n",
      " 23 Episode in 11500 steps, reward 500.00\n",
      " 24 Episode in 12000 steps, reward 500.00\n",
      " 25 Episode in 12500 steps, reward 500.00\n",
      " 26 Episode in 13000 steps, reward 500.00\n",
      " 27 Episode in 13500 steps, reward 500.00\n",
      " 28 Episode in 14000 steps, reward 500.00\n",
      " 29 Episode in 14500 steps, reward 500.00\n",
      " 30 Episode in 15000 steps, reward 500.00\n",
      " 31 Episode in 15500 steps, reward 500.00\n",
      " 32 Episode in 16000 steps, reward 500.00\n",
      " 33 Episode in 16500 steps, reward 500.00\n",
      " 34 Episode in 17000 steps, reward 500.00\n",
      " 35 Episode in 17500 steps, reward 500.00\n",
      " 36 Episode in 18000 steps, reward 500.00\n",
      " 37 Episode in 18500 steps, reward 500.00\n",
      " 38 Episode in 19000 steps, reward 500.00\n",
      " 39 Episode in 19500 steps, reward 500.00\n",
      " 40 Episode in 20000 steps, reward 500.00\n",
      " 41 Episode in 20500 steps, reward 500.00\n",
      " 42 Episode in 21000 steps, reward 500.00\n",
      " 43 Episode in 21500 steps, reward 500.00\n",
      " 44 Episode in 22000 steps, reward 500.00\n",
      " 45 Episode in 22500 steps, reward 500.00\n",
      " 46 Episode in 23000 steps, reward 500.00\n",
      " 47 Episode in 23500 steps, reward 500.00\n",
      " 48 Episode in 24000 steps, reward 500.00\n",
      " 49 Episode in 24500 steps, reward 500.00\n",
      " 50 Episode in 25000 steps, reward 500.00\n",
      " 51 Episode in 25500 steps, reward 500.00\n",
      " 52 Episode in 26000 steps, reward 500.00\n",
      " 53 Episode in 26500 steps, reward 500.00\n",
      " 54 Episode in 27000 steps, reward 500.00\n",
      " 55 Episode in 27500 steps, reward 500.00\n",
      " 56 Episode in 28000 steps, reward 500.00\n",
      " 57 Episode in 28500 steps, reward 500.00\n",
      " 58 Episode in 29000 steps, reward 500.00\n",
      " 59 Episode in 29500 steps, reward 500.00\n",
      " 60 Episode in 30000 steps, reward 500.00\n",
      " 61 Episode in 30500 steps, reward 500.00\n",
      " 62 Episode in 31000 steps, reward 500.00\n",
      " 63 Episode in 31500 steps, reward 500.00\n",
      " 64 Episode in 32000 steps, reward 500.00\n",
      " 65 Episode in 32500 steps, reward 500.00\n",
      " 66 Episode in 33000 steps, reward 500.00\n",
      " 67 Episode in 33500 steps, reward 500.00\n",
      " 68 Episode in 34000 steps, reward 500.00\n",
      " 69 Episode in 34500 steps, reward 500.00\n",
      " 70 Episode in 35000 steps, reward 500.00\n",
      " 71 Episode in 35500 steps, reward 500.00\n",
      " 72 Episode in 36000 steps, reward 500.00\n",
      " 73 Episode in 36500 steps, reward 500.00\n",
      " 74 Episode in 37000 steps, reward 500.00\n",
      " 75 Episode in 37500 steps, reward 500.00\n",
      " 76 Episode in 38000 steps, reward 500.00\n",
      " 77 Episode in 38500 steps, reward 500.00\n",
      " 78 Episode in 39000 steps, reward 500.00\n",
      " 79 Episode in 39500 steps, reward 500.00\n",
      " 80 Episode in 40000 steps, reward 500.00\n",
      " 81 Episode in 40500 steps, reward 500.00\n",
      " 82 Episode in 41000 steps, reward 500.00\n",
      " 83 Episode in 41500 steps, reward 500.00\n",
      " 84 Episode in 42000 steps, reward 500.00\n",
      " 85 Episode in 42500 steps, reward 500.00\n",
      " 86 Episode in 43000 steps, reward 500.00\n",
      " 87 Episode in 43500 steps, reward 500.00\n",
      " 88 Episode in 44000 steps, reward 500.00\n",
      " 89 Episode in 44500 steps, reward 500.00\n",
      " 90 Episode in 45000 steps, reward 500.00\n",
      " 91 Episode in 45500 steps, reward 500.00\n",
      " 92 Episode in 46000 steps, reward 500.00\n",
      " 93 Episode in 46500 steps, reward 500.00\n",
      " 94 Episode in 47000 steps, reward 500.00\n",
      " 95 Episode in 47500 steps, reward 500.00\n",
      " 96 Episode in 48000 steps, reward 500.00\n",
      " 97 Episode in 48500 steps, reward 500.00\n",
      " 98 Episode in 49000 steps, reward 500.00\n",
      " 99 Episode in 49500 steps, reward 500.00\n",
      "100 Episode in 50000 steps, reward 500.00\n",
      "\n",
      "CartPole-v1 is sloved! 100 Episode in 50000 steps\n",
      "500.0\n"
     ]
    }
   ],
   "source": [
    "# play\n",
    "# frames = []\n",
    "for i in range(1, n_episodes + 1):\n",
    "    obs = env.reset()\n",
    "    done = False\n",
    "    ep_reward = 0\n",
    "    while not done:\n",
    "#         frames.append(env.render(mode = 'rgb_array'))\n",
    "        env.render()\n",
    "        action, _ = get_action_and_value(obs, target_net)\n",
    "        _obs, reward, done, _ = env.step(action)\n",
    "        obs = _obs\n",
    "        total_steps += 1\n",
    "        ep_reward += reward     \n",
    "    if done:\n",
    "        env.render()\n",
    "        rewards.append(ep_reward)\n",
    "        reward_eval.append(ep_reward)\n",
    "        print('{:3} Episode in {:5} steps, reward {:.2f}'.format(\n",
    "            i, total_steps, ep_reward))\n",
    "#         frames.append(env.render(mode = 'rgb_array'))\n",
    "#         imageio.mimsave(f'{env.spec.id}.gif', frames,)\n",
    "        \n",
    "        if len(reward_eval) >= n_eval:\n",
    "            if np.mean(reward_eval) >= env.spec.reward_threshold:\n",
    "                print('\\n{} is sloved! {:3} Episode in {:3} steps'.format(\n",
    "                    env.spec.id, i, total_steps))\n",
    "                print(np.mean(reward_eval))\n",
    "                break\n",
    "env.close()"
   ]
  },
  {
   "cell_type": "code",
   "execution_count": 10,
   "metadata": {
    "scrolled": false
   },
   "outputs": [
    {
     "data": {
      "image/png": "[encoded data removed]",
      "text/plain": [
       "<Figure size 1080x360 with 1 Axes>"
      ]
     },
     "metadata": {
      "needs_background": "light"
     },
     "output_type": "display_data"
    }
   ],
   "source": [
    "plt.figure(figsize=(15, 5))\n",
    "plt.title('reward')\n",
    "plt.plot(rewards)\n",
    "plt.show()"
   ]
  },
  {
   "cell_type": "code",
   "execution_count": 11,
   "metadata": {},
   "outputs": [
    {
     "data": {
      "text/plain": [
       "[('CartPole-v0', 412, 1),\n",
       " ('CartPole-v1', 452, 0.05),\n",
       " ('MountainCar-v0', 193, 0.1),\n",
       " ('LunarLander-v2', 260, 0.1)]"
      ]
     },
     "execution_count": 11,
     "metadata": {},
     "output_type": "execute_result"
    }
   ],
   "source": [
    "[\n",
    "    ('CartPole-v0', 412, 1),\n",
    "    ('CartPole-v1', 452, 0.05),\n",
    "    ('MountainCar-v0', 193, 0.1),\n",
    "    ('LunarLander-v2', 260, 0.1)\n",
    "]"
   ]
  }
 ],
 "metadata": {
  "colab": {
   "collapsed_sections": [],
   "name": "C51_tensorflow.ipynb",
   "provenance": [],
   "version": "0.3.2"
  },
  "kernelspec": {
   "display_name": "Python 3",
   "language": "python",
   "name": "python3"
  },
  "language_info": {
   "codemirror_mode": {
    "name": "ipython",
    "version": 3
   },
   "file_extension": ".py",
   "mimetype": "text/x-python",
   "name": "python",
   "nbconvert_exporter": "python",
   "pygments_lexer": "ipython3",
   "version": "3.6.6"
  }
 },
 "nbformat": 4,
 "nbformat_minor": 1
}
