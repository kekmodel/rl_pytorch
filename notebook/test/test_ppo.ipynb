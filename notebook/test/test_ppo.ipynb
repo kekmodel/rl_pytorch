{
 "cells": [
  {
   "cell_type": "code",
   "execution_count": 1,
   "metadata": {
    "colab": {},
    "colab_type": "code",
    "id": "IWnm3qot3o1W"
   },
   "outputs": [],
   "source": [
    "from collections import deque\n",
    "\n",
    "import gym\n",
    "import imageio\n",
    "import matplotlib.pyplot as plt\n",
    "import numpy as np\n",
    "import torch\n",
    "import torch.nn as nn\n",
    "from torch.distributions import Categorical "
   ]
  },
  {
   "cell_type": "code",
   "execution_count": 2,
   "metadata": {
    "colab": {},
    "colab_type": "code",
    "id": "9Ffkl_5C4R81"
   },
   "outputs": [],
   "source": [
    "class ActorCriticNet(nn.Module):\n",
    "    def __init__(self, obs_space, action_space):\n",
    "        super().__init__()\n",
    "        h = 64\n",
    "        self.head = nn.Sequential(\n",
    "            nn.Linear(obs_space, h),\n",
    "            nn.Tanh()\n",
    "        )\n",
    "        self.pol = nn.Sequential(\n",
    "            nn.Linear(h, h),\n",
    "            nn.Tanh(),\n",
    "            nn.Linear(h, action_space)\n",
    "        )\n",
    "        self.val = nn.Sequential(\n",
    "            nn.Linear(h, h),\n",
    "            nn.Tanh(),\n",
    "            nn.Linear(h, 1)\n",
    "        )\n",
    "        self.log_softmax = nn.LogSoftmax(dim=-1)\n",
    "\n",
    "    def forward(self, x):\n",
    "        out = self.head(x)\n",
    "        logit = self.pol(out).reshape(out.shape[0], -1)\n",
    "        log_p = self.log_softmax(logit)\n",
    "        v = self.val(out).reshape(out.shape[0], 1)\n",
    "\n",
    "        return log_p, v"
   ]
  },
  {
   "cell_type": "code",
   "execution_count": 3,
   "metadata": {},
   "outputs": [],
   "source": [
    "def get_action_and_value(obs, old_net):\n",
    "    old_net.eval()\n",
    "    with torch.no_grad():\n",
    "        state = torch.tensor([obs]).to(device).float()\n",
    "        log_p, v = old_net(state)\n",
    "        m = Categorical(log_p.exp())\n",
    "        action = m.sample()\n",
    "\n",
    "    return action.item(), v.item()"
   ]
  },
  {
   "cell_type": "markdown",
   "metadata": {},
   "source": [
    "## Main"
   ]
  },
  {
   "cell_type": "code",
   "execution_count": 4,
   "metadata": {
    "colab": {
     "base_uri": "https://localhost:8080/",
     "height": 3377
    },
    "colab_type": "code",
    "executionInfo": {
     "elapsed": 135196,
     "status": "ok",
     "timestamp": 1534482559393,
     "user": {
      "displayName": "윤승제",
      "photoUrl": "//lh5.googleusercontent.com/-EucKC7DmcQI/AAAAAAAAAAI/AAAAAAAAAGA/gQU1NPEmNFA/s50-c-k-no/photo.jpg",
      "userId": "105654037995838004821"
     },
     "user_tz": -540
    },
    "id": "PnifSBJglzHh",
    "outputId": "94177345-918e-4a96-d9a8-d8aba0a4bc9a",
    "scrolled": false
   },
   "outputs": [
    {
     "name": "stderr",
     "output_type": "stream",
     "text": [
      "/home/jay/anaconda3/lib/python3.7/site-packages/gym/envs/registration.py:14: PkgResourcesDeprecationWarning: Parameters to load are deprecated.  Call .resolve and .require separately.\n",
      "  result = entry_point.load(False)\n"
     ]
    }
   ],
   "source": [
    "# set device\n",
    "device = torch.device('cuda' if torch.cuda.is_available() else 'cpu')\n",
    "\n",
    "# make an environment\n",
    "# env = gym.make('CartPole-v0')\n",
    "# env = gym.make('CartPole-v1')\n",
    "# env = gym.make('MountainCar-v0')\n",
    "env = gym.make('LunarLander-v2')\n",
    "\n",
    "SEED = 0\n",
    "env.seed(SEED)\n",
    "obs_space = env.observation_space.shape[0]\n",
    "action_space = env.action_space.n\n",
    "\n",
    "# hyperparameter\n",
    "n_episodes = 1000\n",
    "n_eval = env.spec.trials\n",
    "\n",
    "# global values\n",
    "total_steps = 0\n",
    "rewards = []\n",
    "reward_eval = deque(maxlen=n_eval)\n",
    "is_solved = False\n",
    "\n",
    "# load a model\n",
    "target_net = ActorCriticNet(obs_space, action_space).to(device)\n",
    "target_net.load_state_dict(torch.load(\n",
    "    './saved_models/LunarLander-v2_ep5416_clear_model_ppo_st.pt'))"
   ]
  },
  {
   "cell_type": "code",
   "execution_count": 5,
   "metadata": {
    "scrolled": true
   },
   "outputs": [
    {
     "data": {
      "text/plain": [
       "1000"
      ]
     },
     "execution_count": 5,
     "metadata": {},
     "output_type": "execute_result"
    }
   ],
   "source": [
    "env.spec.max_episode_steps"
   ]
  },
  {
   "cell_type": "code",
   "execution_count": 6,
   "metadata": {
    "scrolled": true
   },
   "outputs": [
    {
     "data": {
      "text/plain": [
       "100"
      ]
     },
     "execution_count": 6,
     "metadata": {},
     "output_type": "execute_result"
    }
   ],
   "source": [
    "env.spec.trials"
   ]
  },
  {
   "cell_type": "code",
   "execution_count": 7,
   "metadata": {},
   "outputs": [
    {
     "data": {
      "text/plain": [
       "200"
      ]
     },
     "execution_count": 7,
     "metadata": {},
     "output_type": "execute_result"
    }
   ],
   "source": [
    "env.spec.reward_threshold"
   ]
  },
  {
   "cell_type": "code",
   "execution_count": 8,
   "metadata": {},
   "outputs": [],
   "source": [
    "# env.metadata['video.frames_per_second'] = 60"
   ]
  },
  {
   "cell_type": "code",
   "execution_count": 9,
   "metadata": {
    "colab": {
     "base_uri": "https://localhost:8080/",
     "height": 3377
    },
    "colab_type": "code",
    "executionInfo": {
     "elapsed": 135196,
     "status": "ok",
     "timestamp": 1534482559393,
     "user": {
      "displayName": "윤승제",
      "photoUrl": "//lh5.googleusercontent.com/-EucKC7DmcQI/AAAAAAAAAAI/AAAAAAAAAGA/gQU1NPEmNFA/s50-c-k-no/photo.jpg",
      "userId": "105654037995838004821"
     },
     "user_tz": -540
    },
    "id": "PnifSBJglzHh",
    "outputId": "94177345-918e-4a96-d9a8-d8aba0a4bc9a",
    "scrolled": false
   },
   "outputs": [
    {
     "name": "stdout",
     "output_type": "stream",
     "text": [
      "  1 Episode in   731 steps, reward 123.52\n",
      "  2 Episode in  1194 steps, reward 227.86\n",
      "  3 Episode in  1637 steps, reward 232.68\n",
      "  4 Episode in  2025 steps, reward 263.44\n",
      "  5 Episode in  2511 steps, reward 211.97\n",
      "  6 Episode in  2972 steps, reward 230.48\n",
      "  7 Episode in  3437 steps, reward 227.57\n",
      "  8 Episode in  3877 steps, reward 237.61\n",
      "  9 Episode in  4382 steps, reward 207.09\n",
      " 10 Episode in  4983 steps, reward 224.19\n",
      " 11 Episode in  5479 steps, reward 256.35\n",
      " 12 Episode in  6253 steps, reward 222.22\n",
      " 13 Episode in  6807 steps, reward 184.00\n",
      " 14 Episode in  7336 steps, reward 235.48\n",
      " 15 Episode in  8336 steps, reward 105.12\n",
      " 16 Episode in  8730 steps, reward 228.88\n",
      " 17 Episode in  9225 steps, reward 177.57\n",
      " 18 Episode in  9717 steps, reward 231.36\n",
      " 19 Episode in 10178 steps, reward 235.16\n",
      " 20 Episode in 10637 steps, reward 250.57\n",
      " 21 Episode in 11101 steps, reward 212.41\n",
      " 22 Episode in 11665 steps, reward 189.28\n",
      " 23 Episode in 12128 steps, reward 177.54\n",
      " 24 Episode in 12609 steps, reward 243.52\n",
      " 25 Episode in 13084 steps, reward 179.10\n",
      " 26 Episode in 13574 steps, reward 206.57\n",
      " 27 Episode in 14066 steps, reward 214.88\n",
      " 28 Episode in 14552 steps, reward 177.50\n",
      " 29 Episode in 15018 steps, reward 205.74\n",
      " 30 Episode in 15555 steps, reward 165.80\n",
      " 31 Episode in 16306 steps, reward 151.48\n",
      " 32 Episode in 17306 steps, reward 34.28\n",
      " 33 Episode in 17721 steps, reward 234.99\n",
      " 34 Episode in 18187 steps, reward 237.28\n",
      " 35 Episode in 18628 steps, reward 231.74\n",
      " 36 Episode in 19136 steps, reward 229.92\n",
      " 37 Episode in 19657 steps, reward 179.07\n",
      " 38 Episode in 20109 steps, reward 216.18\n",
      " 39 Episode in 20583 steps, reward 206.35\n",
      " 40 Episode in 21052 steps, reward 238.89\n",
      " 41 Episode in 21640 steps, reward 204.58\n",
      " 42 Episode in 22127 steps, reward 200.86\n",
      " 43 Episode in 22575 steps, reward 194.93\n",
      " 44 Episode in 23100 steps, reward 216.86\n",
      " 45 Episode in 23618 steps, reward 220.98\n",
      " 46 Episode in 24096 steps, reward 207.44\n",
      " 47 Episode in 24547 steps, reward 224.14\n",
      " 48 Episode in 25056 steps, reward 200.70\n",
      " 49 Episode in 25537 steps, reward 213.47\n",
      " 50 Episode in 26128 steps, reward 193.31\n",
      " 51 Episode in 27003 steps, reward 215.55\n",
      " 52 Episode in 28003 steps, reward 84.07\n",
      " 53 Episode in 29003 steps, reward 120.34\n",
      " 54 Episode in 30003 steps, reward 58.82\n",
      " 55 Episode in 30478 steps, reward 204.82\n",
      " 56 Episode in 30937 steps, reward 214.85\n",
      " 57 Episode in 31464 steps, reward 218.41\n",
      " 58 Episode in 31934 steps, reward 202.70\n",
      " 59 Episode in 32386 steps, reward 228.72\n",
      " 60 Episode in 33023 steps, reward 192.85\n",
      " 61 Episode in 33529 steps, reward 244.91\n",
      " 62 Episode in 33977 steps, reward 264.78\n",
      " 63 Episode in 34452 steps, reward 213.38\n",
      " 64 Episode in 34977 steps, reward 206.17\n",
      " 65 Episode in 35352 steps, reward -24.56\n",
      " 66 Episode in 35831 steps, reward 203.31\n",
      " 67 Episode in 36349 steps, reward 214.01\n",
      " 68 Episode in 36941 steps, reward 244.09\n",
      " 69 Episode in 37389 steps, reward 228.97\n",
      " 70 Episode in 37869 steps, reward 258.81\n",
      " 71 Episode in 38340 steps, reward 248.69\n",
      " 72 Episode in 38791 steps, reward 249.56\n",
      " 73 Episode in 39320 steps, reward 157.57\n",
      " 74 Episode in 39744 steps, reward 252.12\n",
      " 75 Episode in 40744 steps, reward 45.68\n",
      " 76 Episode in 41215 steps, reward 192.76\n",
      " 77 Episode in 41638 steps, reward 273.03\n",
      " 78 Episode in 42061 steps, reward 264.88\n",
      " 79 Episode in 42521 steps, reward 224.27\n",
      " 80 Episode in 43109 steps, reward 169.05\n",
      " 81 Episode in 43588 steps, reward 236.63\n",
      " 82 Episode in 44092 steps, reward 226.13\n",
      " 83 Episode in 44459 steps, reward -30.54\n",
      " 84 Episode in 44903 steps, reward 257.94\n",
      " 85 Episode in 45377 steps, reward 250.94\n",
      " 86 Episode in 45856 steps, reward 197.39\n",
      " 87 Episode in 46307 steps, reward 249.25\n",
      " 88 Episode in 46775 steps, reward 242.78\n",
      " 89 Episode in 47528 steps, reward 237.75\n",
      " 90 Episode in 47947 steps, reward 262.84\n",
      " 91 Episode in 48947 steps, reward 62.88\n",
      " 92 Episode in 49469 steps, reward 187.70\n",
      " 93 Episode in 49976 steps, reward 244.57\n",
      " 94 Episode in 50447 steps, reward 247.72\n",
      " 95 Episode in 50932 steps, reward 194.79\n",
      " 96 Episode in 51397 steps, reward 244.25\n",
      " 97 Episode in 51957 steps, reward 168.91\n",
      " 98 Episode in 52414 steps, reward 266.17\n",
      " 99 Episode in 52948 steps, reward 211.32\n",
      "100 Episode in 53466 steps, reward 214.77\n",
      "\n",
      "LunarLander-v2 is sloved! 100 Episode in 53466 steps\n",
      "203.69704332964713\n"
     ]
    }
   ],
   "source": [
    "# play\n",
    "# frames = []\n",
    "for i in range(1, n_episodes + 1):\n",
    "    obs = env.reset()\n",
    "    done = False\n",
    "    ep_reward = 0\n",
    "    while not done:\n",
    "#         frames.append(env.render(mode = 'rgb_array'))\n",
    "        env.render()\n",
    "        action, _ = get_action_and_value(obs, target_net)\n",
    "        _obs, reward, done, _ = env.step(action)\n",
    "        obs = _obs\n",
    "        total_steps += 1\n",
    "        ep_reward += reward     \n",
    "    if done:\n",
    "        env.render()\n",
    "        rewards.append(ep_reward)\n",
    "        reward_eval.append(ep_reward)\n",
    "        print('{:3} Episode in {:5} steps, reward {:.2f}'.format(\n",
    "            i, total_steps, ep_reward))\n",
    "#         frames.append(env.render(mode = 'rgb_array'))\n",
    "#         imageio.mimsave(f'{env.spec.id}.gif', frames,)\n",
    "        \n",
    "        if len(reward_eval) >= n_eval:\n",
    "            if np.mean(reward_eval) >= env.spec.reward_threshold:\n",
    "                print('\\n{} is sloved! {:3} Episode in {:3} steps'.format(\n",
    "                    env.spec.id, i, total_steps))\n",
    "                print(np.mean(reward_eval))\n",
    "                break\n",
    "env.close()"
   ]
  },
  {
   "cell_type": "code",
   "execution_count": 10,
   "metadata": {
    "scrolled": false
   },
   "outputs": [
    {
     "data": {
      "image/png": "[encoded data removed]",
      "text/plain": [
       "<Figure size 1080x360 with 1 Axes>"
      ]
     },
     "metadata": {
      "needs_background": "light"
     },
     "output_type": "display_data"
    }
   ],
   "source": [
    "plt.figure(figsize=(15, 5))\n",
    "plt.title('reward')\n",
    "plt.plot(rewards)\n",
    "plt.show()"
   ]
  },
  {
   "cell_type": "code",
   "execution_count": 11,
   "metadata": {},
   "outputs": [
    {
     "data": {
      "text/plain": [
       "[('CartPole-v0', 412, 1),\n",
       " ('CartPole-v1', 452, 0.05),\n",
       " ('MountainCar-v0', 193, 0.1),\n",
       " ('LunarLander-v2', 260, 0.1)]"
      ]
     },
     "execution_count": 11,
     "metadata": {},
     "output_type": "execute_result"
    }
   ],
   "source": [
    "[\n",
    "    ('CartPole-v0', 412, 1),\n",
    "    ('CartPole-v1', 452, 0.05),\n",
    "    ('MountainCar-v0', 193, 0.1),\n",
    "    ('LunarLander-v2', 260, 0.1)\n",
    "]"
   ]
  }
 ],
 "metadata": {
  "colab": {
   "collapsed_sections": [],
   "name": "C51_tensorflow.ipynb",
   "provenance": [],
   "version": "0.3.2"
  },
  "kernelspec": {
   "display_name": "Python 3",
   "language": "python",
   "name": "python3"
  },
  "language_info": {
   "codemirror_mode": {
    "name": "ipython",
    "version": 3
   },
   "file_extension": ".py",
   "mimetype": "text/x-python",
   "name": "python",
   "nbconvert_exporter": "python",
   "pygments_lexer": "ipython3",
   "version": "3.7.0"
  }
 },
 "nbformat": 4,
 "nbformat_minor": 1
}
