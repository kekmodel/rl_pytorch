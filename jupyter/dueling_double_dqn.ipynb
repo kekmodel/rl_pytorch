{
 "cells": [
  {
   "cell_type": "code",
   "execution_count": 1,
   "metadata": {
    "colab": {},
    "colab_type": "code",
    "id": "IWnm3qot3o1W"
   },
   "outputs": [],
   "source": [
    "import random\n",
    "from collections import deque\n",
    "from copy import deepcopy\n",
    "\n",
    "import gym\n",
    "import matplotlib.pyplot as plt\n",
    "import numpy as np\n",
    "import torch\n",
    "import torch.nn as nn\n",
    "import torch.optim as optim\n",
    "from torch.utils.data import DataLoader"
   ]
  },
  {
   "cell_type": "code",
   "execution_count": 2,
   "metadata": {
    "colab": {
     "base_uri": "https://localhost:8080/",
     "height": 35
    },
    "colab_type": "code",
    "executionInfo": {
     "elapsed": 708,
     "status": "ok",
     "timestamp": 1534482400648,
     "user": {
      "displayName": "윤승제",
      "photoUrl": "//lh5.googleusercontent.com/-EucKC7DmcQI/AAAAAAAAAAI/AAAAAAAAAGA/gQU1NPEmNFA/s50-c-k-no/photo.jpg",
      "userId": "105654037995838004821"
     },
     "user_tz": -540
    },
    "id": "maRVADiTlzHD",
    "outputId": "783b7610-95c2-4b54-b2ce-d8e853c484ba"
   },
   "outputs": [],
   "source": [
    "SEED = 1\n",
    "BATCH_SIZE = 256\n",
    "GAMMA = 0.99\n",
    "LR = 0.03\n",
    "EPS = 1e-8"
   ]
  },
  {
   "cell_type": "code",
   "execution_count": 3,
   "metadata": {
    "colab": {},
    "colab_type": "code",
    "id": "9Ffkl_5C4R81"
   },
   "outputs": [],
   "source": [
    "class DuelingDQN(nn.Module):\n",
    "    def __init__(self, obs_space, action_space):\n",
    "        super().__init__()\n",
    "\n",
    "        self.head = nn.Sequential(\n",
    "            nn.Linear(obs_space, 256),\n",
    "            nn.ReLU(),\n",
    "            nn.Linear(256, 256),\n",
    "            nn.ReLU()\n",
    "        )\n",
    "\n",
    "        self.val = nn.Sequential(\n",
    "            nn.Linear(256, 256),\n",
    "            nn.ReLU(),\n",
    "            nn.Linear(256, 1)\n",
    "        )\n",
    "\n",
    "        self.adv = nn.Sequential(\n",
    "            nn.Linear(256, 256),\n",
    "            nn.ReLU(),\n",
    "            nn.Linear(256, action_space)\n",
    "        )\n",
    "\n",
    "    def forward(self, x):\n",
    "        out = self.head(x)\n",
    "        val_out = self.val(out).reshape(out.shape[0], 1)\n",
    "        adv_out = self.adv(out).reshape(out.shape[0], -1)\n",
    "        adv_mean = adv_out.mean(dim=1, keepdim=True)\n",
    "        q = val_out + adv_out - adv_mean\n",
    "\n",
    "        return q"
   ]
  },
  {
   "cell_type": "code",
   "execution_count": 4,
   "metadata": {},
   "outputs": [],
   "source": [
    "losses = []\n",
    "\n",
    "\n",
    "def learn(net, tgt_net, optimizer, rep_memory):\n",
    "    net.train()\n",
    "    tgt_net.train()\n",
    "\n",
    "    train_data = []\n",
    "    train_data.extend(random.sample(rep_memory, BATCH_SIZE))\n",
    "    dataloader = DataLoader(\n",
    "        train_data, batch_size=BATCH_SIZE, pin_memory=use_cuda)\n",
    "    # double DQN\n",
    "    for i, (s, a, r, _s, d) in enumerate(dataloader):\n",
    "        s_batch = s.to(device).float()\n",
    "        a_batch = a.detach().to(device).long()\n",
    "        _s_batch = _s.to(device).float()\n",
    "        r_batch = r.detach().to(device).float()\n",
    "        is_done = 1. - d.detach().reshape(BATCH_SIZE, 1).to(device).float()\n",
    "        \n",
    "        _q_batch = net(_s_batch)\n",
    "        _a_batch = torch.argmax(_q_batch, dim=1)\n",
    "\n",
    "        with torch.no_grad():\n",
    "            _q_batch_tgt = tgt_net(_s_batch)\n",
    "            action_space = _q_batch_tgt.shape[1]\n",
    "            done_mask = torch.cat(tuple(is_done for _ in range(action_space)), dim=1)\n",
    "            _q_batch_tgt_masked = _q_batch_tgt * done_mask\n",
    "            _q_best_tgt = _q_batch_tgt_masked[range(BATCH_SIZE), _a_batch]\n",
    "\n",
    "        q_batch = net(s_batch)\n",
    "        q_acting = q_batch[range(BATCH_SIZE), a_batch]\n",
    "\n",
    "        # loss\n",
    "        loss = ((r_batch + GAMMA*_q_best_tgt) - q_acting).pow(2).sum().mean()\n",
    "        losses.append(loss)\n",
    "\n",
    "        optimizer.zero_grad()\n",
    "        loss.backward()\n",
    "        optimizer.step()\n",
    "\n",
    "\n",
    "def select_action(obs, tgt_net):\n",
    "    tgt_net.eval()\n",
    "    with torch.no_grad():\n",
    "        state = torch.tensor([obs]).to(device).float()\n",
    "        q = target_net(state)\n",
    "        q_np = q.cpu().numpy()[0]\n",
    "    action = np.argmax(q_np)\n",
    "\n",
    "    return action"
   ]
  },
  {
   "cell_type": "code",
   "execution_count": 5,
   "metadata": {
    "colab": {
     "base_uri": "https://localhost:8080/",
     "height": 3377
    },
    "colab_type": "code",
    "executionInfo": {
     "elapsed": 135196,
     "status": "ok",
     "timestamp": 1534482559393,
     "user": {
      "displayName": "윤승제",
      "photoUrl": "//lh5.googleusercontent.com/-EucKC7DmcQI/AAAAAAAAAAI/AAAAAAAAAGA/gQU1NPEmNFA/s50-c-k-no/photo.jpg",
      "userId": "105654037995838004821"
     },
     "user_tz": -540
    },
    "id": "PnifSBJglzHh",
    "outputId": "94177345-918e-4a96-d9a8-d8aba0a4bc9a",
    "scrolled": true
   },
   "outputs": [
    {
     "name": "stdout",
     "output_type": "stream",
     "text": [
      "cuda: True\n",
      "\u001b[33mWARN: gym.spaces.Box autodetected dtype as <class 'numpy.float32'>. Please provide explicit dtype.\u001b[0m\n"
     ]
    },
    {
     "name": "stderr",
     "output_type": "stream",
     "text": [
      "/home/jay/anaconda3/lib/python3.6/site-packages/gym/__init__.py:22: UserWarning: DEPRECATION WARNING: to improve load times, gym no longer automatically loads gym.spaces. Please run \"import gym.spaces\" to load gym.spaces on your own. This warning will turn into an error in a future version of gym.\n",
      "  warnings.warn('DEPRECATION WARNING: to improve load times, gym no longer automatically loads gym.spaces. Please run \"import gym.spaces\" to load gym.spaces on your own. This warning will turn into an error in a future version of gym.')\n"
     ]
    }
   ],
   "source": [
    "# set device\n",
    "use_cuda = torch.cuda.is_available()\n",
    "print('cuda:', use_cuda)\n",
    "device = torch.device('cuda' if use_cuda else 'cpu')\n",
    "\n",
    "# random seed\n",
    "random.seed(SEED)\n",
    "np.random.seed(SEED)\n",
    "torch.manual_seed(SEED)\n",
    "if use_cuda:\n",
    "    torch.cuda.manual_seed_all(SEED)\n",
    "\n",
    "# make an environment\n",
    "# env = gym.make('CartPole-v0')\n",
    "# env = gym.make('CartPole-v1')\n",
    "env = gym.make('MountainCar-v0')\n",
    "# env = gym.make('LunarLander-v2')\n",
    "env.seed(SEED)\n",
    "obs_space = env.observation_space.shape[0]\n",
    "action_space = env.action_space.n\n",
    "max_steps = env.spec.max_episode_steps*env.spec.timestep_limit\n",
    "\n",
    "# hyperparameter\n",
    "learn_start = env.spec.timestep_limit*5\n",
    "memory_size = learn_start*20\n",
    "epsilon_decay = False\n",
    "# update_frq = int(env.spec.timestep_limit/10)\n",
    "update_frq = 1\n",
    "epsilon = 1.\n",
    "eps_min = 0.005\n",
    "eps_decay = 1. - np.exp(np.log(eps_min)/(max_steps/5))\n",
    "num_eval = 10\n",
    "\n",
    "# global values\n",
    "total_steps = 0\n",
    "learn_steps = 0\n",
    "rewards = []\n",
    "reward_eval = deque(maxlen=num_eval)\n",
    "is_learned = False\n",
    "is_solved = False\n",
    "\n",
    "# make two nerual networks\n",
    "net = DuelingDQN(obs_space, action_space).to(device)\n",
    "target_net = deepcopy(net)\n",
    "\n",
    "# make optimizer\n",
    "# optimizer = optim.SGD(net.parameters(), momentum=0.9, lr=LR, weight_decay=1e-4)\n",
    "optimizer = optim.Adam(net.parameters(), lr=LR, eps=EPS)\n",
    "\n",
    "# make memory\n",
    "rep_memory = deque(maxlen=memory_size)"
   ]
  },
  {
   "cell_type": "code",
   "execution_count": 6,
   "metadata": {},
   "outputs": [
    {
     "data": {
      "text/plain": [
       "200"
      ]
     },
     "execution_count": 6,
     "metadata": {},
     "output_type": "execute_result"
    }
   ],
   "source": [
    "env.spec.max_episode_steps"
   ]
  },
  {
   "cell_type": "code",
   "execution_count": 7,
   "metadata": {},
   "outputs": [
    {
     "data": {
      "text/plain": [
       "-110.0"
      ]
     },
     "execution_count": 7,
     "metadata": {},
     "output_type": "execute_result"
    }
   ],
   "source": [
    "env.spec.reward_threshold"
   ]
  },
  {
   "cell_type": "code",
   "execution_count": 8,
   "metadata": {
    "scrolled": true
   },
   "outputs": [
    {
     "data": {
      "text/plain": [
       "200"
      ]
     },
     "execution_count": 8,
     "metadata": {},
     "output_type": "execute_result"
    }
   ],
   "source": [
    "env.spec.timestep_limit"
   ]
  },
  {
   "cell_type": "code",
   "execution_count": 9,
   "metadata": {
    "colab": {
     "base_uri": "https://localhost:8080/",
     "height": 3377
    },
    "colab_type": "code",
    "executionInfo": {
     "elapsed": 135196,
     "status": "ok",
     "timestamp": 1534482559393,
     "user": {
      "displayName": "윤승제",
      "photoUrl": "//lh5.googleusercontent.com/-EucKC7DmcQI/AAAAAAAAAAI/AAAAAAAAAGA/gQU1NPEmNFA/s50-c-k-no/photo.jpg",
      "userId": "105654037995838004821"
     },
     "user_tz": -540
    },
    "id": "PnifSBJglzHh",
    "outputId": "94177345-918e-4a96-d9a8-d8aba0a4bc9a",
    "scrolled": false
   },
   "outputs": [
    {
     "name": "stdout",
     "output_type": "stream",
     "text": [
      "  1 Episode in   200 steps, reward -200.00\n",
      "  2 Episode in   400 steps, reward -200.00\n",
      "  3 Episode in   600 steps, reward -200.00\n",
      "  4 Episode in   800 steps, reward -200.00\n",
      "\n",
      "============  Start Learning  ============\n",
      "\n",
      "  5 Episode in  1000 steps, reward -200.00\n",
      "  6 Episode in  1200 steps, reward -200.00\n",
      "  7 Episode in  1400 steps, reward -200.00\n",
      "  8 Episode in  1600 steps, reward -200.00\n",
      "  9 Episode in  1800 steps, reward -200.00\n",
      " 10 Episode in  2000 steps, reward -200.00\n",
      " 11 Episode in  2200 steps, reward -200.00\n",
      " 12 Episode in  2400 steps, reward -200.00\n",
      " 13 Episode in  2600 steps, reward -200.00\n",
      " 14 Episode in  2800 steps, reward -200.00\n",
      " 15 Episode in  3000 steps, reward -200.00\n",
      " 16 Episode in  3200 steps, reward -200.00\n",
      " 17 Episode in  3400 steps, reward -200.00\n",
      " 18 Episode in  3530 steps, reward -130.00\n",
      " 19 Episode in  3730 steps, reward -200.00\n",
      " 20 Episode in  3930 steps, reward -200.00\n",
      " 21 Episode in  4060 steps, reward -130.00\n",
      " 22 Episode in  4189 steps, reward -129.00\n",
      " 23 Episode in  4356 steps, reward -167.00\n",
      " 24 Episode in  4533 steps, reward -177.00\n",
      " 25 Episode in  4716 steps, reward -183.00\n",
      " 26 Episode in  4916 steps, reward -200.00\n",
      " 27 Episode in  5116 steps, reward -200.00\n",
      " 28 Episode in  5316 steps, reward -200.00\n",
      " 29 Episode in  5516 steps, reward -200.00\n",
      " 30 Episode in  5716 steps, reward -200.00\n",
      " 31 Episode in  5804 steps, reward -88.00\n",
      " 32 Episode in  6004 steps, reward -200.00\n",
      " 33 Episode in  6204 steps, reward -200.00\n",
      " 34 Episode in  6404 steps, reward -200.00\n",
      " 35 Episode in  6604 steps, reward -200.00\n",
      " 36 Episode in  6755 steps, reward -151.00\n",
      " 37 Episode in  6955 steps, reward -200.00\n",
      " 38 Episode in  7155 steps, reward -200.00\n",
      " 39 Episode in  7355 steps, reward -200.00\n",
      " 40 Episode in  7555 steps, reward -200.00\n",
      " 41 Episode in  7731 steps, reward -176.00\n",
      " 42 Episode in  7931 steps, reward -200.00\n",
      " 43 Episode in  8045 steps, reward -114.00\n",
      " 44 Episode in  8199 steps, reward -154.00\n",
      " 45 Episode in  8399 steps, reward -200.00\n",
      " 46 Episode in  8599 steps, reward -200.00\n",
      " 47 Episode in  8799 steps, reward -200.00\n",
      " 48 Episode in  8999 steps, reward -200.00\n",
      " 49 Episode in  9199 steps, reward -200.00\n",
      " 50 Episode in  9399 steps, reward -200.00\n",
      " 51 Episode in  9599 steps, reward -200.00\n",
      " 52 Episode in  9799 steps, reward -200.00\n",
      " 53 Episode in  9999 steps, reward -200.00\n",
      " 54 Episode in 10199 steps, reward -200.00\n",
      " 55 Episode in 10314 steps, reward -115.00\n",
      " 56 Episode in 10514 steps, reward -200.00\n",
      " 57 Episode in 10714 steps, reward -200.00\n",
      " 58 Episode in 10914 steps, reward -200.00\n",
      " 59 Episode in 11019 steps, reward -105.00\n",
      " 60 Episode in 11185 steps, reward -166.00\n",
      " 61 Episode in 11385 steps, reward -200.00\n",
      " 62 Episode in 11585 steps, reward -200.00\n",
      " 63 Episode in 11748 steps, reward -163.00\n",
      " 64 Episode in 11948 steps, reward -200.00\n",
      " 65 Episode in 12119 steps, reward -171.00\n",
      " 66 Episode in 12319 steps, reward -200.00\n",
      " 67 Episode in 12441 steps, reward -122.00\n",
      " 68 Episode in 12641 steps, reward -200.00\n",
      " 69 Episode in 12841 steps, reward -200.00\n",
      " 70 Episode in 13041 steps, reward -200.00\n",
      " 71 Episode in 13241 steps, reward -200.00\n",
      " 72 Episode in 13441 steps, reward -200.00\n",
      " 73 Episode in 13641 steps, reward -200.00\n",
      " 74 Episode in 13841 steps, reward -200.00\n",
      " 75 Episode in 14041 steps, reward -200.00\n",
      " 76 Episode in 14241 steps, reward -200.00\n",
      " 77 Episode in 14441 steps, reward -200.00\n",
      " 78 Episode in 14641 steps, reward -200.00\n",
      " 79 Episode in 14841 steps, reward -200.00\n",
      " 80 Episode in 15036 steps, reward -195.00\n",
      " 81 Episode in 15236 steps, reward -200.00\n",
      " 82 Episode in 15436 steps, reward -200.00\n",
      " 83 Episode in 15636 steps, reward -200.00\n",
      " 84 Episode in 15836 steps, reward -200.00\n",
      " 85 Episode in 16036 steps, reward -200.00\n",
      " 86 Episode in 16233 steps, reward -197.00\n",
      " 87 Episode in 16433 steps, reward -200.00\n",
      " 88 Episode in 16633 steps, reward -200.00\n",
      " 89 Episode in 16833 steps, reward -200.00\n",
      " 90 Episode in 17033 steps, reward -200.00\n",
      " 91 Episode in 17156 steps, reward -123.00\n",
      " 92 Episode in 17356 steps, reward -200.00\n",
      " 93 Episode in 17547 steps, reward -191.00\n",
      " 94 Episode in 17747 steps, reward -200.00\n",
      " 95 Episode in 17947 steps, reward -200.00\n",
      " 96 Episode in 18147 steps, reward -200.00\n",
      " 97 Episode in 18347 steps, reward -200.00\n",
      " 98 Episode in 18547 steps, reward -200.00\n",
      " 99 Episode in 18747 steps, reward -200.00\n",
      "100 Episode in 18947 steps, reward -200.00\n",
      "101 Episode in 19147 steps, reward -200.00\n",
      "102 Episode in 19347 steps, reward -200.00\n",
      "103 Episode in 19547 steps, reward -200.00\n",
      "104 Episode in 19747 steps, reward -200.00\n",
      "105 Episode in 19947 steps, reward -200.00\n",
      "106 Episode in 20147 steps, reward -200.00\n",
      "107 Episode in 20347 steps, reward -200.00\n",
      "108 Episode in 20547 steps, reward -200.00\n",
      "109 Episode in 20747 steps, reward -200.00\n",
      "110 Episode in 20947 steps, reward -200.00\n",
      "111 Episode in 21147 steps, reward -200.00\n",
      "112 Episode in 21347 steps, reward -200.00\n",
      "113 Episode in 21547 steps, reward -200.00\n",
      "114 Episode in 21747 steps, reward -200.00\n",
      "115 Episode in 21904 steps, reward -157.00\n",
      "116 Episode in 22104 steps, reward -200.00\n",
      "117 Episode in 22304 steps, reward -200.00\n",
      "118 Episode in 22504 steps, reward -200.00\n",
      "119 Episode in 22704 steps, reward -200.00\n",
      "120 Episode in 22904 steps, reward -200.00\n",
      "121 Episode in 23104 steps, reward -200.00\n",
      "122 Episode in 23304 steps, reward -200.00\n",
      "123 Episode in 23504 steps, reward -200.00\n",
      "124 Episode in 23704 steps, reward -200.00\n",
      "125 Episode in 23904 steps, reward -200.00\n",
      "126 Episode in 24104 steps, reward -200.00\n",
      "127 Episode in 24304 steps, reward -200.00\n",
      "128 Episode in 24504 steps, reward -200.00\n",
      "129 Episode in 24704 steps, reward -200.00\n",
      "130 Episode in 24904 steps, reward -200.00\n",
      "131 Episode in 25104 steps, reward -200.00\n",
      "132 Episode in 25304 steps, reward -200.00\n",
      "133 Episode in 25504 steps, reward -200.00\n",
      "134 Episode in 25704 steps, reward -200.00\n",
      "135 Episode in 25904 steps, reward -200.00\n",
      "136 Episode in 26104 steps, reward -200.00\n",
      "137 Episode in 26304 steps, reward -200.00\n",
      "138 Episode in 26504 steps, reward -200.00\n",
      "139 Episode in 26671 steps, reward -167.00\n",
      "140 Episode in 26871 steps, reward -200.00\n",
      "141 Episode in 27071 steps, reward -200.00\n",
      "142 Episode in 27271 steps, reward -200.00\n",
      "143 Episode in 27471 steps, reward -200.00\n",
      "144 Episode in 27671 steps, reward -200.00\n",
      "145 Episode in 27871 steps, reward -200.00\n",
      "146 Episode in 28071 steps, reward -200.00\n",
      "147 Episode in 28271 steps, reward -200.00\n",
      "148 Episode in 28471 steps, reward -200.00\n",
      "149 Episode in 28671 steps, reward -200.00\n",
      "150 Episode in 28871 steps, reward -200.00\n",
      "151 Episode in 29071 steps, reward -200.00\n",
      "152 Episode in 29271 steps, reward -200.00\n",
      "153 Episode in 29471 steps, reward -200.00\n",
      "154 Episode in 29671 steps, reward -200.00\n",
      "155 Episode in 29871 steps, reward -200.00\n",
      "156 Episode in 30071 steps, reward -200.00\n",
      "157 Episode in 30271 steps, reward -200.00\n",
      "158 Episode in 30471 steps, reward -200.00\n",
      "159 Episode in 30671 steps, reward -200.00\n",
      "160 Episode in 30871 steps, reward -200.00\n",
      "161 Episode in 31071 steps, reward -200.00\n",
      "162 Episode in 31271 steps, reward -200.00\n",
      "163 Episode in 31471 steps, reward -200.00\n",
      "164 Episode in 31671 steps, reward -200.00\n",
      "165 Episode in 31871 steps, reward -200.00\n",
      "166 Episode in 32071 steps, reward -200.00\n",
      "167 Episode in 32247 steps, reward -176.00\n",
      "168 Episode in 32447 steps, reward -200.00\n",
      "169 Episode in 32647 steps, reward -200.00\n",
      "170 Episode in 32847 steps, reward -200.00\n",
      "171 Episode in 33047 steps, reward -200.00\n",
      "172 Episode in 33247 steps, reward -200.00\n",
      "173 Episode in 33447 steps, reward -200.00\n",
      "174 Episode in 33647 steps, reward -200.00\n",
      "175 Episode in 33847 steps, reward -200.00\n",
      "176 Episode in 33999 steps, reward -152.00\n",
      "177 Episode in 34199 steps, reward -200.00\n",
      "178 Episode in 34399 steps, reward -200.00\n",
      "179 Episode in 34599 steps, reward -200.00\n",
      "180 Episode in 34799 steps, reward -200.00\n",
      "181 Episode in 34999 steps, reward -200.00\n",
      "182 Episode in 35199 steps, reward -200.00\n",
      "183 Episode in 35399 steps, reward -200.00\n",
      "184 Episode in 35599 steps, reward -200.00\n",
      "185 Episode in 35779 steps, reward -180.00\n",
      "186 Episode in 35979 steps, reward -200.00\n",
      "187 Episode in 36179 steps, reward -200.00\n",
      "188 Episode in 36379 steps, reward -200.00\n",
      "189 Episode in 36579 steps, reward -200.00\n",
      "190 Episode in 36779 steps, reward -200.00\n"
     ]
    },
    {
     "name": "stdout",
     "output_type": "stream",
     "text": [
      "191 Episode in 36979 steps, reward -200.00\n",
      "192 Episode in 37179 steps, reward -200.00\n",
      "193 Episode in 37379 steps, reward -200.00\n",
      "194 Episode in 37579 steps, reward -200.00\n",
      "195 Episode in 37779 steps, reward -200.00\n",
      "196 Episode in 37946 steps, reward -167.00\n",
      "197 Episode in 38146 steps, reward -200.00\n",
      "198 Episode in 38346 steps, reward -200.00\n",
      "199 Episode in 38546 steps, reward -200.00\n",
      "200 Episode in 38746 steps, reward -200.00\n"
     ]
    }
   ],
   "source": [
    "# play\n",
    "for i in range(1, env.spec.max_episode_steps+1):\n",
    "    obs = env.reset()\n",
    "    done = False\n",
    "    ep_reward = 0\n",
    "    while not done:\n",
    "        env.render()\n",
    "        if np.random.rand() < eps_min:\n",
    "            action = env.action_space.sample()\n",
    "        else:\n",
    "            action = select_action(obs, target_net)\n",
    "\n",
    "        _obs, reward, done, _ = env.step(action)\n",
    "\n",
    "        rep_memory.append((obs, action, reward, _obs, done))\n",
    "\n",
    "        obs = _obs\n",
    "        total_steps += 1\n",
    "        ep_reward += reward\n",
    "#         epsilon -= epsilon * eps_decay\n",
    "#         epsilon = max(eps_min, epsilon)\n",
    "\n",
    "        if len(rep_memory) >= learn_start:\n",
    "            if len(rep_memory) == learn_start:\n",
    "                print('\\n============  Start Learning  ============\\n')\n",
    "            learn(net, target_net, optimizer, rep_memory)\n",
    "            learn_steps += 1\n",
    "\n",
    "        if learn_steps == update_frq:\n",
    "            target_net.load_state_dict(net.state_dict())\n",
    "            learn_steps = 0\n",
    "    if done:\n",
    "        rewards.append(ep_reward)\n",
    "        reward_eval.append(ep_reward)\n",
    "        print('{:3} Episode in {:5} steps, reward {:.2f}'.format(\n",
    "            i, total_steps, ep_reward))\n",
    "\n",
    "        if len(reward_eval) >= num_eval:\n",
    "            if np.mean(reward_eval) >= env.spec.reward_threshold:\n",
    "                print('\\n{} is sloved! {:3} Episode in {:3} steps'.format(\n",
    "                    env.spec.id, i, total_steps))\n",
    "                break\n",
    "env.close()"
   ]
  },
  {
   "cell_type": "code",
   "execution_count": 10,
   "metadata": {
    "scrolled": false
   },
   "outputs": [
    {
     "data": {
      "image/png": "[encoded data removed]",
      "text/plain": [
       "<Figure size 1080x360 with 1 Axes>"
      ]
     },
     "metadata": {
      "needs_background": "light"
     },
     "output_type": "display_data"
    },
    {
     "data": {
      "image/png": "[encoded data removed]",
      "text/plain": [
       "<Figure size 1080x360 with 1 Axes>"
      ]
     },
     "metadata": {
      "needs_background": "light"
     },
     "output_type": "display_data"
    }
   ],
   "source": [
    "plt.figure(figsize=(15, 5))\n",
    "plt.title('reward')\n",
    "plt.plot(rewards)\n",
    "plt.figure(figsize=(15, 5))\n",
    "plt.title('loss')\n",
    "plt.plot(losses)\n",
    "plt.show()"
   ]
  }
 ],
 "metadata": {
  "colab": {
   "collapsed_sections": [],
   "name": "C51_tensorflow.ipynb",
   "provenance": [],
   "version": "0.3.2"
  },
  "kernelspec": {
   "display_name": "Python 3",
   "language": "python",
   "name": "python3"
  },
  "language_info": {
   "codemirror_mode": {
    "name": "ipython",
    "version": 3
   },
   "file_extension": ".py",
   "mimetype": "text/x-python",
   "name": "python",
   "nbconvert_exporter": "python",
   "pygments_lexer": "ipython3",
   "version": "3.6.6"
  }
 },
 "nbformat": 4,
 "nbformat_minor": 1
}
