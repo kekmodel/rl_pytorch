{
 "cells": [
  {
   "cell_type": "code",
   "execution_count": 1,
   "metadata": {
    "colab": {},
    "colab_type": "code",
    "id": "IWnm3qot3o1W"
   },
   "outputs": [],
   "source": [
    "import random\n",
    "from collections import deque\n",
    "from copy import deepcopy\n",
    "\n",
    "import gym\n",
    "import matplotlib.pyplot as plt\n",
    "import numpy as np\n",
    "import torch\n",
    "import torch.nn as nn\n",
    "import torch.optim as optim\n",
    "from torch.utils.data import DataLoader"
   ]
  },
  {
   "cell_type": "code",
   "execution_count": 2,
   "metadata": {
    "colab": {
     "base_uri": "https://localhost:8080/",
     "height": 35
    },
    "colab_type": "code",
    "executionInfo": {
     "elapsed": 708,
     "status": "ok",
     "timestamp": 1534482400648,
     "user": {
      "displayName": "윤승제",
      "photoUrl": "//lh5.googleusercontent.com/-EucKC7DmcQI/AAAAAAAAAAI/AAAAAAAAAGA/gQU1NPEmNFA/s50-c-k-no/photo.jpg",
      "userId": "105654037995838004821"
     },
     "user_tz": -540
    },
    "id": "maRVADiTlzHD",
    "outputId": "783b7610-95c2-4b54-b2ce-d8e853c484ba"
   },
   "outputs": [],
   "source": [
    "SEED = 1\n",
    "BATCH_SIZE = 256\n",
    "LR = 0.0003\n",
    "UP_COEF = 0.1\n",
    "GAMMA = 0.99\n",
    "EPS = 1e-8\n",
    "\n",
    "# set device\n",
    "use_cuda = torch.cuda.is_available()\n",
    "device = torch.device('cuda' if use_cuda else 'cpu')\n",
    "\n",
    "# random seed\n",
    "random.seed(SEED)\n",
    "np.random.seed(SEED)\n",
    "torch.manual_seed(SEED)\n",
    "if use_cuda:\n",
    "    torch.cuda.manual_seed_all(SEED)"
   ]
  },
  {
   "cell_type": "code",
   "execution_count": 3,
   "metadata": {
    "colab": {},
    "colab_type": "code",
    "id": "9Ffkl_5C4R81"
   },
   "outputs": [],
   "source": [
    "class DuelingDQN(nn.Module):\n",
    "    def __init__(self, obs_space, action_space):\n",
    "        super().__init__()\n",
    "\n",
    "        self.head = nn.Sequential(\n",
    "            nn.Linear(obs_space, 256),\n",
    "            nn.ReLU(),\n",
    "            nn.Linear(256, 256),\n",
    "            nn.ReLU()\n",
    "        )\n",
    "\n",
    "        self.val = nn.Sequential(\n",
    "            nn.Linear(256, 256),\n",
    "            nn.ReLU(),\n",
    "            nn.Linear(256, 1)\n",
    "        )\n",
    "\n",
    "        self.adv = nn.Sequential(\n",
    "            nn.Linear(256, 256),\n",
    "            nn.ReLU(),\n",
    "            nn.Linear(256, action_space)\n",
    "        )\n",
    "\n",
    "    def forward(self, x):\n",
    "        out = self.head(x)\n",
    "        val_out = self.val(out).reshape(out.shape[0], 1)\n",
    "        adv_out = self.adv(out).reshape(out.shape[0], -1)\n",
    "        adv_mean = adv_out.mean(dim=1, keepdim=True)\n",
    "        q = val_out + adv_out - adv_mean\n",
    "\n",
    "        return q"
   ]
  },
  {
   "cell_type": "code",
   "execution_count": 4,
   "metadata": {},
   "outputs": [],
   "source": [
    "losses = []\n",
    "\n",
    "\n",
    "def learn(net, tgt_net, optimizer, rep_memory):\n",
    "    net.train()\n",
    "    tgt_net.train()\n",
    "\n",
    "    train_data = random.sample(rep_memory, BATCH_SIZE)\n",
    "    dataloader = DataLoader(\n",
    "        train_data, batch_size=BATCH_SIZE, pin_memory=use_cuda)\n",
    "    # double DQN\n",
    "    for i, (s, a, r, _s, d) in enumerate(dataloader):\n",
    "        s_batch = s.to(device).float()\n",
    "        a_batch = a.detach().to(device).long()\n",
    "        _s_batch = _s.to(device).float()\n",
    "        r_batch = r.detach().to(device).float()\n",
    "        is_done = 1. - d.detach().reshape(BATCH_SIZE, 1).to(device).float()\n",
    "        \n",
    "        _q_batch = net(_s_batch)\n",
    "        _a_batch = torch.argmax(_q_batch, dim=1)\n",
    "\n",
    "        with torch.no_grad():\n",
    "            _q_batch_tgt = tgt_net(_s_batch)\n",
    "            done_mask = torch.cat(tuple(is_done for _ in range(action_space)), dim=1)\n",
    "            _q_batch_tgt_masked = _q_batch_tgt * done_mask\n",
    "            _q_best_tgt = _q_batch_tgt_masked[range(BATCH_SIZE), _a_batch]\n",
    "\n",
    "        q_batch = net(s_batch)\n",
    "        q_acting = q_batch[range(BATCH_SIZE), a_batch]\n",
    "\n",
    "        # loss\n",
    "        loss = ((r_batch + GAMMA*_q_best_tgt) - q_acting).pow(2).sum().mean()\n",
    "        losses.append(loss)\n",
    "\n",
    "        optimizer.zero_grad()\n",
    "        loss.backward()\n",
    "        optimizer.step()\n",
    "\n",
    "\n",
    "def select_action(obs, tgt_net):\n",
    "    tgt_net.eval()\n",
    "    with torch.no_grad():\n",
    "        state = torch.tensor([obs]).to(device).float()\n",
    "        q = tgt_net(state)\n",
    "        action = torch.argmax(q)\n",
    "\n",
    "    return action.item()"
   ]
  },
  {
   "cell_type": "markdown",
   "metadata": {},
   "source": [
    "## main"
   ]
  },
  {
   "cell_type": "code",
   "execution_count": 5,
   "metadata": {
    "colab": {
     "base_uri": "https://localhost:8080/",
     "height": 3377
    },
    "colab_type": "code",
    "executionInfo": {
     "elapsed": 135196,
     "status": "ok",
     "timestamp": 1534482559393,
     "user": {
      "displayName": "윤승제",
      "photoUrl": "//lh5.googleusercontent.com/-EucKC7DmcQI/AAAAAAAAAAI/AAAAAAAAAGA/gQU1NPEmNFA/s50-c-k-no/photo.jpg",
      "userId": "105654037995838004821"
     },
     "user_tz": -540
    },
    "id": "PnifSBJglzHh",
    "outputId": "94177345-918e-4a96-d9a8-d8aba0a4bc9a",
    "scrolled": false
   },
   "outputs": [
    {
     "name": "stderr",
     "output_type": "stream",
     "text": [
      "/home/jay/anaconda3/lib/python3.6/site-packages/gym/__init__.py:22: UserWarning: DEPRECATION WARNING: to improve load times, gym no longer automatically loads gym.spaces. Please run \"import gym.spaces\" to load gym.spaces on your own. This warning will turn into an error in a future version of gym.\n",
      "  warnings.warn('DEPRECATION WARNING: to improve load times, gym no longer automatically loads gym.spaces. Please run \"import gym.spaces\" to load gym.spaces on your own. This warning will turn into an error in a future version of gym.')\n"
     ]
    },
    {
     "name": "stdout",
     "output_type": "stream",
     "text": [
      "\u001b[33mWARN: gym.spaces.Box autodetected dtype as <class 'numpy.float32'>. Please provide explicit dtype.\u001b[0m\n"
     ]
    }
   ],
   "source": [
    "# make an environment\n",
    "# env = gym.make('CartPole-v0')\n",
    "# env = gym.make('CartPole-v1')\n",
    "# env = gym.make('MountainCar-v0')\n",
    "env = gym.make('LunarLander-v2')\n",
    "\n",
    "env.seed(SEED)\n",
    "obs_space = env.observation_space.shape[0]\n",
    "action_space = env.action_space.n\n",
    "\n",
    "# hyperparameter\n",
    "n_episodes = 1000\n",
    "learn_start = 1500\n",
    "memory_size = 50000\n",
    "update_frq = 1\n",
    "use_eps_decay = False\n",
    "epsilon = 0.001\n",
    "eps_min = 0.001\n",
    "decay_rate = 0.0001\n",
    "n_eval = env.spec.trials\n",
    "\n",
    "# global values\n",
    "total_steps = 0\n",
    "learn_steps = 0\n",
    "rewards = []\n",
    "reward_eval = deque(maxlen=n_eval)\n",
    "is_learned = False\n",
    "is_solved = False\n",
    "\n",
    "# make two nerual networks\n",
    "net = DuelingDQN(obs_space, action_space).to(device)\n",
    "target_net = deepcopy(net)\n",
    "\n",
    "# make optimizer\n",
    "optimizer = optim.Adam(net.parameters(), lr=LR, eps=EPS)\n",
    "\n",
    "# make memory\n",
    "rep_memory = deque(maxlen=memory_size)"
   ]
  },
  {
   "cell_type": "code",
   "execution_count": 6,
   "metadata": {},
   "outputs": [
    {
     "data": {
      "text/plain": [
       "True"
      ]
     },
     "execution_count": 6,
     "metadata": {},
     "output_type": "execute_result"
    }
   ],
   "source": [
    "use_cuda"
   ]
  },
  {
   "cell_type": "code",
   "execution_count": 7,
   "metadata": {
    "scrolled": true
   },
   "outputs": [
    {
     "data": {
      "text/plain": [
       "1000"
      ]
     },
     "execution_count": 7,
     "metadata": {},
     "output_type": "execute_result"
    }
   ],
   "source": [
    "env.spec.max_episode_steps"
   ]
  },
  {
   "cell_type": "code",
   "execution_count": 8,
   "metadata": {},
   "outputs": [
    {
     "data": {
      "text/plain": [
       "100"
      ]
     },
     "execution_count": 8,
     "metadata": {},
     "output_type": "execute_result"
    }
   ],
   "source": [
    "env.spec.trials"
   ]
  },
  {
   "cell_type": "code",
   "execution_count": 9,
   "metadata": {},
   "outputs": [
    {
     "data": {
      "text/plain": [
       "200"
      ]
     },
     "execution_count": 9,
     "metadata": {},
     "output_type": "execute_result"
    }
   ],
   "source": [
    "env.spec.reward_threshold"
   ]
  },
  {
   "cell_type": "code",
   "execution_count": 10,
   "metadata": {
    "colab": {
     "base_uri": "https://localhost:8080/",
     "height": 3377
    },
    "colab_type": "code",
    "executionInfo": {
     "elapsed": 135196,
     "status": "ok",
     "timestamp": 1534482559393,
     "user": {
      "displayName": "윤승제",
      "photoUrl": "//lh5.googleusercontent.com/-EucKC7DmcQI/AAAAAAAAAAI/AAAAAAAAAGA/gQU1NPEmNFA/s50-c-k-no/photo.jpg",
      "userId": "105654037995838004821"
     },
     "user_tz": -540
    },
    "id": "PnifSBJglzHh",
    "outputId": "94177345-918e-4a96-d9a8-d8aba0a4bc9a",
    "scrolled": false
   },
   "outputs": [
    {
     "name": "stdout",
     "output_type": "stream",
     "text": [
      "  1 Episode in    50 steps, reward -365.41\n",
      "  2 Episode in   114 steps, reward -548.22\n",
      "  3 Episode in   190 steps, reward -548.29\n",
      "  4 Episode in   246 steps, reward -556.05\n",
      "  5 Episode in   322 steps, reward -547.31\n",
      "  6 Episode in   378 steps, reward -512.56\n",
      "  7 Episode in   456 steps, reward -846.64\n",
      "  8 Episode in   511 steps, reward -461.09\n",
      "  9 Episode in   561 steps, reward -472.05\n",
      " 10 Episode in   613 steps, reward -395.46\n",
      " 11 Episode in   667 steps, reward -424.30\n",
      " 12 Episode in   728 steps, reward -543.43\n",
      " 13 Episode in   788 steps, reward -517.25\n",
      " 14 Episode in   846 steps, reward -497.55\n",
      " 15 Episode in   934 steps, reward -988.88\n",
      " 16 Episode in  1014 steps, reward -914.70\n",
      " 17 Episode in  1073 steps, reward -574.05\n",
      " 18 Episode in  1159 steps, reward -888.45\n",
      " 19 Episode in  1209 steps, reward -477.43\n",
      " 20 Episode in  1278 steps, reward -583.21\n",
      " 21 Episode in  1361 steps, reward -812.62\n",
      " 22 Episode in  1443 steps, reward -816.76\n",
      "\n",
      "============  Start Learning  ============\n",
      "\n",
      " 23 Episode in  1509 steps, reward -602.21\n",
      " 24 Episode in  1568 steps, reward -176.16\n",
      " 25 Episode in  1637 steps, reward -159.85\n",
      " 26 Episode in  1696 steps, reward -501.04\n",
      " 27 Episode in  1766 steps, reward -166.83\n",
      " 28 Episode in  1853 steps, reward -152.00\n",
      " 29 Episode in  1907 steps, reward -210.06\n",
      " 30 Episode in  1960 steps, reward -192.29\n",
      " 31 Episode in  2024 steps, reward -161.13\n",
      " 32 Episode in  2081 steps, reward -167.30\n",
      " 33 Episode in  2285 steps, reward -350.70\n",
      " 34 Episode in  2470 steps, reward -343.98\n",
      " 35 Episode in  3470 steps, reward -227.23\n",
      " 36 Episode in  3647 steps, reward -192.04\n",
      " 37 Episode in  3796 steps, reward -370.68\n",
      " 38 Episode in  3929 steps, reward -367.20\n",
      " 39 Episode in  4115 steps, reward -538.52\n",
      " 40 Episode in  4251 steps, reward -259.32\n",
      " 41 Episode in  4514 steps, reward -324.70\n",
      " 42 Episode in  4677 steps, reward -208.12\n",
      " 43 Episode in  4823 steps, reward -176.02\n",
      " 44 Episode in  5186 steps, reward -275.94\n",
      " 45 Episode in  5427 steps, reward -196.00\n",
      " 46 Episode in  5563 steps, reward -174.23\n",
      " 47 Episode in  6006 steps, reward -247.69\n",
      " 48 Episode in  6184 steps, reward -156.81\n",
      " 49 Episode in  6843 steps, reward -341.96\n",
      " 50 Episode in  7843 steps, reward -239.16\n",
      " 51 Episode in  8843 steps, reward -270.57\n",
      " 52 Episode in  9843 steps, reward -299.55\n",
      " 53 Episode in 10843 steps, reward -195.70\n",
      " 54 Episode in 11843 steps, reward -231.20\n",
      " 55 Episode in 12843 steps, reward -141.42\n",
      " 56 Episode in 13821 steps, reward -230.26\n",
      " 57 Episode in 13984 steps, reward -149.61\n",
      " 58 Episode in 14984 steps, reward -111.71\n",
      " 59 Episode in 15984 steps, reward -133.27\n",
      " 60 Episode in 16984 steps, reward -68.31\n",
      " 61 Episode in 17984 steps, reward -93.46\n",
      " 62 Episode in 18984 steps, reward -119.47\n",
      " 63 Episode in 19984 steps, reward -104.24\n",
      " 64 Episode in 20984 steps, reward -100.15\n",
      " 65 Episode in 21606 steps, reward -108.63\n",
      " 66 Episode in 22606 steps, reward -76.99\n",
      " 67 Episode in 23575 steps, reward -313.99\n",
      " 68 Episode in 24575 steps, reward -117.35\n",
      " 69 Episode in 25398 steps, reward 96.33\n",
      " 70 Episode in 26398 steps, reward -67.48\n",
      " 71 Episode in 27398 steps, reward -57.98\n",
      " 72 Episode in 28398 steps, reward -113.48\n",
      " 73 Episode in 29398 steps, reward -135.76\n",
      " 74 Episode in 30398 steps, reward -156.30\n",
      " 75 Episode in 31398 steps, reward -76.69\n",
      " 76 Episode in 32398 steps, reward -80.34\n",
      " 77 Episode in 33398 steps, reward -60.13\n",
      " 78 Episode in 34398 steps, reward -70.89\n",
      " 79 Episode in 35398 steps, reward -65.26\n",
      " 80 Episode in 36398 steps, reward -105.48\n",
      " 81 Episode in 37398 steps, reward -129.91\n",
      " 82 Episode in 38398 steps, reward -82.87\n",
      " 83 Episode in 39398 steps, reward -133.90\n",
      " 84 Episode in 40398 steps, reward -134.08\n",
      " 85 Episode in 41398 steps, reward -87.13\n",
      " 86 Episode in 41947 steps, reward -196.44\n",
      " 87 Episode in 42947 steps, reward -92.68\n",
      " 88 Episode in 43572 steps, reward 124.47\n",
      " 89 Episode in 43909 steps, reward -52.41\n",
      " 90 Episode in 44140 steps, reward -43.41\n",
      " 91 Episode in 45140 steps, reward -40.64\n",
      " 92 Episode in 46140 steps, reward -115.93\n",
      " 93 Episode in 46810 steps, reward 79.27\n",
      " 94 Episode in 47810 steps, reward -92.70\n",
      " 95 Episode in 48102 steps, reward -65.03\n",
      " 96 Episode in 49102 steps, reward -92.45\n",
      " 97 Episode in 49725 steps, reward 157.20\n",
      " 98 Episode in 50112 steps, reward 225.83\n",
      " 99 Episode in 51112 steps, reward -96.40\n",
      "100 Episode in 52112 steps, reward -39.65\n",
      "101 Episode in 53112 steps, reward -33.03\n",
      "102 Episode in 53313 steps, reward -39.75\n",
      "103 Episode in 54311 steps, reward 13.72\n",
      "104 Episode in 55311 steps, reward -75.81\n",
      "105 Episode in 56311 steps, reward -83.23\n",
      "106 Episode in 57311 steps, reward -74.17\n",
      "107 Episode in 57511 steps, reward -140.96\n",
      "108 Episode in 58511 steps, reward -61.24\n",
      "109 Episode in 59511 steps, reward -95.28\n",
      "110 Episode in 60511 steps, reward -105.69\n",
      "111 Episode in 61400 steps, reward 70.91\n",
      "112 Episode in 62400 steps, reward -104.08\n",
      "113 Episode in 62795 steps, reward -192.05\n",
      "114 Episode in 63795 steps, reward -70.05\n",
      "115 Episode in 64491 steps, reward 108.61\n",
      "116 Episode in 65129 steps, reward -80.45\n",
      "117 Episode in 65446 steps, reward -24.22\n",
      "118 Episode in 66008 steps, reward 177.75\n",
      "119 Episode in 66342 steps, reward 193.40\n",
      "120 Episode in 67303 steps, reward 112.75\n",
      "121 Episode in 68055 steps, reward 108.80\n",
      "122 Episode in 68784 steps, reward 128.66\n",
      "123 Episode in 69537 steps, reward 86.90\n",
      "124 Episode in 70097 steps, reward 146.22\n",
      "125 Episode in 70476 steps, reward 176.71\n",
      "126 Episode in 70909 steps, reward 191.64\n",
      "127 Episode in 71323 steps, reward 176.96\n",
      "128 Episode in 71801 steps, reward 164.75\n",
      "129 Episode in 72334 steps, reward 118.58\n",
      "130 Episode in 72757 steps, reward 160.42\n",
      "131 Episode in 72994 steps, reward -86.36\n",
      "132 Episode in 73243 steps, reward -143.49\n",
      "133 Episode in 73661 steps, reward 214.08\n",
      "134 Episode in 74003 steps, reward -38.24\n",
      "135 Episode in 74296 steps, reward 205.24\n",
      "136 Episode in 74792 steps, reward -216.04\n",
      "137 Episode in 75317 steps, reward -215.03\n",
      "138 Episode in 75657 steps, reward 167.55\n",
      "139 Episode in 75882 steps, reward 182.06\n",
      "140 Episode in 76517 steps, reward 90.75\n",
      "141 Episode in 76951 steps, reward 176.53\n",
      "142 Episode in 77249 steps, reward 221.27\n",
      "143 Episode in 77834 steps, reward -240.46\n",
      "144 Episode in 78249 steps, reward 184.20\n",
      "145 Episode in 78675 steps, reward 188.83\n",
      "146 Episode in 78896 steps, reward -41.43\n",
      "147 Episode in 79073 steps, reward -30.44\n",
      "148 Episode in 79378 steps, reward 206.46\n",
      "149 Episode in 79778 steps, reward 189.70\n",
      "150 Episode in 80265 steps, reward 212.33\n",
      "151 Episode in 80541 steps, reward 213.30\n",
      "152 Episode in 80934 steps, reward 174.70\n",
      "153 Episode in 81395 steps, reward 154.85\n",
      "154 Episode in 82119 steps, reward 164.33\n",
      "155 Episode in 82378 steps, reward 192.42\n",
      "156 Episode in 82658 steps, reward 174.37\n",
      "157 Episode in 83077 steps, reward 213.30\n",
      "158 Episode in 83456 steps, reward 157.17\n",
      "159 Episode in 83830 steps, reward 212.90\n",
      "160 Episode in 84681 steps, reward -464.86\n",
      "161 Episode in 85078 steps, reward 167.91\n",
      "162 Episode in 86078 steps, reward 1.90\n",
      "163 Episode in 86378 steps, reward 227.73\n",
      "164 Episode in 86633 steps, reward 232.92\n",
      "165 Episode in 86883 steps, reward -33.99\n",
      "166 Episode in 87082 steps, reward 236.24\n",
      "167 Episode in 87316 steps, reward 209.88\n",
      "168 Episode in 87510 steps, reward 220.03\n",
      "169 Episode in 87805 steps, reward 207.13\n",
      "170 Episode in 88113 steps, reward 230.06\n",
      "171 Episode in 88423 steps, reward 222.40\n",
      "172 Episode in 88689 steps, reward 210.47\n",
      "173 Episode in 89091 steps, reward 180.14\n",
      "174 Episode in 89328 steps, reward 190.28\n",
      "175 Episode in 89671 steps, reward 239.31\n",
      "176 Episode in 89955 steps, reward 224.16\n",
      "177 Episode in 90381 steps, reward 179.89\n",
      "178 Episode in 90688 steps, reward 216.70\n",
      "179 Episode in 90867 steps, reward 212.59\n",
      "180 Episode in 91225 steps, reward 223.97\n",
      "181 Episode in 91434 steps, reward 239.92\n",
      "182 Episode in 91859 steps, reward 182.03\n",
      "183 Episode in 92115 steps, reward 206.93\n",
      "184 Episode in 92524 steps, reward 192.24\n",
      "185 Episode in 92719 steps, reward 211.21\n",
      "186 Episode in 93155 steps, reward 218.18\n",
      "187 Episode in 93439 steps, reward 220.56\n",
      "188 Episode in 93729 steps, reward 201.16\n",
      "189 Episode in 94024 steps, reward 236.38\n",
      "190 Episode in 94488 steps, reward 199.50\n",
      "191 Episode in 94781 steps, reward 216.56\n",
      "192 Episode in 94892 steps, reward -47.08\n",
      "193 Episode in 95130 steps, reward 229.72\n"
     ]
    },
    {
     "name": "stdout",
     "output_type": "stream",
     "text": [
      "194 Episode in 95301 steps, reward 236.23\n",
      "195 Episode in 95585 steps, reward 225.06\n",
      "196 Episode in 95780 steps, reward 220.93\n",
      "197 Episode in 96021 steps, reward 237.51\n",
      "198 Episode in 96376 steps, reward 202.46\n",
      "199 Episode in 96671 steps, reward 229.30\n",
      "200 Episode in 96913 steps, reward 235.61\n",
      "201 Episode in 97166 steps, reward 196.93\n",
      "202 Episode in 97395 steps, reward 221.62\n",
      "203 Episode in 97708 steps, reward 168.85\n",
      "204 Episode in 97959 steps, reward 269.90\n",
      "205 Episode in 98243 steps, reward 247.61\n",
      "206 Episode in 98816 steps, reward 198.36\n",
      "207 Episode in 99020 steps, reward 186.45\n",
      "208 Episode in 99232 steps, reward 190.22\n",
      "209 Episode in 100203 steps, reward 183.23\n",
      "210 Episode in 100374 steps, reward 232.39\n",
      "211 Episode in 100566 steps, reward 192.67\n",
      "212 Episode in 101023 steps, reward 171.18\n",
      "213 Episode in 101812 steps, reward 191.19\n",
      "214 Episode in 102051 steps, reward 188.11\n",
      "215 Episode in 102328 steps, reward 201.48\n",
      "216 Episode in 102595 steps, reward 236.45\n",
      "217 Episode in 102776 steps, reward 225.00\n",
      "218 Episode in 102988 steps, reward 224.27\n",
      "219 Episode in 103258 steps, reward 241.02\n",
      "220 Episode in 103509 steps, reward 237.21\n",
      "221 Episode in 103760 steps, reward 193.12\n",
      "222 Episode in 103942 steps, reward 188.97\n",
      "223 Episode in 104239 steps, reward 190.15\n",
      "224 Episode in 104413 steps, reward 202.73\n",
      "225 Episode in 104655 steps, reward 215.15\n",
      "226 Episode in 104831 steps, reward 6.33\n",
      "227 Episode in 105059 steps, reward 267.02\n",
      "228 Episode in 105387 steps, reward 212.90\n",
      "229 Episode in 105564 steps, reward 192.78\n",
      "230 Episode in 106004 steps, reward 192.96\n",
      "231 Episode in 106274 steps, reward 210.87\n",
      "232 Episode in 106628 steps, reward 222.48\n",
      "233 Episode in 106831 steps, reward 188.67\n",
      "234 Episode in 107019 steps, reward 214.62\n",
      "235 Episode in 107220 steps, reward 212.77\n",
      "236 Episode in 107503 steps, reward 221.03\n",
      "237 Episode in 107690 steps, reward 199.48\n",
      "238 Episode in 107873 steps, reward 214.64\n",
      "239 Episode in 108113 steps, reward 230.45\n",
      "240 Episode in 108321 steps, reward 237.05\n",
      "241 Episode in 108535 steps, reward 236.03\n",
      "242 Episode in 108747 steps, reward 259.96\n",
      "243 Episode in 108987 steps, reward 248.28\n",
      "244 Episode in 109249 steps, reward 218.88\n",
      "245 Episode in 109414 steps, reward 233.32\n",
      "246 Episode in 109693 steps, reward 180.40\n",
      "247 Episode in 109947 steps, reward 219.33\n",
      "248 Episode in 110148 steps, reward 254.62\n",
      "249 Episode in 110500 steps, reward 238.91\n",
      "250 Episode in 110700 steps, reward 189.79\n",
      "251 Episode in 110936 steps, reward 250.14\n",
      "252 Episode in 111109 steps, reward 241.35\n",
      "253 Episode in 111381 steps, reward 220.29\n",
      "254 Episode in 111557 steps, reward 218.95\n",
      "255 Episode in 111826 steps, reward 239.33\n",
      "256 Episode in 112048 steps, reward 228.65\n",
      "257 Episode in 112265 steps, reward 213.66\n",
      "258 Episode in 112459 steps, reward 192.82\n",
      "259 Episode in 112681 steps, reward 240.82\n",
      "260 Episode in 112892 steps, reward 219.68\n",
      "\n",
      "LunarLander-v2 is sloved! 260 Episode in 112892 steps\n"
     ]
    }
   ],
   "source": [
    "# play\n",
    "for i in range(1, n_episodes + 1):\n",
    "    obs = env.reset()\n",
    "    done = False\n",
    "    ep_reward = 0\n",
    "    while not done:\n",
    "        env.render()\n",
    "        if np.random.rand() < epsilon:\n",
    "            action = env.action_space.sample()\n",
    "        else:\n",
    "            action = select_action(obs, target_net)\n",
    "\n",
    "        _obs, reward, done, _ = env.step(action)\n",
    "\n",
    "        rep_memory.append((obs, action, reward, _obs, done))\n",
    "\n",
    "        obs = _obs\n",
    "        total_steps += 1\n",
    "        ep_reward += reward\n",
    "        \n",
    "        if use_eps_decay:\n",
    "            epsilon -= epsilon * decay_rate\n",
    "            epsilon = max(eps_min, epsilon)\n",
    "\n",
    "        if len(rep_memory) >= learn_start:\n",
    "            if len(rep_memory) == learn_start:\n",
    "                print('\\n============  Start Learning  ============\\n')\n",
    "            learn(net, target_net, optimizer, rep_memory)\n",
    "            learn_steps += 1\n",
    "\n",
    "        if learn_steps == update_frq:\n",
    "            # target smoothing update\n",
    "            for t, n in zip(target_net.parameters(), net.parameters()):\n",
    "                t.data = UP_COEF * n.data + (1 - UP_COEF) * t.data\n",
    "            learn_steps = 0\n",
    "    if done:\n",
    "        rewards.append(ep_reward)\n",
    "        reward_eval.append(ep_reward)\n",
    "        print('{:3} Episode in {:5} steps, reward {:.2f}'.format(\n",
    "            i, total_steps, ep_reward))\n",
    "\n",
    "        if len(reward_eval) >= n_eval:\n",
    "            if np.mean(reward_eval) >= env.spec.reward_threshold:\n",
    "                print('\\n{} is sloved! {:3} Episode in {:3} steps'.format(\n",
    "                    env.spec.id, i, total_steps))\n",
    "                break\n",
    "env.close()"
   ]
  },
  {
   "cell_type": "code",
   "execution_count": 11,
   "metadata": {
    "scrolled": false
   },
   "outputs": [
    {
     "data": {
      "image/png": "[encoded data removed]",
      "text/plain": [
       "<Figure size 1080x360 with 1 Axes>"
      ]
     },
     "metadata": {
      "needs_background": "light"
     },
     "output_type": "display_data"
    },
    {
     "data": {
      "image/png": "[encoded data removed]",
      "text/plain": [
       "<Figure size 1080x360 with 1 Axes>"
      ]
     },
     "metadata": {
      "needs_background": "light"
     },
     "output_type": "display_data"
    }
   ],
   "source": [
    "plt.figure(figsize=(15, 5))\n",
    "plt.title('reward')\n",
    "plt.plot(rewards)\n",
    "plt.figure(figsize=(15, 5))\n",
    "plt.title('loss')\n",
    "plt.plot(losses)\n",
    "plt.show()"
   ]
  },
  {
   "cell_type": "code",
   "execution_count": 12,
   "metadata": {},
   "outputs": [
    {
     "data": {
      "text/plain": [
       "[('CartPole-v0', 412, 1),\n",
       " ('CartPole-v1', 452, 0.05),\n",
       " ('MountainCar-v0', 193, 0.1),\n",
       " ('LunarLander-v2', 260, 0.1)]"
      ]
     },
     "execution_count": 12,
     "metadata": {},
     "output_type": "execute_result"
    }
   ],
   "source": [
    "[\n",
    "    ('CartPole-v0', 412, 1),\n",
    "    ('CartPole-v1', 452, 0.05),\n",
    "    ('MountainCar-v0', 193, 0.1),\n",
    "    ('LunarLander-v2', 260, 0.1)\n",
    "]"
   ]
  }
 ],
 "metadata": {
  "colab": {
   "collapsed_sections": [],
   "name": "C51_tensorflow.ipynb",
   "provenance": [],
   "version": "0.3.2"
  },
  "kernelspec": {
   "display_name": "Python 3",
   "language": "python",
   "name": "python3"
  },
  "language_info": {
   "codemirror_mode": {
    "name": "ipython",
    "version": 3
   },
   "file_extension": ".py",
   "mimetype": "text/x-python",
   "name": "python",
   "nbconvert_exporter": "python",
   "pygments_lexer": "ipython3",
   "version": "3.6.6"
  }
 },
 "nbformat": 4,
 "nbformat_minor": 1
}
