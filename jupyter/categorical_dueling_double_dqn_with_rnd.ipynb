{
 "cells": [
  {
   "cell_type": "code",
   "execution_count": 1,
   "metadata": {
    "colab": {},
    "colab_type": "code",
    "id": "IWnm3qot3o1W"
   },
   "outputs": [],
   "source": [
    "# built-in\n",
    "import random\n",
    "from collections import deque\n",
    "from copy import deepcopy\n",
    "\n",
    "# tihrd party\n",
    "import gym\n",
    "import matplotlib.pyplot as plt\n",
    "import numpy as np\n",
    "import torch\n",
    "import torch.nn as nn\n",
    "from torch.utils.data import DataLoader"
   ]
  },
  {
   "cell_type": "code",
   "execution_count": 2,
   "metadata": {
    "colab": {
     "base_uri": "https://localhost:8080/",
     "height": 35
    },
    "colab_type": "code",
    "executionInfo": {
     "elapsed": 708,
     "status": "ok",
     "timestamp": 1534482400648,
     "user": {
      "displayName": "윤승제",
      "photoUrl": "//lh5.googleusercontent.com/-EucKC7DmcQI/AAAAAAAAAAI/AAAAAAAAAGA/gQU1NPEmNFA/s50-c-k-no/photo.jpg",
      "userId": "105654037995838004821"
     },
     "user_tz": -540
    },
    "id": "maRVADiTlzHD",
    "outputId": "783b7610-95c2-4b54-b2ce-d8e853c484ba"
   },
   "outputs": [],
   "source": [
    "# for learning\n",
    "SEED = 1\n",
    "BATCH_SIZE = 256\n",
    "GAMMA = 0.99\n",
    "LR_DQN = 0.03\n",
    "LR_RND = 0.03\n",
    "EPS = 1e-8\n",
    "\n",
    "# for C51\n",
    "V_MAX = 10\n",
    "V_MIN = -10\n",
    "N_ATOMS = 51\n",
    "DELTA_Z = (V_MAX - V_MIN) / (N_ATOMS - 1)"
   ]
  },
  {
   "cell_type": "code",
   "execution_count": 3,
   "metadata": {
    "colab": {},
    "colab_type": "code",
    "id": "9Ffkl_5C4R81"
   },
   "outputs": [],
   "source": [
    "class CategoricalDuelingDQN(nn.Module):\n",
    "    def __init__(self, obs_space, action_space, n_atoms):\n",
    "        super().__init__()\n",
    "\n",
    "        self.head = nn.Sequential(\n",
    "            nn.Linear(obs_space, 256),\n",
    "            nn.ReLU(),\n",
    "            nn.Linear(256, 256),\n",
    "            nn.ReLU()\n",
    "        )\n",
    "\n",
    "        self.val = nn.Sequential(\n",
    "            nn.Linear(256, 256),\n",
    "            nn.ReLU(),\n",
    "            nn.Linear(256, n_atoms)\n",
    "        )\n",
    "\n",
    "        self.adv = nn.Sequential(\n",
    "            nn.Linear(256, 256),\n",
    "            nn.ReLU(),\n",
    "            nn.Linear(256, action_space * n_atoms)\n",
    "        )\n",
    "\n",
    "        self.log_softmax = nn.LogSoftmax(dim=-1)\n",
    "\n",
    "        self.register_buffer(\n",
    "            'support', torch.arange(V_MIN, V_MAX + DELTA_Z, DELTA_Z))\n",
    "\n",
    "    def forward(self, x):\n",
    "        out = self.head(x)\n",
    "        val_out = self.val(out).view(out.size(0), 1, N_ATOMS)\n",
    "        adv_out = self.adv(out).view(out.size(0), -1, N_ATOMS)\n",
    "        adv_mean = adv_out.mean(dim=1, keepdim=True)\n",
    "        out = val_out + adv_out - adv_mean\n",
    "        out = self.log_softmax(out)\n",
    "        probs = out.exp()\n",
    "\n",
    "        return probs\n",
    "\n",
    "\n",
    "class FeatureNet(nn.Module):\n",
    "    def __init__(self, obs_space):\n",
    "        super().__init__()\n",
    "        self.head = nn.Sequential(\n",
    "            nn.Linear(obs_space, 256),\n",
    "            nn.ReLU(),\n",
    "            nn.Linear(256, 256),\n",
    "            nn.ReLU()\n",
    "        )\n",
    "\n",
    "        self.fc = nn.Sequential(\n",
    "            nn.Linear(256, 256),\n",
    "            nn.ReLU(),\n",
    "            nn.Linear(256, 2)\n",
    "        )\n",
    "\n",
    "    def forward(self, x):\n",
    "        out = self.head(x)\n",
    "        obs_feature = self.fc(out).view(out.size(0), -1)\n",
    "\n",
    "        return obs_feature"
   ]
  },
  {
   "cell_type": "code",
   "execution_count": 4,
   "metadata": {},
   "outputs": [],
   "source": [
    "losses = []\n",
    "f_losses = []\n",
    "\n",
    "\n",
    "def learn(net, tgt_net, pred_net, rand_net, net_optim, pred_optim, rep_memory):\n",
    "    global mean\n",
    "    global std\n",
    "\n",
    "    net.train()\n",
    "    tgt_net.train()\n",
    "    pred_net.train()\n",
    "    rand_net.train()\n",
    "\n",
    "    train_data = []\n",
    "    train_data.extend(random.sample(rep_memory, BATCH_SIZE))\n",
    "\n",
    "    dataloader = DataLoader(train_data,\n",
    "                            batch_size=BATCH_SIZE,\n",
    "                            pin_memory=use_cuda)\n",
    "    # like a double DQN\n",
    "    for i, (s, a, r, r_in, _s, d) in enumerate(dataloader):\n",
    "        s_batch = s.to(device).float()\n",
    "        a_batch = a.to(device).long()\n",
    "        _s_batch = _s.to(device).float()\n",
    "        _s_norm = normalize_obs(_s.detach().cpu().numpy(), mean, std)\n",
    "        _s_norm_batch = torch.tensor([_s_norm]).to(device).float()\n",
    "        rewards = r.detach().cpu().numpy().astype(np.longfloat) + \\\n",
    "            r_in.detach().cpu().numpy().astype(np.longfloat)\n",
    "        dones = d.detach().cpu().numpy().astype(np.bool)\n",
    "\n",
    "        pred_features = pred_net(_s_norm_batch)\n",
    "        _p_batch = net(_s_batch)\n",
    "        _weights = _p_batch * net.support\n",
    "        _q_batch = _weights.sum(dim=2)\n",
    "        _q_batch_np = _q_batch.detach().cpu().numpy()[0]\n",
    "        _action_batch_np = np.argmax(_q_batch_np)\n",
    "\n",
    "        with torch.no_grad():\n",
    "            rand_features = rand_net(_s_norm_batch)\n",
    "            tgt_p_batch = tgt_net(_s_batch)\n",
    "            _p_best = tgt_p_batch[range(BATCH_SIZE), _action_batch_np]\n",
    "            _p_best_np = _p_best.cpu().numpy()\n",
    "\n",
    "        proj_p_np = projection(_p_best_np, rewards, dones)\n",
    "        proj_p = torch.tensor(proj_p_np).to(device).float()\n",
    "\n",
    "        p_batch = net(s_batch)\n",
    "        p_acting = p_batch[range(BATCH_SIZE), a_batch.data]\n",
    "\n",
    "        # loss\n",
    "        eps = np.finfo(np.float32).eps.item()\n",
    "        f_loss = (pred_features - rand_features).pow(2).sum(dim=1).mean()\n",
    "        f_losses.append(f_loss)\n",
    "        loss = -(proj_p * (p_acting + eps).log()).sum(dim=1).mean()\n",
    "        losses.append(loss)\n",
    "\n",
    "        pred_optim.zero_grad()\n",
    "        f_loss.backward()\n",
    "        pred_optim.step()\n",
    "\n",
    "        net_optim.zero_grad()\n",
    "        loss.backward()\n",
    "        net_optim.step()"
   ]
  },
  {
   "cell_type": "code",
   "execution_count": 5,
   "metadata": {
    "colab": {},
    "colab_type": "code",
    "id": "FFhmC736lzHS"
   },
   "outputs": [],
   "source": [
    "def projection(next_p, rewards, dones):\n",
    "    proj_p = np.zeros((BATCH_SIZE, N_ATOMS), dtype=np.float32)\n",
    "    for atom in range(N_ATOMS):\n",
    "        z = np.minimum(V_MAX, np.maximum(\n",
    "            V_MIN, rewards + (V_MIN + atom * DELTA_Z) * GAMMA))\n",
    "        b = (z - V_MIN) / DELTA_Z\n",
    "        l = np.floor(b).astype(np.int64)\n",
    "        u = np.ceil(b).astype(np.int64)\n",
    "\n",
    "        eq_mask = u == l\n",
    "        proj_p[eq_mask, l[eq_mask]] += next_p[eq_mask, atom]\n",
    "        ne_mask = u != l\n",
    "        proj_p[ne_mask, l[ne_mask]] += next_p[ne_mask, atom] * (u - b)[ne_mask]\n",
    "        proj_p[ne_mask, u[ne_mask]] += next_p[ne_mask, atom] * (b - l)[ne_mask]\n",
    "\n",
    "        if dones.any():\n",
    "            proj_p[dones] = 0.0\n",
    "            z = np.minimum(V_MAX, np.maximum(V_MIN, rewards[dones]))\n",
    "            b = (z - V_MIN) / DELTA_Z\n",
    "            l = np.floor(b).astype(np.int64)\n",
    "            u = np.ceil(b).astype(np.int64)\n",
    "\n",
    "            eq_mask = u == l\n",
    "            eq_dones = dones.copy()\n",
    "            eq_dones[dones] = eq_mask\n",
    "            if eq_dones.any():\n",
    "                proj_p[eq_dones, l] = 1.0\n",
    "\n",
    "            ne_mask = u != l\n",
    "            ne_dones = dones.copy()\n",
    "            ne_dones[dones] = ne_mask\n",
    "            if ne_dones.any():\n",
    "                proj_p[ne_dones, l] = (u - b)[ne_mask]\n",
    "                proj_p[ne_dones, u] = (b - l)[ne_mask]\n",
    "\n",
    "    return proj_p\n",
    "\n",
    "\n",
    "def get_norm_params(obs_memory):\n",
    "    o = obs_memory[0]\n",
    "    obs_space = o.shape[0]\n",
    "    obses = [[] for _ in range(obs_space)]\n",
    "    for obs in obs_memory:\n",
    "        for j in range(obs_space):\n",
    "            obses[j].append(obs[j])\n",
    "\n",
    "    mean = np.zeros(obs_space, np.float32)\n",
    "    std = np.zeros(obs_space, np.float32)\n",
    "    for i, obs_ in enumerate(obses):\n",
    "        mean[i] = np.mean(obs_)\n",
    "        std[i] = np.std(obs_)\n",
    "    return mean, std\n",
    "\n",
    "\n",
    "def normalize_obs(obs, mean, std):\n",
    "    batch_size = obs.shape[0]\n",
    "    means = [mean for _ in range(batch_size)]\n",
    "    stds = [std for _ in range(batch_size)]\n",
    "    mean = np.stack(means)\n",
    "    std = np.stack(stds)\n",
    "    norm_obs = (obs - mean) / std\n",
    "\n",
    "    return np.clip(norm_obs, -5, 5)\n",
    "\n",
    "\n",
    "def calculate_reward_in(pred_net, rand_net, _obs):\n",
    "    global mean\n",
    "    global std\n",
    "\n",
    "    norm_obs = normalize_obs(_obs, mean, std)\n",
    "    state = torch.tensor([norm_obs]).to(device).float()\n",
    "    with torch.no_grad():\n",
    "        pred_obs = pred_net(state)\n",
    "        rand_obs = rand_net(state)\n",
    "        reward = (pred_obs - rand_obs).pow(2).sum(dim=1)\n",
    "        clipped_reward = torch.clamp(reward, -1, 1)\n",
    "\n",
    "    return clipped_reward.item()"
   ]
  },
  {
   "cell_type": "code",
   "execution_count": 6,
   "metadata": {
    "colab": {
     "base_uri": "https://localhost:8080/",
     "height": 3377
    },
    "colab_type": "code",
    "executionInfo": {
     "elapsed": 135196,
     "status": "ok",
     "timestamp": 1534482559393,
     "user": {
      "displayName": "윤승제",
      "photoUrl": "//lh5.googleusercontent.com/-EucKC7DmcQI/AAAAAAAAAAI/AAAAAAAAAGA/gQU1NPEmNFA/s50-c-k-no/photo.jpg",
      "userId": "105654037995838004821"
     },
     "user_tz": -540
    },
    "id": "PnifSBJglzHh",
    "outputId": "94177345-918e-4a96-d9a8-d8aba0a4bc9a",
    "scrolled": true
   },
   "outputs": [
    {
     "name": "stdout",
     "output_type": "stream",
     "text": [
      "cuda: True\n",
      "\u001b[33mWARN: gym.spaces.Box autodetected dtype as <class 'numpy.float32'>. Please provide explicit dtype.\u001b[0m\n"
     ]
    },
    {
     "name": "stderr",
     "output_type": "stream",
     "text": [
      "/home/jay/anaconda3/lib/python3.6/site-packages/gym/__init__.py:22: UserWarning: DEPRECATION WARNING: to improve load times, gym no longer automatically loads gym.spaces. Please run \"import gym.spaces\" to load gym.spaces on your own. This warning will turn into an error in a future version of gym.\n",
      "  warnings.warn('DEPRECATION WARNING: to improve load times, gym no longer automatically loads gym.spaces. Please run \"import gym.spaces\" to load gym.spaces on your own. This warning will turn into an error in a future version of gym.')\n"
     ]
    }
   ],
   "source": [
    "# set device\n",
    "use_cuda = torch.cuda.is_available()\n",
    "print('cuda:', use_cuda)\n",
    "device = torch.device('cuda' if use_cuda else 'cpu')\n",
    "\n",
    "# random seed\n",
    "random.seed(SEED)\n",
    "np.random.seed(SEED)\n",
    "torch.manual_seed(SEED)\n",
    "if use_cuda:\n",
    "    torch.cuda.manual_seed_all(SEED)\n",
    "\n",
    "# make an environment\n",
    "env = gym.make('CartPole-v0')\n",
    "# env = gym.make('CartPole-v1')\n",
    "# env = gym.make('MountainCar-v0')\n",
    "# env = gym.make('LunarLander-v2')\n",
    "env.seed(SEED)\n",
    "obs_space = env.observation_space.shape[0]\n",
    "action_space = env.action_space.n\n",
    "max_steps = env.spec.max_episode_steps*env.spec.timestep_limit\n",
    "\n",
    "# hyperparameter\n",
    "learn_start = env.spec.timestep_limit*5\n",
    "memory_size = learn_start*20\n",
    "update_frq = int(env.spec.timestep_limit/10)\n",
    "epsilon = 1.\n",
    "eps_min = 0.0025\n",
    "eps_decay = 1. - np.exp(np.log(eps_min)/(max_steps/2))\n",
    "num_eval = 10\n",
    "\n",
    "# global values\n",
    "total_steps = 0\n",
    "learn_steps = 0\n",
    "mean = None\n",
    "std = None\n",
    "rewards = []\n",
    "reward_eval = deque(maxlen=num_eval)\n",
    "is_learned = False\n",
    "is_solved = False\n",
    "\n",
    "# make four nerual networks\n",
    "net = CategoricalDuelingDQN(obs_space, action_space, N_ATOMS).to(device)\n",
    "target_net = deepcopy(net)\n",
    "pred_net = FeatureNet(obs_space).to(device)\n",
    "rand_net = FeatureNet(obs_space).to(device)\n",
    "\n",
    "# make optimizer\n",
    "net_optim = torch.optim.Adam(net.parameters(), lr=LR_DQN, eps=EPS)\n",
    "pred_optim = torch.optim.Adam(net.parameters(), lr=LR_RND, eps=EPS)\n",
    "\n",
    "# make memory\n",
    "rep_memory = deque(maxlen=memory_size)\n",
    "obs_memory = []"
   ]
  },
  {
   "cell_type": "code",
   "execution_count": 7,
   "metadata": {},
   "outputs": [
    {
     "data": {
      "text/plain": [
       "200"
      ]
     },
     "execution_count": 7,
     "metadata": {},
     "output_type": "execute_result"
    }
   ],
   "source": [
    "env.spec.max_episode_steps"
   ]
  },
  {
   "cell_type": "code",
   "execution_count": 8,
   "metadata": {},
   "outputs": [
    {
     "data": {
      "text/plain": [
       "195.0"
      ]
     },
     "execution_count": 8,
     "metadata": {},
     "output_type": "execute_result"
    }
   ],
   "source": [
    "env.spec.reward_threshold"
   ]
  },
  {
   "cell_type": "code",
   "execution_count": 9,
   "metadata": {
    "scrolled": true
   },
   "outputs": [
    {
     "data": {
      "text/plain": [
       "200"
      ]
     },
     "execution_count": 9,
     "metadata": {},
     "output_type": "execute_result"
    }
   ],
   "source": [
    "env.spec.timestep_limit"
   ]
  },
  {
   "cell_type": "code",
   "execution_count": 10,
   "metadata": {
    "colab": {
     "base_uri": "https://localhost:8080/",
     "height": 3377
    },
    "colab_type": "code",
    "executionInfo": {
     "elapsed": 135196,
     "status": "ok",
     "timestamp": 1534482559393,
     "user": {
      "displayName": "윤승제",
      "photoUrl": "//lh5.googleusercontent.com/-EucKC7DmcQI/AAAAAAAAAAI/AAAAAAAAAGA/gQU1NPEmNFA/s50-c-k-no/photo.jpg",
      "userId": "105654037995838004821"
     },
     "user_tz": -540
    },
    "id": "PnifSBJglzHh",
    "outputId": "94177345-918e-4a96-d9a8-d8aba0a4bc9a",
    "scrolled": false
   },
   "outputs": [
    {
     "name": "stdout",
     "output_type": "stream",
     "text": [
      "  1 Episode in    12 steps, reward 12.00, reward_in 0.00\n",
      "  2 Episode in    27 steps, reward 15.00, reward_in 0.00\n",
      "  3 Episode in    49 steps, reward 22.00, reward_in 0.00\n",
      "  4 Episode in    94 steps, reward 45.00, reward_in 0.00\n",
      "  5 Episode in   110 steps, reward 16.00, reward_in 0.00\n",
      "  6 Episode in   125 steps, reward 15.00, reward_in 0.00\n",
      "  7 Episode in   137 steps, reward 12.00, reward_in 0.00\n",
      "  8 Episode in   148 steps, reward 11.00, reward_in 0.00\n",
      "  9 Episode in   184 steps, reward 36.00, reward_in 0.00\n",
      " 10 Episode in   197 steps, reward 13.00, reward_in 0.00\n",
      " 11 Episode in   209 steps, reward 12.00, reward_in 0.00\n",
      " 12 Episode in   226 steps, reward 17.00, reward_in 0.00\n",
      " 13 Episode in   247 steps, reward 21.00, reward_in 0.00\n",
      " 14 Episode in   282 steps, reward 35.00, reward_in 0.00\n",
      " 15 Episode in   296 steps, reward 14.00, reward_in 0.00\n",
      " 16 Episode in   306 steps, reward 10.00, reward_in 0.00\n",
      " 17 Episode in   347 steps, reward 41.00, reward_in 0.00\n",
      " 18 Episode in   359 steps, reward 12.00, reward_in 0.00\n",
      " 19 Episode in   378 steps, reward 19.00, reward_in 0.00\n",
      " 20 Episode in   401 steps, reward 23.00, reward_in 0.00\n",
      " 21 Episode in   422 steps, reward 21.00, reward_in 0.00\n",
      " 22 Episode in   442 steps, reward 20.00, reward_in 0.00\n",
      " 23 Episode in   458 steps, reward 16.00, reward_in 0.00\n",
      " 24 Episode in   469 steps, reward 11.00, reward_in 0.00\n",
      " 25 Episode in   495 steps, reward 26.00, reward_in 0.00\n",
      " 26 Episode in   504 steps, reward 9.00, reward_in 0.00\n",
      " 27 Episode in   521 steps, reward 17.00, reward_in 0.00\n",
      " 28 Episode in   536 steps, reward 15.00, reward_in 0.00\n",
      " 29 Episode in   569 steps, reward 33.00, reward_in 0.00\n",
      " 30 Episode in   594 steps, reward 25.00, reward_in 0.00\n",
      " 31 Episode in   607 steps, reward 13.00, reward_in 0.00\n",
      " 32 Episode in   621 steps, reward 14.00, reward_in 0.00\n",
      " 33 Episode in   632 steps, reward 11.00, reward_in 0.00\n",
      " 34 Episode in   647 steps, reward 15.00, reward_in 0.00\n",
      " 35 Episode in   659 steps, reward 12.00, reward_in 0.00\n",
      " 36 Episode in   672 steps, reward 13.00, reward_in 0.00\n",
      " 37 Episode in   685 steps, reward 13.00, reward_in 0.00\n",
      " 38 Episode in   704 steps, reward 19.00, reward_in 0.00\n",
      " 39 Episode in   713 steps, reward 9.00, reward_in 0.00\n",
      " 40 Episode in   757 steps, reward 44.00, reward_in 0.00\n",
      " 41 Episode in   773 steps, reward 16.00, reward_in 0.00\n",
      " 42 Episode in   789 steps, reward 16.00, reward_in 0.00\n",
      " 43 Episode in   834 steps, reward 45.00, reward_in 0.00\n",
      " 44 Episode in   845 steps, reward 11.00, reward_in 0.00\n",
      " 45 Episode in   885 steps, reward 40.00, reward_in 0.00\n",
      " 46 Episode in   900 steps, reward 15.00, reward_in 0.00\n",
      " 47 Episode in   911 steps, reward 11.00, reward_in 0.00\n",
      " 48 Episode in   929 steps, reward 18.00, reward_in 0.00\n",
      " 49 Episode in   942 steps, reward 13.00, reward_in 0.00\n",
      " 50 Episode in   973 steps, reward 31.00, reward_in 0.00\n",
      " 51 Episode in   984 steps, reward 11.00, reward_in 0.00\n",
      "\n",
      "====================  Start Learning  ====================\n",
      "\n",
      " 52 Episode in  1016 steps, reward 32.00, reward_in 0.79\n",
      " 53 Episode in  1031 steps, reward 15.00, reward_in 0.19\n",
      " 54 Episode in  1049 steps, reward 18.00, reward_in 0.67\n",
      " 55 Episode in  1063 steps, reward 14.00, reward_in 0.88\n",
      " 56 Episode in  1099 steps, reward 36.00, reward_in 3.06\n",
      " 57 Episode in  1122 steps, reward 23.00, reward_in 0.80\n",
      " 58 Episode in  1131 steps, reward 9.00, reward_in 0.12\n",
      " 59 Episode in  1147 steps, reward 16.00, reward_in 0.28\n",
      " 60 Episode in  1169 steps, reward 22.00, reward_in 1.02\n",
      " 61 Episode in  1188 steps, reward 19.00, reward_in 0.32\n",
      " 62 Episode in  1210 steps, reward 22.00, reward_in 1.23\n",
      " 63 Episode in  1232 steps, reward 22.00, reward_in 0.91\n",
      " 64 Episode in  1286 steps, reward 54.00, reward_in 3.49\n",
      " 65 Episode in  1309 steps, reward 23.00, reward_in 0.52\n",
      " 66 Episode in  1452 steps, reward 143.00, reward_in 34.09\n",
      " 67 Episode in  1477 steps, reward 25.00, reward_in 0.95\n",
      " 68 Episode in  1510 steps, reward 33.00, reward_in 0.54\n",
      " 69 Episode in  1710 steps, reward 200.00, reward_in 9.16\n",
      " 70 Episode in  1822 steps, reward 112.00, reward_in 15.07\n",
      " 71 Episode in  1877 steps, reward 55.00, reward_in 2.17\n",
      " 72 Episode in  1919 steps, reward 42.00, reward_in 1.35\n",
      " 73 Episode in  2080 steps, reward 161.00, reward_in 6.13\n",
      " 74 Episode in  2127 steps, reward 47.00, reward_in 1.16\n",
      " 75 Episode in  2327 steps, reward 200.00, reward_in 49.28\n",
      " 76 Episode in  2383 steps, reward 56.00, reward_in 3.02\n",
      " 77 Episode in  2412 steps, reward 29.00, reward_in 1.75\n",
      " 78 Episode in  2491 steps, reward 79.00, reward_in 1.96\n",
      " 79 Episode in  2616 steps, reward 125.00, reward_in 15.76\n",
      " 80 Episode in  2695 steps, reward 79.00, reward_in 2.50\n",
      " 81 Episode in  2798 steps, reward 103.00, reward_in 5.55\n",
      " 82 Episode in  2998 steps, reward 200.00, reward_in 29.08\n",
      " 83 Episode in  3198 steps, reward 200.00, reward_in 24.54\n",
      " 84 Episode in  3398 steps, reward 200.00, reward_in 31.24\n",
      " 85 Episode in  3598 steps, reward 200.00, reward_in 35.91\n",
      " 86 Episode in  3669 steps, reward 71.00, reward_in 5.59\n",
      " 87 Episode in  3869 steps, reward 200.00, reward_in 21.54\n",
      " 88 Episode in  4069 steps, reward 200.00, reward_in 36.38\n",
      " 89 Episode in  4269 steps, reward 200.00, reward_in 26.86\n",
      " 90 Episode in  4433 steps, reward 164.00, reward_in 14.92\n",
      " 91 Episode in  4600 steps, reward 167.00, reward_in 14.04\n",
      " 92 Episode in  4800 steps, reward 200.00, reward_in 26.32\n",
      " 93 Episode in  5000 steps, reward 200.00, reward_in 19.57\n",
      " 94 Episode in  5135 steps, reward 135.00, reward_in 15.42\n",
      " 95 Episode in  5335 steps, reward 200.00, reward_in 37.66\n",
      " 96 Episode in  5535 steps, reward 200.00, reward_in 27.89\n",
      " 97 Episode in  5735 steps, reward 200.00, reward_in 24.66\n",
      " 98 Episode in  5935 steps, reward 200.00, reward_in 26.47\n",
      " 99 Episode in  6135 steps, reward 200.00, reward_in 33.32\n",
      "100 Episode in  6335 steps, reward 200.00, reward_in 10.84\n",
      "101 Episode in  6535 steps, reward 200.00, reward_in 36.66\n",
      "102 Episode in  6735 steps, reward 200.00, reward_in 35.67\n",
      "103 Episode in  6935 steps, reward 200.00, reward_in 18.32\n",
      "104 Episode in  7135 steps, reward 200.00, reward_in 22.74\n",
      "\n",
      "CartPole-v0 is sloved! 104 Episode in 7135 steps\n"
     ]
    }
   ],
   "source": [
    "# play\n",
    "for i in range(1, env.spec.max_episode_steps+1):\n",
    "    obs = env.reset()\n",
    "    done = False\n",
    "    ep_reward = 0\n",
    "    ep_reward_in = 0.\n",
    "    while not done:\n",
    "#         env.render()\n",
    "        if np.random.rand() < epsilon:\n",
    "            action = env.action_space.sample()\n",
    "        else:\n",
    "            target_net.eval()\n",
    "            with torch.no_grad():\n",
    "                state = torch.tensor([obs]).to(device).float()\n",
    "                probs = target_net(state)\n",
    "                weights = probs * net.support\n",
    "                q = weights.sum(dim=2)\n",
    "                q_np = q.cpu().numpy()[0]\n",
    "                action = np.argmax(q_np)\n",
    "\n",
    "        _obs, reward, done, _ = env.step(action)\n",
    "        \n",
    "        if not is_learned:\n",
    "            obs_memory.append(obs)\n",
    "            reward_in = 0.\n",
    "        else:\n",
    "            reward_in = calculate_reward_in(pred_net, rand_net, _obs)\n",
    "\n",
    "        rep_memory.append((obs, action, reward, reward_in, _obs, done))\n",
    "\n",
    "        obs = _obs\n",
    "        total_steps += 1\n",
    "        ep_reward += reward\n",
    "        ep_reward_in += reward_in\n",
    "        epsilon -= epsilon * eps_decay\n",
    "        epsilon = max(eps_min, epsilon)\n",
    "\n",
    "        if len(rep_memory) >= learn_start:\n",
    "            if len(rep_memory) == learn_start:\n",
    "                print('\\n====================  Start Learning  ====================\\n')\n",
    "                is_learned = True\n",
    "                mean, std = get_norm_params(obs_memory)\n",
    "                obs_memory.clear()\n",
    "                \n",
    "            learn(net, target_net, pred_net, rand_net,\n",
    "                  net_optim, pred_optim, rep_memory)\n",
    "            learn_steps += 1\n",
    "\n",
    "        if learn_steps == update_frq:\n",
    "            target_net.load_state_dict(net.state_dict())\n",
    "            learn_steps = 0\n",
    "    if done:\n",
    "        rewards.append(ep_reward)\n",
    "        reward_eval.append(ep_reward)\n",
    "        print('{:3} Episode in {:5} steps, reward {:.2f}, reward_in {:.2f}'.format(\n",
    "            i, total_steps, ep_reward, ep_reward_in))\n",
    "\n",
    "        if len(reward_eval) >= num_eval:\n",
    "            if np.mean(reward_eval) >= env.spec.reward_threshold:\n",
    "                print('\\n{} is sloved! {:3} Episode in {:3} steps'.format(\n",
    "                    env.spec.id, i, total_steps))\n",
    "                break\n",
    "env.close()"
   ]
  },
  {
   "cell_type": "code",
   "execution_count": 11,
   "metadata": {
    "scrolled": false
   },
   "outputs": [
    {
     "data": {
      "image/png": "[encoded data removed]",
      "text/plain": [
       "<Figure size 1080x360 with 1 Axes>"
      ]
     },
     "metadata": {
      "needs_background": "light"
     },
     "output_type": "display_data"
    },
    {
     "data": {
      "image/png": "[encoded data removed]",
      "text/plain": [
       "<Figure size 1080x360 with 1 Axes>"
      ]
     },
     "metadata": {
      "needs_background": "light"
     },
     "output_type": "display_data"
    },
    {
     "data": {
      "image/png": "[encoded data removed]",
      "text/plain": [
       "<Figure size 1080x360 with 1 Axes>"
      ]
     },
     "metadata": {
      "needs_background": "light"
     },
     "output_type": "display_data"
    }
   ],
   "source": [
    "plt.figure(figsize=(15, 5))\n",
    "plt.title('reward')\n",
    "plt.plot(rewards)\n",
    "plt.figure(figsize=(15, 5))\n",
    "plt.title('loss')\n",
    "plt.plot(losses)\n",
    "plt.show()\n",
    "plt.figure(figsize=(15, 5))\n",
    "plt.title('f_loss')\n",
    "plt.plot(f_losses)\n",
    "plt.show()"
   ]
  }
 ],
 "metadata": {
  "colab": {
   "collapsed_sections": [],
   "name": "C51_tensorflow.ipynb",
   "provenance": [],
   "version": "0.3.2"
  },
  "kernelspec": {
   "display_name": "Python 3",
   "language": "python",
   "name": "python3"
  },
  "language_info": {
   "codemirror_mode": {
    "name": "ipython",
    "version": 3
   },
   "file_extension": ".py",
   "mimetype": "text/x-python",
   "name": "python",
   "nbconvert_exporter": "python",
   "pygments_lexer": "ipython3",
   "version": "3.6.6"
  }
 },
 "nbformat": 4,
 "nbformat_minor": 1
}
