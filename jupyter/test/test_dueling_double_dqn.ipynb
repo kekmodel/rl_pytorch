{
 "cells": [
  {
   "cell_type": "code",
   "execution_count": 1,
   "metadata": {
    "colab": {},
    "colab_type": "code",
    "id": "IWnm3qot3o1W"
   },
   "outputs": [],
   "source": [
    "from collections import deque\n",
    "import imageio\n",
    "import gym\n",
    "import matplotlib.pyplot as plt\n",
    "import numpy as np\n",
    "import torch\n",
    "import torch.nn as nn\n",
    "import cv2"
   ]
  },
  {
   "cell_type": "code",
   "execution_count": 2,
   "metadata": {
    "colab": {},
    "colab_type": "code",
    "id": "9Ffkl_5C4R81"
   },
   "outputs": [],
   "source": [
    "class DuelingDQN(nn.Module):\n",
    "    def __init__(self, obs_space, action_space):\n",
    "        super().__init__()\n",
    "\n",
    "        self.head = nn.Sequential(\n",
    "            nn.Linear(obs_space, 256),\n",
    "            nn.ReLU(),\n",
    "            nn.Linear(256, 256),\n",
    "            nn.ReLU()\n",
    "        )\n",
    "\n",
    "        self.val = nn.Sequential(\n",
    "            nn.Linear(256, 256),\n",
    "            nn.ReLU(),\n",
    "            nn.Linear(256, 1)\n",
    "        )\n",
    "\n",
    "        self.adv = nn.Sequential(\n",
    "            nn.Linear(256, 256),\n",
    "            nn.ReLU(),\n",
    "            nn.Linear(256, action_space)\n",
    "        )\n",
    "\n",
    "    def forward(self, x):\n",
    "        out = self.head(x)\n",
    "        val_out = self.val(out).reshape(out.shape[0], 1)\n",
    "        adv_out = self.adv(out).reshape(out.shape[0], -1)\n",
    "        adv_mean = adv_out.mean(dim=1, keepdim=True)\n",
    "        q = val_out + adv_out - adv_mean\n",
    "\n",
    "        return q"
   ]
  },
  {
   "cell_type": "code",
   "execution_count": 3,
   "metadata": {},
   "outputs": [],
   "source": [
    "def select_action(obs, tgt_net):\n",
    "    tgt_net.eval()\n",
    "    with torch.no_grad():\n",
    "        state = torch.tensor([obs]).to(device).float()\n",
    "        q = tgt_net(state)\n",
    "        action = torch.argmax(q)\n",
    "\n",
    "    return action.item()"
   ]
  },
  {
   "cell_type": "markdown",
   "metadata": {},
   "source": [
    "## main"
   ]
  },
  {
   "cell_type": "code",
   "execution_count": 4,
   "metadata": {
    "colab": {
     "base_uri": "https://localhost:8080/",
     "height": 3377
    },
    "colab_type": "code",
    "executionInfo": {
     "elapsed": 135196,
     "status": "ok",
     "timestamp": 1534482559393,
     "user": {
      "displayName": "윤승제",
      "photoUrl": "//lh5.googleusercontent.com/-EucKC7DmcQI/AAAAAAAAAAI/AAAAAAAAAGA/gQU1NPEmNFA/s50-c-k-no/photo.jpg",
      "userId": "105654037995838004821"
     },
     "user_tz": -540
    },
    "id": "PnifSBJglzHh",
    "outputId": "94177345-918e-4a96-d9a8-d8aba0a4bc9a",
    "scrolled": false
   },
   "outputs": [
    {
     "name": "stderr",
     "output_type": "stream",
     "text": [
      "/home/jay/anaconda3/lib/python3.6/site-packages/gym/__init__.py:22: UserWarning: DEPRECATION WARNING: to improve load times, gym no longer automatically loads gym.spaces. Please run \"import gym.spaces\" to load gym.spaces on your own. This warning will turn into an error in a future version of gym.\n",
      "  warnings.warn('DEPRECATION WARNING: to improve load times, gym no longer automatically loads gym.spaces. Please run \"import gym.spaces\" to load gym.spaces on your own. This warning will turn into an error in a future version of gym.')\n"
     ]
    },
    {
     "name": "stdout",
     "output_type": "stream",
     "text": [
      "\u001b[33mWARN: gym.spaces.Box autodetected dtype as <class 'numpy.float32'>. Please provide explicit dtype.\u001b[0m\n"
     ]
    }
   ],
   "source": [
    "# set device\n",
    "device = torch.device('cuda' if torch.cuda.is_available() else 'cpu')\n",
    "\n",
    "# make an environment\n",
    "# env = gym.make('CartPole-v0')\n",
    "# env = gym.make('CartPole-v1')\n",
    "# env = gym.make('MountainCar-v0')\n",
    "env = gym.make('LunarLander-v2')\n",
    "\n",
    "SEED = 0\n",
    "env.seed(SEED)\n",
    "obs_space = env.observation_space.shape[0]\n",
    "action_space = env.action_space.n\n",
    "\n",
    "# hyperparameter\n",
    "n_episodes = 1000\n",
    "n_eval = env.spec.trials\n",
    "\n",
    "# global values\n",
    "total_steps = 0\n",
    "rewards = []\n",
    "reward_eval = deque(maxlen=n_eval)\n",
    "is_solved = False\n",
    "\n",
    "# load a model\n",
    "target_net = DuelingDQN(obs_space, action_space).to(device)\n",
    "target_net.load_state_dict(torch.load('LunarLander-v2_ep260_clear_model_dddqn.pt'))"
   ]
  },
  {
   "cell_type": "code",
   "execution_count": 5,
   "metadata": {
    "scrolled": true
   },
   "outputs": [
    {
     "data": {
      "text/plain": [
       "1000"
      ]
     },
     "execution_count": 5,
     "metadata": {},
     "output_type": "execute_result"
    }
   ],
   "source": [
    "env.spec.max_episode_steps"
   ]
  },
  {
   "cell_type": "code",
   "execution_count": 6,
   "metadata": {
    "scrolled": true
   },
   "outputs": [
    {
     "data": {
      "text/plain": [
       "100"
      ]
     },
     "execution_count": 6,
     "metadata": {},
     "output_type": "execute_result"
    }
   ],
   "source": [
    "env.spec.trials"
   ]
  },
  {
   "cell_type": "code",
   "execution_count": 7,
   "metadata": {},
   "outputs": [
    {
     "data": {
      "text/plain": [
       "200"
      ]
     },
     "execution_count": 7,
     "metadata": {},
     "output_type": "execute_result"
    }
   ],
   "source": [
    "env.spec.reward_threshold"
   ]
  },
  {
   "cell_type": "code",
   "execution_count": 8,
   "metadata": {},
   "outputs": [],
   "source": [
    "# env.metadata['video.frames_per_second'] = 60"
   ]
  },
  {
   "cell_type": "code",
   "execution_count": 9,
   "metadata": {
    "colab": {
     "base_uri": "https://localhost:8080/",
     "height": 3377
    },
    "colab_type": "code",
    "executionInfo": {
     "elapsed": 135196,
     "status": "ok",
     "timestamp": 1534482559393,
     "user": {
      "displayName": "윤승제",
      "photoUrl": "//lh5.googleusercontent.com/-EucKC7DmcQI/AAAAAAAAAAI/AAAAAAAAAGA/gQU1NPEmNFA/s50-c-k-no/photo.jpg",
      "userId": "105654037995838004821"
     },
     "user_tz": -540
    },
    "id": "PnifSBJglzHh",
    "outputId": "94177345-918e-4a96-d9a8-d8aba0a4bc9a",
    "scrolled": false
   },
   "outputs": [
    {
     "name": "stdout",
     "output_type": "stream",
     "text": [
      "  1 Episode in   206 steps, reward 197.28\n",
      "  2 Episode in   393 steps, reward 225.83\n",
      "  3 Episode in  1393 steps, reward 102.93\n",
      "  4 Episode in  1724 steps, reward 247.68\n",
      "  5 Episode in  1969 steps, reward 264.00\n",
      "  6 Episode in  2218 steps, reward 233.77\n",
      "  7 Episode in  2436 steps, reward 245.85\n",
      "  8 Episode in  2646 steps, reward 205.13\n",
      "  9 Episode in  2855 steps, reward 219.65\n",
      " 10 Episode in  3029 steps, reward 224.32\n",
      " 11 Episode in  3254 steps, reward 236.83\n",
      " 12 Episode in  3478 steps, reward 231.02\n",
      " 13 Episode in  3835 steps, reward 214.40\n",
      " 14 Episode in  4021 steps, reward 215.86\n",
      " 15 Episode in  4237 steps, reward 234.77\n",
      " 16 Episode in  4456 steps, reward 210.23\n",
      " 17 Episode in  4641 steps, reward 201.19\n",
      " 18 Episode in  4832 steps, reward 223.21\n",
      " 19 Episode in  5016 steps, reward 190.31\n",
      " 20 Episode in  5542 steps, reward 191.04\n",
      " 21 Episode in  6542 steps, reward -57.59\n",
      " 22 Episode in  6772 steps, reward 234.02\n",
      " 23 Episode in  6978 steps, reward 225.77\n",
      " 24 Episode in  7176 steps, reward 221.11\n",
      " 25 Episode in  7700 steps, reward 227.93\n",
      " 26 Episode in  7931 steps, reward 232.06\n",
      " 27 Episode in  8121 steps, reward 203.73\n",
      " 28 Episode in  8351 steps, reward 242.36\n",
      " 29 Episode in  8589 steps, reward 235.90\n",
      " 30 Episode in  8831 steps, reward 249.06\n",
      " 31 Episode in  9017 steps, reward 200.38\n",
      " 32 Episode in  9293 steps, reward 238.89\n",
      " 33 Episode in  9507 steps, reward 264.92\n",
      " 34 Episode in  9865 steps, reward 226.20\n",
      " 35 Episode in 10178 steps, reward 218.57\n",
      " 36 Episode in 10427 steps, reward 237.73\n",
      " 37 Episode in 10667 steps, reward 252.27\n",
      " 38 Episode in 11066 steps, reward 235.21\n",
      " 39 Episode in 11311 steps, reward 242.63\n",
      " 40 Episode in 11549 steps, reward 237.91\n",
      " 41 Episode in 11755 steps, reward 210.09\n",
      " 42 Episode in 11958 steps, reward 228.68\n",
      " 43 Episode in 12207 steps, reward 240.92\n",
      " 44 Episode in 12427 steps, reward 230.73\n",
      " 45 Episode in 12662 steps, reward 242.29\n",
      " 46 Episode in 12897 steps, reward 249.63\n",
      " 47 Episode in 13143 steps, reward 236.90\n",
      " 48 Episode in 13373 steps, reward 222.49\n",
      " 49 Episode in 13605 steps, reward 238.04\n",
      " 50 Episode in 13793 steps, reward 225.15\n",
      " 51 Episode in 13979 steps, reward 205.99\n",
      " 52 Episode in 14193 steps, reward 260.88\n",
      " 53 Episode in 14382 steps, reward 207.78\n",
      " 54 Episode in 14585 steps, reward 230.91\n",
      " 55 Episode in 14826 steps, reward 246.75\n",
      " 56 Episode in 15055 steps, reward 220.01\n",
      " 57 Episode in 15290 steps, reward 237.93\n",
      " 58 Episode in 15496 steps, reward 221.20\n",
      " 59 Episode in 15722 steps, reward 240.03\n",
      " 60 Episode in 15938 steps, reward 217.30\n",
      " 61 Episode in 16135 steps, reward 206.87\n",
      " 62 Episode in 17122 steps, reward 219.94\n",
      " 63 Episode in 17308 steps, reward 203.49\n",
      " 64 Episode in 17537 steps, reward 222.88\n",
      " 65 Episode in 17724 steps, reward 205.67\n",
      " 66 Episode in 17965 steps, reward 243.75\n",
      " 67 Episode in 18182 steps, reward 167.18\n",
      " 68 Episode in 18403 steps, reward 203.44\n",
      " 69 Episode in 18612 steps, reward 217.83\n",
      " 70 Episode in 18853 steps, reward 223.88\n",
      " 71 Episode in 19176 steps, reward 169.93\n",
      " 72 Episode in 19357 steps, reward 229.85\n",
      " 73 Episode in 19578 steps, reward 238.05\n",
      " 74 Episode in 19929 steps, reward 211.01\n",
      " 75 Episode in 20159 steps, reward 247.12\n",
      " 76 Episode in 20356 steps, reward 209.54\n",
      " 77 Episode in 20587 steps, reward 226.25\n",
      " 78 Episode in 20807 steps, reward 245.06\n",
      " 79 Episode in 21063 steps, reward 243.79\n",
      " 80 Episode in 21231 steps, reward 244.19\n",
      " 81 Episode in 21799 steps, reward -163.27\n",
      " 82 Episode in 21984 steps, reward 212.43\n",
      " 83 Episode in 22181 steps, reward 221.90\n",
      " 84 Episode in 22651 steps, reward 125.07\n",
      " 85 Episode in 22854 steps, reward 229.20\n",
      " 86 Episode in 23033 steps, reward 218.56\n",
      " 87 Episode in 23242 steps, reward 220.85\n",
      " 88 Episode in 23477 steps, reward 250.66\n",
      " 89 Episode in 23767 steps, reward 213.50\n",
      " 90 Episode in 23929 steps, reward 225.08\n",
      " 91 Episode in 24117 steps, reward 216.95\n",
      " 92 Episode in 24427 steps, reward 202.14\n",
      " 93 Episode in 24634 steps, reward 217.45\n",
      " 94 Episode in 24836 steps, reward 215.45\n",
      " 95 Episode in 25255 steps, reward 219.76\n",
      " 96 Episode in 25486 steps, reward 243.39\n",
      " 97 Episode in 25731 steps, reward 254.41\n",
      " 98 Episode in 25944 steps, reward 229.78\n",
      " 99 Episode in 26308 steps, reward 241.01\n",
      "100 Episode in 26525 steps, reward 210.56\n",
      "\n",
      "LunarLander-v2 is sloved! 100 Episode in 26525 steps\n"
     ]
    }
   ],
   "source": [
    "# play\n",
    "# frames = []\n",
    "for i in range(1, n_episodes + 1):\n",
    "    obs = env.reset()\n",
    "    done = False\n",
    "    ep_reward = 0\n",
    "    while not done:\n",
    "#         frames.append(env.render(mode = 'rgb_array'))\n",
    "        env.render()\n",
    "        action = select_action(obs, target_net)\n",
    "        _obs, reward, done, _ = env.step(action)\n",
    "        obs = _obs\n",
    "        total_steps += 1\n",
    "        ep_reward += reward     \n",
    "    if done:\n",
    "        env.render()\n",
    "        rewards.append(ep_reward)\n",
    "        reward_eval.append(ep_reward)\n",
    "        print('{:3} Episode in {:5} steps, reward {:.2f}'.format(\n",
    "            i, total_steps, ep_reward))\n",
    "#         frames.append(env.render(mode = 'rgb_array'))\n",
    "#         imageio.mimsave(f'{env.spec.id}.gif', frames,)\n",
    "        \n",
    "        if len(reward_eval) >= n_eval:\n",
    "            if np.mean(reward_eval) >= env.spec.reward_threshold:\n",
    "                print('\\n{} is sloved! {:3} Episode in {:3} steps'.format(\n",
    "                    env.spec.id, i, total_steps))\n",
    "                break\n",
    "env.close()"
   ]
  },
  {
   "cell_type": "code",
   "execution_count": 10,
   "metadata": {
    "scrolled": false
   },
   "outputs": [
    {
     "data": {
      "image/png": "[encoded data removed]",
      "text/plain": [
       "<Figure size 1080x360 with 1 Axes>"
      ]
     },
     "metadata": {
      "needs_background": "light"
     },
     "output_type": "display_data"
    }
   ],
   "source": [
    "plt.figure(figsize=(15, 5))\n",
    "plt.title('reward')\n",
    "plt.plot(rewards)\n",
    "plt.show()"
   ]
  },
  {
   "cell_type": "code",
   "execution_count": 11,
   "metadata": {},
   "outputs": [
    {
     "data": {
      "text/plain": [
       "[('CartPole-v0', 412, 1),\n",
       " ('CartPole-v1', 452, 0.05),\n",
       " ('MountainCar-v0', 193, 0.1),\n",
       " ('LunarLander-v2', 260, 0.1)]"
      ]
     },
     "execution_count": 11,
     "metadata": {},
     "output_type": "execute_result"
    }
   ],
   "source": [
    "[\n",
    "    ('CartPole-v0', 412, 1),\n",
    "    ('CartPole-v1', 452, 0.05),\n",
    "    ('MountainCar-v0', 193, 0.1),\n",
    "    ('LunarLander-v2', 260, 0.1)\n",
    "]"
   ]
  }
 ],
 "metadata": {
  "colab": {
   "collapsed_sections": [],
   "name": "C51_tensorflow.ipynb",
   "provenance": [],
   "version": "0.3.2"
  },
  "kernelspec": {
   "display_name": "Python 3",
   "language": "python",
   "name": "python3"
  },
  "language_info": {
   "codemirror_mode": {
    "name": "ipython",
    "version": 3
   },
   "file_extension": ".py",
   "mimetype": "text/x-python",
   "name": "python",
   "nbconvert_exporter": "python",
   "pygments_lexer": "ipython3",
   "version": "3.6.6"
  }
 },
 "nbformat": 4,
 "nbformat_minor": 1
}
