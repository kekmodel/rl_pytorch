{
 "cells": [
  {
   "cell_type": "code",
   "execution_count": 7,
   "metadata": {
    "colab": {},
    "colab_type": "code",
    "id": "IWnm3qot3o1W"
   },
   "outputs": [],
   "source": [
    "import random\n",
    "from collections import deque\n",
    "from copy import deepcopy\n",
    "\n",
    "import gym\n",
    "import matplotlib.pyplot as plt\n",
    "import numpy as np\n",
    "import torch\n",
    "import torch.nn as nn\n",
    "import torch.optim as optim\n",
    "from torch.utils.data import DataLoader"
   ]
  },
  {
   "cell_type": "code",
   "execution_count": 8,
   "metadata": {
    "colab": {
     "base_uri": "https://localhost:8080/",
     "height": 35
    },
    "colab_type": "code",
    "executionInfo": {
     "elapsed": 708,
     "status": "ok",
     "timestamp": 1534482400648,
     "user": {
      "displayName": "윤승제",
      "photoUrl": "//lh5.googleusercontent.com/-EucKC7DmcQI/AAAAAAAAAAI/AAAAAAAAAGA/gQU1NPEmNFA/s50-c-k-no/photo.jpg",
      "userId": "105654037995838004821"
     },
     "user_tz": -540
    },
    "id": "maRVADiTlzHD",
    "outputId": "783b7610-95c2-4b54-b2ce-d8e853c484ba"
   },
   "outputs": [
    {
     "name": "stdout",
     "output_type": "stream",
     "text": [
      "cuda: True\n"
     ]
    }
   ],
   "source": [
    "SEED = 1\n",
    "BATCH_SIZE = 256\n",
    "GAMMA = 0.99\n",
    "LR = 0.0003\n",
    "EPS = 1e-8\n",
    "\n",
    "# set device\n",
    "use_cuda = torch.cuda.is_available()\n",
    "print('cuda:', use_cuda)\n",
    "device = torch.device('cuda' if use_cuda else 'cpu')\n",
    "\n",
    "# random seed\n",
    "random.seed(SEED)\n",
    "np.random.seed(SEED)\n",
    "torch.manual_seed(SEED)\n",
    "if use_cuda:\n",
    "    torch.cuda.manual_seed_all(SEED)"
   ]
  },
  {
   "cell_type": "code",
   "execution_count": 9,
   "metadata": {
    "colab": {},
    "colab_type": "code",
    "id": "9Ffkl_5C4R81"
   },
   "outputs": [],
   "source": [
    "class ActorCriticNet(nn.Module):\n",
    "    def __init__(self, obs_space, action_space):\n",
    "        super().__init__()\n",
    "\n",
    "        self.head = nn.Sequential(\n",
    "            nn.Linear(obs_space, 256),\n",
    "            nn.ReLU(),\n",
    "            nn.Linear(256, 256),\n",
    "            nn.ReLU()\n",
    "        )\n",
    "\n",
    "        self.pol = nn.Sequential(\n",
    "            nn.Linear(256, 256),\n",
    "            nn.ReLU(),\n",
    "            nn.Linear(256, action_space)\n",
    "        )\n",
    "        \n",
    "        self.val = nn.Sequential(\n",
    "            nn.Linear(256, 256),\n",
    "            nn.ReLU(),\n",
    "            nn.Linear(256, 1)\n",
    "        )\n",
    "\n",
    "    def forward(self, x):\n",
    "        out = self.head(x)\n",
    "        policy = self.pol(out).reshape(out.shape[0], -1)\n",
    "        value = self.val(out).reshape(out.shape[0], 1)\n",
    "        \n",
    "        return policy, value"
   ]
  },
  {
   "cell_type": "code",
   "execution_count": 10,
   "metadata": {},
   "outputs": [],
   "source": [
    "losses = []\n",
    "\n",
    "\n",
    "def learn(net, tgt_net, optimizer, rep_memory):\n",
    "    global action_space\n",
    "\n",
    "    net.train()\n",
    "    tgt_net.train()\n",
    "\n",
    "    train_data = []\n",
    "    train_data.extend(random.sample(rep_memory, BATCH_SIZE))\n",
    "    dataloader = DataLoader(\n",
    "        train_data, batch_size=BATCH_SIZE, pin_memory=use_cuda)\n",
    "    # double DQN\n",
    "    for i, (s, a, r, _s, d) in enumerate(dataloader):\n",
    "        s_batch = s.to(device).float()\n",
    "        a_batch = a.detach().to(device).long()\n",
    "        _s_batch = _s.to(device).float()\n",
    "        r_batch = r.detach().to(device).float()\n",
    "        is_done = 1. - d.detach().reshape(BATCH_SIZE, 1).to(device).float()\n",
    "        \n",
    "        _q_batch = net(_s_batch)\n",
    "        _a_batch = torch.argmax(_q_batch, dim=1)\n",
    "\n",
    "        with torch.no_grad():\n",
    "            _q_batch_tgt = tgt_net(_s_batch)\n",
    "            done_mask = torch.cat(tuple(is_done for _ in range(action_space)), dim=1)\n",
    "            _q_batch_tgt_masked = _q_batch_tgt * done_mask\n",
    "            _q_best_tgt = _q_batch_tgt_masked[range(BATCH_SIZE), _a_batch]\n",
    "\n",
    "        q_batch = net(s_batch)\n",
    "        q_acting = q_batch[range(BATCH_SIZE), a_batch]\n",
    "\n",
    "        # loss\n",
    "        loss = ((r_batch + GAMMA*_q_best_tgt) - q_acting).pow(2).sum().mean()\n",
    "        losses.append(loss)\n",
    "\n",
    "        optimizer.zero_grad()\n",
    "        loss.backward()\n",
    "        optimizer.step()\n",
    "\n",
    "\n",
    "def select_action(obs, tgt_net):\n",
    "    tgt_net.eval()\n",
    "    with torch.no_grad():\n",
    "        state = torch.tensor([obs]).to(device).float()\n",
    "        q = target_net(state)\n",
    "        action = torch.argmax(q)\n",
    "\n",
    "    return action.item()"
   ]
  },
  {
   "cell_type": "markdown",
   "metadata": {},
   "source": [
    "## Main"
   ]
  },
  {
   "cell_type": "code",
   "execution_count": 15,
   "metadata": {
    "colab": {
     "base_uri": "https://localhost:8080/",
     "height": 3377
    },
    "colab_type": "code",
    "executionInfo": {
     "elapsed": 135196,
     "status": "ok",
     "timestamp": 1534482559393,
     "user": {
      "displayName": "윤승제",
      "photoUrl": "//lh5.googleusercontent.com/-EucKC7DmcQI/AAAAAAAAAAI/AAAAAAAAAGA/gQU1NPEmNFA/s50-c-k-no/photo.jpg",
      "userId": "105654037995838004821"
     },
     "user_tz": -540
    },
    "id": "PnifSBJglzHh",
    "outputId": "94177345-918e-4a96-d9a8-d8aba0a4bc9a",
    "scrolled": false
   },
   "outputs": [
    {
     "name": "stdout",
     "output_type": "stream",
     "text": [
      "\u001b[33mWARN: gym.spaces.Box autodetected dtype as <class 'numpy.float32'>. Please provide explicit dtype.\u001b[0m\n"
     ]
    }
   ],
   "source": [
    "# make an environment\n",
    "env = gym.make('CartPole-v0')\n",
    "# env = gym.make('CartPole-v1')\n",
    "# env = gym.make('MountainCar-v0')\n",
    "# env = gym.make('LunarLander-v2')\n",
    "\n",
    "env.seed(SEED)\n",
    "obs_space = env.observation_space.shape[0]\n",
    "action_space = env.action_space.n\n",
    "\n",
    "# hyperparameter\n",
    "n_episodes = 1000\n",
    "learn_start = 2000\n",
    "memory_size = 50000\n",
    "update_frq = 1\n",
    "use_eps_decay = False\n",
    "epsilon = 1.\n",
    "eps_min = 0.001\n",
    "decay_rate = 0.0001\n",
    "n_eval = env.spec.trials\n",
    "\n",
    "# global values\n",
    "total_steps = 0\n",
    "learn_steps = 0\n",
    "rewards = []\n",
    "reward_eval = deque(maxlen=n_eval)\n",
    "is_learned = False\n",
    "is_solved = False\n",
    "\n",
    "# make two nerual networks\n",
    "new_net = ActorCriticNet(obs_space, action_space).to(device)\n",
    "old_net = deepcopy(new)\n",
    "\n",
    "# make a optimizer\n",
    "optimizer = optim.Adam(new_net.parameters(), lr=LR, eps=EPS)\n",
    "\n",
    "# make a memory\n",
    "rep_memory = deque(maxlen=memory_size)"
   ]
  },
  {
   "cell_type": "code",
   "execution_count": 13,
   "metadata": {},
   "outputs": [
    {
     "data": {
      "text/plain": [
       "True"
      ]
     },
     "execution_count": 13,
     "metadata": {},
     "output_type": "execute_result"
    }
   ],
   "source": [
    "use_cuda"
   ]
  },
  {
   "cell_type": "code",
   "execution_count": 14,
   "metadata": {},
   "outputs": [
    {
     "data": {
      "text/plain": [
       "200"
      ]
     },
     "execution_count": 14,
     "metadata": {},
     "output_type": "execute_result"
    }
   ],
   "source": [
    "env.spec.max_episode_steps"
   ]
  },
  {
   "cell_type": "code",
   "execution_count": 11,
   "metadata": {},
   "outputs": [
    {
     "data": {
      "text/plain": [
       "100"
      ]
     },
     "execution_count": 11,
     "metadata": {},
     "output_type": "execute_result"
    }
   ],
   "source": [
    "env.spec.trials"
   ]
  },
  {
   "cell_type": "code",
   "execution_count": 12,
   "metadata": {},
   "outputs": [
    {
     "data": {
      "text/plain": [
       "195.0"
      ]
     },
     "execution_count": 12,
     "metadata": {},
     "output_type": "execute_result"
    }
   ],
   "source": [
    "env.spec.reward_threshold"
   ]
  },
  {
   "cell_type": "code",
   "execution_count": 9,
   "metadata": {
    "colab": {
     "base_uri": "https://localhost:8080/",
     "height": 3377
    },
    "colab_type": "code",
    "executionInfo": {
     "elapsed": 135196,
     "status": "ok",
     "timestamp": 1534482559393,
     "user": {
      "displayName": "윤승제",
      "photoUrl": "//lh5.googleusercontent.com/-EucKC7DmcQI/AAAAAAAAAAI/AAAAAAAAAGA/gQU1NPEmNFA/s50-c-k-no/photo.jpg",
      "userId": "105654037995838004821"
     },
     "user_tz": -540
    },
    "id": "PnifSBJglzHh",
    "outputId": "94177345-918e-4a96-d9a8-d8aba0a4bc9a",
    "scrolled": false
   },
   "outputs": [
    {
     "name": "stdout",
     "output_type": "stream",
     "text": [
      "  1 Episode in    50 steps, reward -365.41\n",
      "  2 Episode in   114 steps, reward -548.22\n",
      "  3 Episode in   190 steps, reward -548.29\n",
      "  4 Episode in   246 steps, reward -556.05\n",
      "  5 Episode in   322 steps, reward -523.63\n",
      "  6 Episode in   378 steps, reward -512.56\n",
      "  7 Episode in   455 steps, reward -835.45\n",
      "  8 Episode in   533 steps, reward -693.98\n",
      "  9 Episode in   588 steps, reward -540.21\n",
      " 10 Episode in   648 steps, reward -525.83\n",
      " 11 Episode in   718 steps, reward -612.44\n",
      " 12 Episode in   770 steps, reward -461.45\n",
      " 13 Episode in   833 steps, reward -549.06\n",
      " 14 Episode in   893 steps, reward -531.40\n",
      " 15 Episode in   953 steps, reward -597.42\n",
      " 16 Episode in  1008 steps, reward -500.84\n",
      " 17 Episode in  1084 steps, reward -821.64\n",
      " 18 Episode in  1151 steps, reward -550.73\n",
      " 19 Episode in  1218 steps, reward -557.22\n",
      " 20 Episode in  1297 steps, reward -811.03\n",
      " 21 Episode in  1360 steps, reward -646.42\n",
      " 22 Episode in  1416 steps, reward -522.84\n",
      " 23 Episode in  1478 steps, reward -617.94\n",
      " 24 Episode in  1564 steps, reward -1071.56\n",
      " 25 Episode in  1622 steps, reward -573.52\n",
      " 26 Episode in  1693 steps, reward -714.14\n",
      " 27 Episode in  1749 steps, reward -523.33\n",
      " 28 Episode in  1806 steps, reward -543.18\n",
      " 29 Episode in  1890 steps, reward -950.72\n",
      " 30 Episode in  1994 steps, reward -965.48\n",
      " 31 Episode in  2066 steps, reward -544.25\n",
      " 32 Episode in  2116 steps, reward -373.43\n",
      " 33 Episode in  2188 steps, reward -713.83\n",
      " 34 Episode in  2249 steps, reward -613.84\n",
      " 35 Episode in  2314 steps, reward -639.30\n",
      " 36 Episode in  2391 steps, reward -884.51\n",
      " 37 Episode in  2473 steps, reward -795.98\n",
      " 38 Episode in  2551 steps, reward -818.04\n",
      " 39 Episode in  2606 steps, reward -545.74\n",
      " 40 Episode in  2667 steps, reward -601.01\n",
      " 41 Episode in  2771 steps, reward -1049.67\n",
      " 42 Episode in  2826 steps, reward -527.15\n",
      " 43 Episode in  3826 steps, reward -637.03\n",
      " 44 Episode in  3888 steps, reward -615.21\n",
      " 45 Episode in  3944 steps, reward -541.16\n",
      " 46 Episode in  4002 steps, reward -455.52\n",
      " 47 Episode in  4068 steps, reward -556.97\n",
      " 48 Episode in  4145 steps, reward -506.72\n",
      " 49 Episode in  4211 steps, reward -557.60\n",
      " 50 Episode in  4285 steps, reward -848.31\n",
      " 51 Episode in  4362 steps, reward -757.40\n",
      " 52 Episode in  4435 steps, reward -793.08\n",
      " 53 Episode in  4505 steps, reward -610.65\n",
      " 54 Episode in  4561 steps, reward -546.80\n",
      " 55 Episode in  4629 steps, reward -590.78\n",
      " 56 Episode in  4695 steps, reward -546.03\n",
      " 57 Episode in  4780 steps, reward -831.55\n",
      " 58 Episode in  4848 steps, reward -580.20\n",
      " 59 Episode in  4912 steps, reward -554.59\n",
      " 60 Episode in  4982 steps, reward -586.75\n",
      "\n",
      "============  Start Learning  ============\n",
      "\n",
      " 61 Episode in  5040 steps, reward -260.19\n",
      " 62 Episode in  5109 steps, reward -195.14\n",
      " 63 Episode in  5171 steps, reward -532.01\n",
      " 64 Episode in  5297 steps, reward -374.16\n",
      " 65 Episode in  5408 steps, reward -666.43\n",
      " 66 Episode in  5467 steps, reward -173.77\n",
      " 67 Episode in  5521 steps, reward -134.60\n",
      " 68 Episode in  5597 steps, reward -137.01\n",
      " 69 Episode in  5651 steps, reward -265.61\n",
      " 70 Episode in  5704 steps, reward -207.40\n",
      " 71 Episode in  5757 steps, reward -153.22\n",
      " 72 Episode in  5874 steps, reward -208.93\n",
      " 73 Episode in  5986 steps, reward -139.16\n",
      " 74 Episode in  6076 steps, reward -100.69\n",
      " 75 Episode in  6199 steps, reward -135.50\n",
      " 76 Episode in  6440 steps, reward 123.74\n",
      " 77 Episode in  6676 steps, reward -205.35\n",
      " 78 Episode in  6984 steps, reward -206.49\n",
      " 79 Episode in  7233 steps, reward -91.70\n",
      " 80 Episode in  7547 steps, reward -237.27\n",
      " 81 Episode in  7940 steps, reward -166.70\n",
      " 82 Episode in  8940 steps, reward -182.52\n",
      " 83 Episode in  9940 steps, reward -171.53\n",
      " 84 Episode in 10940 steps, reward -124.11\n",
      " 85 Episode in 11940 steps, reward -174.60\n",
      " 86 Episode in 12940 steps, reward -390.75\n",
      " 87 Episode in 13092 steps, reward -181.95\n",
      " 88 Episode in 13230 steps, reward -122.55\n",
      " 89 Episode in 13354 steps, reward -153.59\n",
      " 90 Episode in 14016 steps, reward -304.54\n",
      " 91 Episode in 14264 steps, reward -218.22\n",
      " 92 Episode in 14454 steps, reward -121.38\n",
      " 93 Episode in 14649 steps, reward -89.28\n",
      " 94 Episode in 14752 steps, reward -208.94\n",
      " 95 Episode in 14986 steps, reward -298.96\n",
      " 96 Episode in 15828 steps, reward -393.59\n",
      " 97 Episode in 16828 steps, reward -127.61\n",
      " 98 Episode in 17828 steps, reward -113.62\n",
      " 99 Episode in 18828 steps, reward -116.33\n",
      "100 Episode in 19311 steps, reward -163.53\n",
      "101 Episode in 20085 steps, reward 57.97\n",
      "102 Episode in 20687 steps, reward -166.62\n",
      "103 Episode in 21328 steps, reward -335.53\n",
      "104 Episode in 21828 steps, reward -145.21\n",
      "105 Episode in 22828 steps, reward -126.31\n",
      "106 Episode in 22893 steps, reward -190.64\n",
      "107 Episode in 23893 steps, reward -126.26\n",
      "108 Episode in 24093 steps, reward -64.68\n",
      "109 Episode in 25093 steps, reward -128.77\n",
      "110 Episode in 26093 steps, reward -92.03\n",
      "111 Episode in 27093 steps, reward -142.07\n",
      "112 Episode in 28093 steps, reward -103.59\n",
      "113 Episode in 28184 steps, reward -195.20\n",
      "114 Episode in 29184 steps, reward -158.78\n",
      "115 Episode in 29409 steps, reward -80.10\n",
      "116 Episode in 30224 steps, reward -222.55\n",
      "117 Episode in 30349 steps, reward -242.88\n",
      "118 Episode in 30534 steps, reward -129.72\n",
      "119 Episode in 31135 steps, reward -371.61\n",
      "120 Episode in 31455 steps, reward -169.21\n",
      "121 Episode in 31616 steps, reward -196.06\n",
      "122 Episode in 32616 steps, reward -118.46\n",
      "123 Episode in 33532 steps, reward -268.65\n",
      "124 Episode in 34532 steps, reward -118.12\n",
      "125 Episode in 35532 steps, reward -93.53\n",
      "126 Episode in 36532 steps, reward -88.12\n",
      "127 Episode in 37532 steps, reward -195.10\n",
      "128 Episode in 38532 steps, reward -303.21\n",
      "129 Episode in 38769 steps, reward -62.67\n",
      "130 Episode in 39391 steps, reward -316.02\n",
      "131 Episode in 40391 steps, reward -109.92\n",
      "132 Episode in 40803 steps, reward -157.91\n",
      "133 Episode in 41463 steps, reward -218.04\n",
      "134 Episode in 41552 steps, reward -139.93\n",
      "135 Episode in 41963 steps, reward -353.97\n",
      "136 Episode in 42963 steps, reward -235.96\n",
      "137 Episode in 43963 steps, reward -92.45\n",
      "138 Episode in 44485 steps, reward -149.39\n",
      "139 Episode in 44593 steps, reward -148.56\n",
      "140 Episode in 44666 steps, reward -165.18\n",
      "141 Episode in 44965 steps, reward -148.45\n",
      "142 Episode in 45300 steps, reward 70.08\n",
      "143 Episode in 45807 steps, reward -159.46\n",
      "144 Episode in 46807 steps, reward -165.36\n",
      "145 Episode in 47807 steps, reward -106.29\n",
      "146 Episode in 48458 steps, reward -264.24\n",
      "147 Episode in 49144 steps, reward -344.37\n",
      "148 Episode in 50144 steps, reward -114.20\n",
      "149 Episode in 50308 steps, reward -228.50\n",
      "150 Episode in 51215 steps, reward -402.66\n",
      "151 Episode in 52130 steps, reward -431.92\n",
      "152 Episode in 53130 steps, reward -585.18\n",
      "153 Episode in 53455 steps, reward -298.92\n",
      "154 Episode in 54455 steps, reward -73.87\n",
      "155 Episode in 54695 steps, reward -141.62\n",
      "156 Episode in 55058 steps, reward 162.47\n",
      "157 Episode in 55182 steps, reward -265.55\n",
      "158 Episode in 55930 steps, reward -283.22\n",
      "159 Episode in 56930 steps, reward -66.60\n",
      "160 Episode in 57930 steps, reward -131.06\n",
      "161 Episode in 58930 steps, reward -163.89\n",
      "162 Episode in 59447 steps, reward -138.89\n",
      "163 Episode in 60447 steps, reward -67.64\n",
      "164 Episode in 60619 steps, reward -103.24\n",
      "165 Episode in 61619 steps, reward -84.10\n",
      "166 Episode in 61723 steps, reward -180.13\n",
      "167 Episode in 61960 steps, reward -218.63\n",
      "168 Episode in 62418 steps, reward 125.03\n",
      "169 Episode in 63418 steps, reward -76.02\n",
      "170 Episode in 64418 steps, reward -25.43\n",
      "171 Episode in 65233 steps, reward 83.18\n",
      "172 Episode in 65476 steps, reward 207.23\n",
      "173 Episode in 66476 steps, reward -49.85\n",
      "174 Episode in 67476 steps, reward -366.56\n",
      "175 Episode in 68476 steps, reward -393.96\n",
      "176 Episode in 68728 steps, reward -126.85\n",
      "177 Episode in 69728 steps, reward -55.68\n",
      "178 Episode in 70728 steps, reward -170.46\n",
      "179 Episode in 71728 steps, reward -47.68\n",
      "180 Episode in 72728 steps, reward 1.36\n",
      "181 Episode in 73728 steps, reward -93.88\n",
      "182 Episode in 74128 steps, reward -113.45\n",
      "183 Episode in 75038 steps, reward 59.28\n",
      "184 Episode in 75222 steps, reward -249.35\n",
      "185 Episode in 76222 steps, reward -49.85\n",
      "186 Episode in 77222 steps, reward 75.99\n",
      "187 Episode in 78222 steps, reward -10.69\n",
      "188 Episode in 79222 steps, reward 71.76\n",
      "189 Episode in 79961 steps, reward 151.03\n",
      "190 Episode in 80961 steps, reward -70.27\n",
      "191 Episode in 81961 steps, reward 49.12\n"
     ]
    },
    {
     "name": "stdout",
     "output_type": "stream",
     "text": [
      "192 Episode in 82961 steps, reward -78.44\n",
      "193 Episode in 83961 steps, reward 56.47\n",
      "194 Episode in 84961 steps, reward 6.79\n",
      "195 Episode in 85085 steps, reward -91.19\n",
      "196 Episode in 86085 steps, reward 93.93\n",
      "197 Episode in 86718 steps, reward -325.64\n",
      "198 Episode in 87718 steps, reward -130.21\n",
      "199 Episode in 88718 steps, reward -12.17\n",
      "200 Episode in 89308 steps, reward 101.36\n",
      "201 Episode in 90308 steps, reward 78.96\n",
      "202 Episode in 91308 steps, reward 55.18\n",
      "203 Episode in 92308 steps, reward 53.87\n",
      "204 Episode in 92539 steps, reward -100.29\n",
      "205 Episode in 93539 steps, reward 54.15\n",
      "206 Episode in 94077 steps, reward 183.91\n",
      "207 Episode in 95077 steps, reward 47.86\n",
      "208 Episode in 96077 steps, reward 33.52\n",
      "209 Episode in 96367 steps, reward -112.07\n",
      "210 Episode in 97367 steps, reward 89.09\n",
      "211 Episode in 97770 steps, reward -96.69\n",
      "212 Episode in 98268 steps, reward -181.57\n",
      "213 Episode in 98494 steps, reward -305.74\n",
      "214 Episode in 98922 steps, reward 226.16\n",
      "215 Episode in 99591 steps, reward 111.05\n",
      "216 Episode in 99889 steps, reward 219.65\n",
      "217 Episode in 100889 steps, reward 17.65\n",
      "218 Episode in 101443 steps, reward 188.53\n",
      "219 Episode in 101784 steps, reward 108.65\n",
      "220 Episode in 102328 steps, reward 152.20\n",
      "221 Episode in 102808 steps, reward 163.65\n",
      "222 Episode in 103185 steps, reward 224.68\n",
      "223 Episode in 103498 steps, reward -248.83\n",
      "224 Episode in 104227 steps, reward 186.26\n",
      "225 Episode in 104449 steps, reward 232.26\n",
      "226 Episode in 104965 steps, reward 193.70\n",
      "227 Episode in 105171 steps, reward -235.06\n",
      "228 Episode in 105491 steps, reward -242.88\n",
      "229 Episode in 105827 steps, reward 202.43\n",
      "230 Episode in 106100 steps, reward -60.49\n",
      "231 Episode in 106408 steps, reward 204.09\n",
      "232 Episode in 107408 steps, reward -53.04\n",
      "233 Episode in 107707 steps, reward 183.06\n",
      "234 Episode in 108053 steps, reward 221.25\n",
      "235 Episode in 108310 steps, reward 213.56\n",
      "236 Episode in 108667 steps, reward 179.90\n",
      "237 Episode in 108952 steps, reward 202.32\n",
      "238 Episode in 109327 steps, reward 189.31\n",
      "239 Episode in 109806 steps, reward 172.77\n",
      "240 Episode in 110017 steps, reward 191.30\n",
      "241 Episode in 110340 steps, reward 212.73\n",
      "242 Episode in 110885 steps, reward 187.57\n",
      "243 Episode in 111336 steps, reward 162.77\n",
      "244 Episode in 111663 steps, reward 186.35\n",
      "245 Episode in 111745 steps, reward -172.23\n",
      "246 Episode in 111956 steps, reward -81.03\n",
      "247 Episode in 112495 steps, reward 214.60\n",
      "248 Episode in 112722 steps, reward 224.31\n",
      "249 Episode in 113161 steps, reward 137.24\n",
      "250 Episode in 113764 steps, reward 161.05\n",
      "251 Episode in 114440 steps, reward 118.82\n",
      "252 Episode in 114871 steps, reward 198.45\n",
      "253 Episode in 115165 steps, reward 188.70\n",
      "254 Episode in 115468 steps, reward 173.11\n",
      "255 Episode in 115711 steps, reward 209.10\n",
      "256 Episode in 115908 steps, reward -55.42\n",
      "257 Episode in 116121 steps, reward 222.38\n",
      "258 Episode in 116499 steps, reward 214.88\n",
      "259 Episode in 116920 steps, reward 225.68\n",
      "260 Episode in 117562 steps, reward 157.40\n",
      "261 Episode in 117829 steps, reward 162.47\n",
      "262 Episode in 118217 steps, reward 128.50\n",
      "263 Episode in 118594 steps, reward 184.78\n",
      "264 Episode in 118887 steps, reward 204.01\n",
      "265 Episode in 119325 steps, reward 218.23\n",
      "266 Episode in 119799 steps, reward 143.47\n",
      "267 Episode in 120149 steps, reward 230.18\n",
      "268 Episode in 120533 steps, reward -324.45\n",
      "269 Episode in 120774 steps, reward 225.16\n",
      "270 Episode in 121079 steps, reward 159.10\n",
      "271 Episode in 121387 steps, reward 223.56\n",
      "272 Episode in 121659 steps, reward 213.07\n",
      "273 Episode in 121943 steps, reward 217.55\n",
      "274 Episode in 122279 steps, reward 151.73\n",
      "275 Episode in 122493 steps, reward 221.30\n",
      "276 Episode in 122786 steps, reward 208.32\n",
      "277 Episode in 123130 steps, reward 163.58\n",
      "278 Episode in 123487 steps, reward 219.54\n",
      "\n",
      "LunarLander-v2 is sloved! 278 Episode in 123487 steps\n"
     ]
    }
   ],
   "source": [
    "# play\n",
    "for i in range(1, n_episodes + 1):\n",
    "    obs = env.reset()\n",
    "    done = False\n",
    "    ep_reward = 0\n",
    "    while not done:\n",
    "        env.render()\n",
    "        if np.random.rand() < epsilon:\n",
    "            action = env.action_space.sample()\n",
    "        else:\n",
    "            action = select_action(obs, target_net)\n",
    "\n",
    "        _obs, reward, done, _ = env.step(action)\n",
    "\n",
    "        rep_memory.append((obs, action, reward, _obs, done))\n",
    "\n",
    "        obs = _obs\n",
    "        total_steps += 1\n",
    "        ep_reward += reward\n",
    "        \n",
    "        if use_eps_decay:\n",
    "            epsilon -= epsilon * decay_rate\n",
    "            epsilon = max(eps_min, epsilon)\n",
    "\n",
    "        if len(rep_memory) >= learn_start:\n",
    "            if len(rep_memory) == learn_start:\n",
    "                print('\\n============  Start Learning  ============\\n')\n",
    "            learn(net, target_net, optimizer, rep_memory)\n",
    "            learn_steps += 1\n",
    "\n",
    "        if learn_steps == update_frq:\n",
    "            target_net.load_state_dict(net.state_dict())\n",
    "            learn_steps = 0\n",
    "    if done:\n",
    "        rewards.append(ep_reward)\n",
    "        reward_eval.append(ep_reward)\n",
    "        print('{:3} Episode in {:5} steps, reward {:.2f}'.format(\n",
    "            i, total_steps, ep_reward))\n",
    "\n",
    "        if len(reward_eval) >= n_eval:\n",
    "            if np.mean(reward_eval) >= env.spec.reward_threshold:\n",
    "                print('\\n{} is sloved! {:3} Episode in {:3} steps'.format(\n",
    "                    env.spec.id, i, total_steps))\n",
    "                torch.save(target_net.state_dict(),\n",
    "                           f'./test/saved_models/{env.spec.id}_ep{i}_clear_model_dddqn.pt')\n",
    "                break\n",
    "env.close()"
   ]
  },
  {
   "cell_type": "code",
   "execution_count": 10,
   "metadata": {
    "scrolled": false
   },
   "outputs": [
    {
     "data": {
      "image/png": "[encoded data removed]",
      "text/plain": [
       "<Figure size 1080x360 with 1 Axes>"
      ]
     },
     "metadata": {
      "needs_background": "light"
     },
     "output_type": "display_data"
    },
    {
     "data": {
      "image/png": "[encoded data removed]",
      "text/plain": [
       "<Figure size 1080x360 with 1 Axes>"
      ]
     },
     "metadata": {
      "needs_background": "light"
     },
     "output_type": "display_data"
    }
   ],
   "source": [
    "plt.figure(figsize=(15, 5))\n",
    "plt.title('Reward')\n",
    "plt.plot(rewards)\n",
    "plt.figure(figsize=(15, 5))\n",
    "plt.title('Loss')\n",
    "plt.plot(losses)\n",
    "plt.show()"
   ]
  }
 ],
 "metadata": {
  "colab": {
   "collapsed_sections": [],
   "name": "C51_tensorflow.ipynb",
   "provenance": [],
   "version": "0.3.2"
  },
  "kernelspec": {
   "display_name": "Python 3",
   "language": "python",
   "name": "python3"
  },
  "language_info": {
   "codemirror_mode": {
    "name": "ipython",
    "version": 3
   },
   "file_extension": ".py",
   "mimetype": "text/x-python",
   "name": "python",
   "nbconvert_exporter": "python",
   "pygments_lexer": "ipython3",
   "version": "3.6.6"
  }
 },
 "nbformat": 4,
 "nbformat_minor": 1
}
