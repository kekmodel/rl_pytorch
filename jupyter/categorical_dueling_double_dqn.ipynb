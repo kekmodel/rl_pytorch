{
 "cells": [
  {
   "cell_type": "code",
   "execution_count": 1,
   "metadata": {
    "colab": {},
    "colab_type": "code",
    "id": "IWnm3qot3o1W"
   },
   "outputs": [],
   "source": [
    "import random\n",
    "from collections import deque\n",
    "from copy import deepcopy\n",
    "\n",
    "import gym\n",
    "import matplotlib.pyplot as plt\n",
    "import numpy as np\n",
    "import torch\n",
    "import torch.nn as nn\n",
    "import torch.optim as optim\n",
    "from torch.utils.data import DataLoader"
   ]
  },
  {
   "cell_type": "code",
   "execution_count": 2,
   "metadata": {
    "colab": {
     "base_uri": "https://localhost:8080/",
     "height": 35
    },
    "colab_type": "code",
    "executionInfo": {
     "elapsed": 708,
     "status": "ok",
     "timestamp": 1534482400648,
     "user": {
      "displayName": "윤승제",
      "photoUrl": "//lh5.googleusercontent.com/-EucKC7DmcQI/AAAAAAAAAAI/AAAAAAAAAGA/gQU1NPEmNFA/s50-c-k-no/photo.jpg",
      "userId": "105654037995838004821"
     },
     "user_tz": -540
    },
    "id": "maRVADiTlzHD",
    "outputId": "783b7610-95c2-4b54-b2ce-d8e853c484ba"
   },
   "outputs": [],
   "source": [
    "SEED = 1\n",
    "BATCH_SIZE = 256\n",
    "GAMMA = 0.99\n",
    "LR = 0.03\n",
    "EPS = 1e-8\n",
    "V_MAX = 10.\n",
    "V_MIN = -10.\n",
    "N_ATOMS = 51.\n",
    "DELTA_Z = (V_MAX - V_MIN) / (N_ATOMS - 1)"
   ]
  },
  {
   "cell_type": "code",
   "execution_count": 3,
   "metadata": {
    "colab": {},
    "colab_type": "code",
    "id": "9Ffkl_5C4R81"
   },
   "outputs": [],
   "source": [
    "class CategoricalDuelingDQN(nn.Module):\n",
    "    def __init__(self, obs_space, action_space, n_atoms):\n",
    "        super().__init__()\n",
    "\n",
    "        self.head = nn.Sequential(\n",
    "            nn.Linear(obs_space, 256),\n",
    "            nn.ReLU(),\n",
    "            nn.Linear(256, 256),\n",
    "            nn.ReLU()\n",
    "        )\n",
    "\n",
    "        self.val = nn.Sequential(\n",
    "            nn.Linear(256, 256),\n",
    "            nn.ReLU(),\n",
    "            nn.Linear(256, n_atoms)\n",
    "        )\n",
    "\n",
    "        self.adv = nn.Sequential(\n",
    "            nn.Linear(256, 256),\n",
    "            nn.ReLU(),\n",
    "            nn.Linear(256, action_space * n_atoms)\n",
    "        )\n",
    "\n",
    "        self.log_softmax = nn.LogSoftmax(dim=-1)\n",
    "\n",
    "        self.register_buffer(\n",
    "            'support', torch.arange(V_MIN, V_MAX + DELTA_Z, DELTA_Z))\n",
    "\n",
    "    def forward(self, x):\n",
    "        out = self.head(x)\n",
    "        val_out = self.val(out).reshape(out.shape[0], 1, N_ATOMS)\n",
    "        adv_out = self.adv(out).reshape(out.shape[0], -1, N_ATOMS)\n",
    "        adv_mean = adv_out.mean(dim=1, keepdim=True)\n",
    "        out = val_out + adv_out - adv_mean\n",
    "        out = self.log_softmax(out)\n",
    "        probs = out.exp()\n",
    "\n",
    "        return probs"
   ]
  },
  {
   "cell_type": "code",
   "execution_count": 4,
   "metadata": {},
   "outputs": [],
   "source": [
    "losses = []\n",
    "\n",
    "\n",
    "def learn(net, tgt_net, optimizer, rep_memory):\n",
    "    net.train()\n",
    "    tgt_net.train()\n",
    "\n",
    "    train_data = []\n",
    "    train_data.extend(random.sample(rep_memory, BATCH_SIZE))\n",
    "\n",
    "    dataloader = DataLoader(train_data,\n",
    "                            batch_size=BATCH_SIZE,\n",
    "                            pin_memory=use_cuda)\n",
    "    # like a double DQN\n",
    "    for i, (s, a, r, _s, d) in enumerate(dataloader):\n",
    "        s_batch = s.to(device).float()\n",
    "        a_batch = a.detach().to(device).long()\n",
    "        _s_batch = _s.to(device).float()\n",
    "        r_batch = r.detach().to(device).float()\n",
    "        is_done = 1. - d.detach().reshape(BATCH_SIZE, 1).to(device).float()\n",
    "\n",
    "        _p_batch = net(_s_batch)\n",
    "        _weights = _p_batch * net.support\n",
    "        _q_batch = _weights.sum(dim=2)\n",
    "        _a_batch = torch.argmax(_q_batch)\n",
    "\n",
    "        with torch.no_grad():\n",
    "            _p_batch_tgt = tgt_net(_s_batch)\n",
    "            _p_best = tgt_p_batch[range(BATCH_SIZE), _a_batch]\n",
    "\n",
    "        proj_p = projection(_p_best, r_batch, is_done)\n",
    "        proj_p = torch.tensor(proj_p_np).to(device).float()\n",
    "\n",
    "        p_batch = net(s_batch)\n",
    "        p_acting = p_batch[range(BATCH_SIZE), a_batch.data]\n",
    "\n",
    "        # loss\n",
    "        eps = np.finfo(np.float32).eps.item()\n",
    "        loss = -(proj_p * (p_acting + eps).log()).sum(dim=1).mean()\n",
    "        losses.append(loss)\n",
    "\n",
    "        optimizer.zero_grad()\n",
    "        loss.backward()\n",
    "        optimizer.step()\n",
    "\n",
    "\n",
    "def projection(_p_best, r_batch, is_done):\n",
    "    proj_p = torch.zeros((BATCH_SIZE, N_ATOMS)).to(device).float()\n",
    "    for atom in range(N_ATOMS):\n",
    "        z = torch.minimum(V_MAX, torch.maximum(V_MIN, r_batch + GAMMA * (V_MIN + atom * DELTA_Z)))\n",
    "        b = (z - V_MIN) / DELTA_Z\n",
    "        l = torch.floor(b)\n",
    "        u = torch.ceil(b)\n",
    "\n",
    "        eq_mask = u == l\n",
    "        proj_p[eq_mask, l[eq_mask]] += next_p[eq_mask, atom]\n",
    "        ne_mask = u != l\n",
    "        proj_p[ne_mask, l[ne_mask]] += next_p[ne_mask, atom] * (u - b)[ne_mask]\n",
    "        proj_p[ne_mask, u[ne_mask]] += next_p[ne_mask, atom] * (b - l)[ne_mask]\n",
    "\n",
    "        if dones.any():\n",
    "            proj_p[dones] = 0.0\n",
    "            z = np.minimum(V_MAX, np.maximum(V_MIN, rewards[dones]))\n",
    "            b = (z - V_MIN) / DELTA_Z\n",
    "            l = np.floor(b).astype(np.int64)\n",
    "            u = np.ceil(b).astype(np.int64)\n",
    "\n",
    "            eq_mask = u == l\n",
    "            eq_dones = dones.copy()\n",
    "            eq_dones[dones] = eq_mask\n",
    "            if eq_dones.any():\n",
    "                proj_p[eq_dones, l] = 1.0\n",
    "\n",
    "            ne_mask = u != l\n",
    "            ne_dones = dones.copy()\n",
    "            ne_dones[dones] = ne_mask\n",
    "            if ne_dones.any():\n",
    "                proj_p[ne_dones, l] = (u - b)[ne_mask]\n",
    "                proj_p[ne_dones, u] = (b - l)[ne_mask]\n",
    "\n",
    "    return proj_p\n",
    "\n",
    "\n",
    "def select_action(obs, tgt_net):\n",
    "    tgt_net.eval()\n",
    "    with torch.no_grad():\n",
    "        state = torch.tensor([obs]).to(device).float()\n",
    "        probs = target_net(state)\n",
    "        weights = probs * net.support\n",
    "        q = weights.sum(dim=2)\n",
    "        action = torch.argmax(q)\n",
    "\n",
    "    return action.item()"
   ]
  },
  {
   "cell_type": "code",
   "execution_count": 5,
   "metadata": {
    "colab": {
     "base_uri": "https://localhost:8080/",
     "height": 3377
    },
    "colab_type": "code",
    "executionInfo": {
     "elapsed": 135196,
     "status": "ok",
     "timestamp": 1534482559393,
     "user": {
      "displayName": "윤승제",
      "photoUrl": "//lh5.googleusercontent.com/-EucKC7DmcQI/AAAAAAAAAAI/AAAAAAAAAGA/gQU1NPEmNFA/s50-c-k-no/photo.jpg",
      "userId": "105654037995838004821"
     },
     "user_tz": -540
    },
    "id": "PnifSBJglzHh",
    "outputId": "94177345-918e-4a96-d9a8-d8aba0a4bc9a",
    "scrolled": true
   },
   "outputs": [
    {
     "name": "stdout",
     "output_type": "stream",
     "text": [
      "cuda: True\n",
      "\u001b[33mWARN: gym.spaces.Box autodetected dtype as <class 'numpy.float32'>. Please provide explicit dtype.\u001b[0m\n"
     ]
    },
    {
     "name": "stderr",
     "output_type": "stream",
     "text": [
      "/home/jay/anaconda3/lib/python3.6/site-packages/gym/__init__.py:22: UserWarning: DEPRECATION WARNING: to improve load times, gym no longer automatically loads gym.spaces. Please run \"import gym.spaces\" to load gym.spaces on your own. This warning will turn into an error in a future version of gym.\n",
      "  warnings.warn('DEPRECATION WARNING: to improve load times, gym no longer automatically loads gym.spaces. Please run \"import gym.spaces\" to load gym.spaces on your own. This warning will turn into an error in a future version of gym.')\n"
     ]
    }
   ],
   "source": [
    "# set device\n",
    "use_cuda = torch.cuda.is_available()\n",
    "print('cuda:', use_cuda)\n",
    "device = torch.device('cuda' if use_cuda else 'cpu')\n",
    "\n",
    "# random seed\n",
    "random.seed(SEED)\n",
    "np.random.seed(SEED)\n",
    "torch.manual_seed(SEED)\n",
    "if use_cuda:\n",
    "    torch.cuda.manual_seed_all(SEED)\n",
    "\n",
    "# make an environment\n",
    "# env = gym.make('CartPole-v0')\n",
    "# env = gym.make('CartPole-v1')\n",
    "env = gym.make('MountainCar-v0')\n",
    "# env = gym.make('LunarLander-v2')\n",
    "env.seed(SEED)\n",
    "obs_space = env.observation_space.shape[0]\n",
    "action_space = env.action_space.n\n",
    "max_steps = env.spec.max_episode_steps*env.spec.timestep_limit\n",
    "\n",
    "# hyperparameter\n",
    "learn_start = env.spec.timestep_limit*5\n",
    "memory_size = learn_start*20\n",
    "update_frq = int(env.spec.timestep_limit/10)\n",
    "epsilon = 1.\n",
    "eps_min = 0.005\n",
    "eps_decay = 1. - np.exp(np.log(eps_min)/(max_steps/5))\n",
    "num_eval = 10\n",
    "\n",
    "# global values\n",
    "total_steps = 0\n",
    "learn_steps = 0\n",
    "rewards = []\n",
    "reward_eval = deque(maxlen=num_eval)\n",
    "is_learned = False\n",
    "is_solved = False\n",
    "\n",
    "# make two nerual networks\n",
    "net = CategoricalDuelingDQN(obs_space, action_space, N_ATOMS).to(device)\n",
    "target_net = deepcopy(net)\n",
    "\n",
    "# make a optimizer\n",
    "optimizer = optim.Adam(net.parameters(), lr=LR, eps=EPS)\n",
    "\n",
    "# make memory\n",
    "rep_memory = deque(maxlen=memory_size)"
   ]
  },
  {
   "cell_type": "code",
   "execution_count": 6,
   "metadata": {},
   "outputs": [
    {
     "data": {
      "text/plain": [
       "200"
      ]
     },
     "execution_count": 6,
     "metadata": {},
     "output_type": "execute_result"
    }
   ],
   "source": [
    "env.spec.max_episode_steps"
   ]
  },
  {
   "cell_type": "code",
   "execution_count": 7,
   "metadata": {},
   "outputs": [
    {
     "data": {
      "text/plain": [
       "-110.0"
      ]
     },
     "execution_count": 7,
     "metadata": {},
     "output_type": "execute_result"
    }
   ],
   "source": [
    "env.spec.reward_threshold"
   ]
  },
  {
   "cell_type": "code",
   "execution_count": 8,
   "metadata": {
    "scrolled": true
   },
   "outputs": [
    {
     "data": {
      "text/plain": [
       "200"
      ]
     },
     "execution_count": 8,
     "metadata": {},
     "output_type": "execute_result"
    }
   ],
   "source": [
    "env.spec.timestep_limit"
   ]
  },
  {
   "cell_type": "code",
   "execution_count": 9,
   "metadata": {
    "colab": {
     "base_uri": "https://localhost:8080/",
     "height": 3377
    },
    "colab_type": "code",
    "executionInfo": {
     "elapsed": 135196,
     "status": "ok",
     "timestamp": 1534482559393,
     "user": {
      "displayName": "윤승제",
      "photoUrl": "//lh5.googleusercontent.com/-EucKC7DmcQI/AAAAAAAAAAI/AAAAAAAAAGA/gQU1NPEmNFA/s50-c-k-no/photo.jpg",
      "userId": "105654037995838004821"
     },
     "user_tz": -540
    },
    "id": "PnifSBJglzHh",
    "outputId": "94177345-918e-4a96-d9a8-d8aba0a4bc9a",
    "scrolled": false
   },
   "outputs": [
    {
     "name": "stdout",
     "output_type": "stream",
     "text": [
      "  1 Episode in   200 steps, reward -200.00\n",
      "  2 Episode in   400 steps, reward -200.00\n",
      "  3 Episode in   600 steps, reward -200.00\n",
      "  4 Episode in   800 steps, reward -200.00\n",
      "\n",
      "============  Start Learning  ============\n",
      "\n",
      "  5 Episode in  1000 steps, reward -200.00\n",
      "  6 Episode in  1200 steps, reward -200.00\n",
      "  7 Episode in  1400 steps, reward -200.00\n",
      "  8 Episode in  1600 steps, reward -200.00\n",
      "  9 Episode in  1800 steps, reward -200.00\n",
      " 10 Episode in  2000 steps, reward -200.00\n",
      " 11 Episode in  2200 steps, reward -200.00\n",
      " 12 Episode in  2400 steps, reward -200.00\n",
      " 13 Episode in  2600 steps, reward -200.00\n",
      " 14 Episode in  2800 steps, reward -200.00\n",
      " 15 Episode in  3000 steps, reward -200.00\n",
      " 16 Episode in  3200 steps, reward -200.00\n",
      " 17 Episode in  3400 steps, reward -200.00\n",
      " 18 Episode in  3600 steps, reward -200.00\n",
      " 19 Episode in  3800 steps, reward -200.00\n",
      " 20 Episode in  4000 steps, reward -200.00\n",
      " 21 Episode in  4200 steps, reward -200.00\n",
      " 22 Episode in  4400 steps, reward -200.00\n",
      " 23 Episode in  4600 steps, reward -200.00\n",
      " 24 Episode in  4800 steps, reward -200.00\n",
      " 25 Episode in  5000 steps, reward -200.00\n",
      " 26 Episode in  5200 steps, reward -200.00\n",
      " 27 Episode in  5400 steps, reward -200.00\n",
      " 28 Episode in  5600 steps, reward -200.00\n",
      " 29 Episode in  5800 steps, reward -200.00\n",
      " 30 Episode in  6000 steps, reward -200.00\n",
      " 31 Episode in  6200 steps, reward -200.00\n",
      " 32 Episode in  6400 steps, reward -200.00\n",
      " 33 Episode in  6600 steps, reward -200.00\n",
      " 34 Episode in  6800 steps, reward -200.00\n",
      " 35 Episode in  7000 steps, reward -200.00\n",
      " 36 Episode in  7200 steps, reward -200.00\n",
      " 37 Episode in  7399 steps, reward -199.00\n",
      " 38 Episode in  7599 steps, reward -200.00\n",
      " 39 Episode in  7799 steps, reward -200.00\n",
      " 40 Episode in  7999 steps, reward -200.00\n",
      " 41 Episode in  8199 steps, reward -200.00\n",
      " 42 Episode in  8327 steps, reward -128.00\n",
      " 43 Episode in  8527 steps, reward -200.00\n",
      " 44 Episode in  8727 steps, reward -200.00\n",
      " 45 Episode in  8927 steps, reward -200.00\n",
      " 46 Episode in  9127 steps, reward -200.00\n",
      " 47 Episode in  9327 steps, reward -200.00\n",
      " 48 Episode in  9527 steps, reward -200.00\n",
      " 49 Episode in  9727 steps, reward -200.00\n",
      " 50 Episode in  9927 steps, reward -200.00\n",
      " 51 Episode in 10127 steps, reward -200.00\n",
      " 52 Episode in 10327 steps, reward -200.00\n",
      " 53 Episode in 10527 steps, reward -200.00\n",
      " 54 Episode in 10727 steps, reward -200.00\n",
      " 55 Episode in 10927 steps, reward -200.00\n",
      " 56 Episode in 11127 steps, reward -200.00\n",
      " 57 Episode in 11327 steps, reward -200.00\n",
      " 58 Episode in 11527 steps, reward -200.00\n",
      " 59 Episode in 11727 steps, reward -200.00\n",
      " 60 Episode in 11927 steps, reward -200.00\n",
      " 61 Episode in 12124 steps, reward -197.00\n",
      " 62 Episode in 12274 steps, reward -150.00\n",
      " 63 Episode in 12474 steps, reward -200.00\n",
      " 64 Episode in 12674 steps, reward -200.00\n",
      " 65 Episode in 12874 steps, reward -200.00\n",
      " 66 Episode in 13074 steps, reward -200.00\n",
      " 67 Episode in 13274 steps, reward -200.00\n",
      " 68 Episode in 13445 steps, reward -171.00\n",
      " 69 Episode in 13629 steps, reward -184.00\n",
      " 70 Episode in 13755 steps, reward -126.00\n",
      " 71 Episode in 13955 steps, reward -200.00\n",
      " 72 Episode in 14155 steps, reward -200.00\n",
      " 73 Episode in 14330 steps, reward -175.00\n",
      " 74 Episode in 14442 steps, reward -112.00\n",
      " 75 Episode in 14642 steps, reward -200.00\n",
      " 76 Episode in 14837 steps, reward -195.00\n",
      " 77 Episode in 15037 steps, reward -200.00\n",
      " 78 Episode in 15237 steps, reward -200.00\n",
      " 79 Episode in 15437 steps, reward -200.00\n",
      " 80 Episode in 15637 steps, reward -200.00\n",
      " 81 Episode in 15837 steps, reward -200.00\n",
      " 82 Episode in 16037 steps, reward -200.00\n",
      " 83 Episode in 16237 steps, reward -200.00\n",
      " 84 Episode in 16437 steps, reward -200.00\n",
      " 85 Episode in 16637 steps, reward -200.00\n",
      " 86 Episode in 16778 steps, reward -141.00\n",
      " 87 Episode in 16978 steps, reward -200.00\n",
      " 88 Episode in 17178 steps, reward -200.00\n",
      " 89 Episode in 17371 steps, reward -193.00\n",
      " 90 Episode in 17571 steps, reward -200.00\n",
      " 91 Episode in 17771 steps, reward -200.00\n",
      " 92 Episode in 17971 steps, reward -200.00\n",
      " 93 Episode in 18160 steps, reward -189.00\n",
      " 94 Episode in 18360 steps, reward -200.00\n",
      " 95 Episode in 18560 steps, reward -200.00\n",
      " 96 Episode in 18760 steps, reward -200.00\n",
      " 97 Episode in 18960 steps, reward -200.00\n",
      " 98 Episode in 19160 steps, reward -200.00\n",
      " 99 Episode in 19360 steps, reward -200.00\n",
      "100 Episode in 19560 steps, reward -200.00\n",
      "101 Episode in 19760 steps, reward -200.00\n",
      "102 Episode in 19898 steps, reward -138.00\n",
      "103 Episode in 20098 steps, reward -200.00\n",
      "104 Episode in 20298 steps, reward -200.00\n",
      "105 Episode in 20498 steps, reward -200.00\n",
      "106 Episode in 20698 steps, reward -200.00\n",
      "107 Episode in 20898 steps, reward -200.00\n",
      "108 Episode in 21015 steps, reward -117.00\n",
      "109 Episode in 21215 steps, reward -200.00\n",
      "110 Episode in 21415 steps, reward -200.00\n",
      "111 Episode in 21602 steps, reward -187.00\n",
      "112 Episode in 21759 steps, reward -157.00\n",
      "113 Episode in 21943 steps, reward -184.00\n",
      "114 Episode in 22143 steps, reward -200.00\n",
      "115 Episode in 22295 steps, reward -152.00\n",
      "116 Episode in 22403 steps, reward -108.00\n",
      "117 Episode in 22603 steps, reward -200.00\n",
      "118 Episode in 22803 steps, reward -200.00\n",
      "119 Episode in 23003 steps, reward -200.00\n",
      "120 Episode in 23203 steps, reward -200.00\n",
      "121 Episode in 23383 steps, reward -180.00\n",
      "122 Episode in 23583 steps, reward -200.00\n",
      "123 Episode in 23783 steps, reward -200.00\n",
      "124 Episode in 23983 steps, reward -200.00\n",
      "125 Episode in 24183 steps, reward -200.00\n",
      "126 Episode in 24320 steps, reward -137.00\n",
      "127 Episode in 24520 steps, reward -200.00\n",
      "128 Episode in 24720 steps, reward -200.00\n",
      "129 Episode in 24920 steps, reward -200.00\n",
      "130 Episode in 25120 steps, reward -200.00\n",
      "131 Episode in 25320 steps, reward -200.00\n",
      "132 Episode in 25520 steps, reward -200.00\n",
      "133 Episode in 25720 steps, reward -200.00\n",
      "134 Episode in 25915 steps, reward -195.00\n",
      "135 Episode in 26105 steps, reward -190.00\n",
      "136 Episode in 26305 steps, reward -200.00\n",
      "137 Episode in 26505 steps, reward -200.00\n",
      "138 Episode in 26705 steps, reward -200.00\n",
      "139 Episode in 26905 steps, reward -200.00\n",
      "140 Episode in 27105 steps, reward -200.00\n",
      "141 Episode in 27232 steps, reward -127.00\n",
      "142 Episode in 27432 steps, reward -200.00\n",
      "143 Episode in 27552 steps, reward -120.00\n",
      "144 Episode in 27752 steps, reward -200.00\n",
      "145 Episode in 27952 steps, reward -200.00\n",
      "146 Episode in 28152 steps, reward -200.00\n",
      "147 Episode in 28352 steps, reward -200.00\n",
      "148 Episode in 28552 steps, reward -200.00\n",
      "149 Episode in 28751 steps, reward -199.00\n",
      "150 Episode in 28951 steps, reward -200.00\n",
      "151 Episode in 29151 steps, reward -200.00\n",
      "152 Episode in 29351 steps, reward -200.00\n",
      "153 Episode in 29551 steps, reward -200.00\n",
      "154 Episode in 29751 steps, reward -200.00\n",
      "155 Episode in 29951 steps, reward -200.00\n",
      "156 Episode in 30151 steps, reward -200.00\n",
      "157 Episode in 30299 steps, reward -148.00\n",
      "158 Episode in 30481 steps, reward -182.00\n",
      "159 Episode in 30681 steps, reward -200.00\n",
      "160 Episode in 30801 steps, reward -120.00\n",
      "161 Episode in 31001 steps, reward -200.00\n",
      "162 Episode in 31201 steps, reward -200.00\n",
      "163 Episode in 31401 steps, reward -200.00\n",
      "164 Episode in 31601 steps, reward -200.00\n",
      "165 Episode in 31801 steps, reward -200.00\n",
      "166 Episode in 32001 steps, reward -200.00\n",
      "167 Episode in 32201 steps, reward -200.00\n",
      "168 Episode in 32401 steps, reward -200.00\n",
      "169 Episode in 32505 steps, reward -104.00\n",
      "170 Episode in 32705 steps, reward -200.00\n",
      "171 Episode in 32905 steps, reward -200.00\n",
      "172 Episode in 33105 steps, reward -200.00\n",
      "173 Episode in 33305 steps, reward -200.00\n",
      "174 Episode in 33505 steps, reward -200.00\n",
      "175 Episode in 33705 steps, reward -200.00\n",
      "176 Episode in 33905 steps, reward -200.00\n",
      "177 Episode in 34105 steps, reward -200.00\n",
      "178 Episode in 34305 steps, reward -200.00\n",
      "179 Episode in 34505 steps, reward -200.00\n",
      "180 Episode in 34705 steps, reward -200.00\n",
      "181 Episode in 34905 steps, reward -200.00\n",
      "182 Episode in 35105 steps, reward -200.00\n",
      "183 Episode in 35305 steps, reward -200.00\n",
      "184 Episode in 35505 steps, reward -200.00\n",
      "185 Episode in 35705 steps, reward -200.00\n",
      "186 Episode in 35905 steps, reward -200.00\n",
      "187 Episode in 36105 steps, reward -200.00\n",
      "188 Episode in 36305 steps, reward -200.00\n",
      "189 Episode in 36505 steps, reward -200.00\n",
      "190 Episode in 36705 steps, reward -200.00\n"
     ]
    },
    {
     "name": "stdout",
     "output_type": "stream",
     "text": [
      "191 Episode in 36819 steps, reward -114.00\n",
      "192 Episode in 37019 steps, reward -200.00\n",
      "193 Episode in 37219 steps, reward -200.00\n",
      "194 Episode in 37419 steps, reward -200.00\n",
      "195 Episode in 37619 steps, reward -200.00\n",
      "196 Episode in 37819 steps, reward -200.00\n",
      "197 Episode in 38019 steps, reward -200.00\n",
      "198 Episode in 38219 steps, reward -200.00\n",
      "199 Episode in 38419 steps, reward -200.00\n",
      "200 Episode in 38619 steps, reward -200.00\n"
     ]
    }
   ],
   "source": [
    "# play\n",
    "for i in range(1, env.spec.max_episode_steps+1):\n",
    "    obs = env.reset()\n",
    "    done = False\n",
    "    ep_reward = 0\n",
    "    while not done:\n",
    "        env.render()\n",
    "        if np.random.rand() < epsilon:\n",
    "            action = env.action_space.sample()\n",
    "        else:\n",
    "            action = select_action(obs, target_net)\n",
    "\n",
    "        _obs, reward, done, _ = env.step(action)\n",
    "\n",
    "        rep_memory.append((obs, action, reward, _obs, done))\n",
    "\n",
    "        obs = _obs\n",
    "        total_steps += 1\n",
    "        ep_reward += reward\n",
    "        epsilon -= epsilon * eps_decay\n",
    "        epsilon = max(eps_min, epsilon)\n",
    "\n",
    "        if len(rep_memory) >= learn_start:\n",
    "            if len(rep_memory) == learn_start:\n",
    "                print('\\n============  Start Learning  ============\\n')\n",
    "            learn(net, target_net, optimizer, rep_memory)\n",
    "            learn_steps += 1\n",
    "\n",
    "        if learn_steps == update_frq:\n",
    "            target_net.load_state_dict(net.state_dict())\n",
    "            learn_steps = 0\n",
    "    if done:\n",
    "        rewards.append(ep_reward)\n",
    "        reward_eval.append(ep_reward)\n",
    "        print('{:3} Episode in {:5} steps, reward {:.2f}'.format(\n",
    "            i, total_steps, ep_reward))\n",
    "\n",
    "        if len(reward_eval) >= num_eval:\n",
    "            if np.mean(reward_eval) >= env.spec.reward_threshold:\n",
    "                print('\\n{} is sloved! {:3} Episode in {:3} steps'.format(\n",
    "                    env.spec.id, i, total_steps))\n",
    "                break\n",
    "env.close()"
   ]
  },
  {
   "cell_type": "code",
   "execution_count": 10,
   "metadata": {
    "scrolled": false
   },
   "outputs": [
    {
     "data": {
      "image/png": "[encoded data removed]",
      "text/plain": [
       "<Figure size 1080x360 with 1 Axes>"
      ]
     },
     "metadata": {
      "needs_background": "light"
     },
     "output_type": "display_data"
    },
    {
     "data": {
      "image/png": "[encoded data removed]",
      "text/plain": [
       "<Figure size 1080x360 with 1 Axes>"
      ]
     },
     "metadata": {
      "needs_background": "light"
     },
     "output_type": "display_data"
    }
   ],
   "source": [
    "plt.figure(figsize=(15, 5))\n",
    "plt.title('reward')\n",
    "plt.plot(rewards)\n",
    "plt.figure(figsize=(15, 5))\n",
    "plt.title('loss')\n",
    "plt.plot(losses)\n",
    "plt.show()"
   ]
  }
 ],
 "metadata": {
  "colab": {
   "collapsed_sections": [],
   "name": "C51_tensorflow.ipynb",
   "provenance": [],
   "version": "0.3.2"
  },
  "kernelspec": {
   "display_name": "Python 3",
   "language": "python",
   "name": "python3"
  },
  "language_info": {
   "codemirror_mode": {
    "name": "ipython",
    "version": 3
   },
   "file_extension": ".py",
   "mimetype": "text/x-python",
   "name": "python",
   "nbconvert_exporter": "python",
   "pygments_lexer": "ipython3",
   "version": "3.6.6"
  }
 },
 "nbformat": 4,
 "nbformat_minor": 1
}
