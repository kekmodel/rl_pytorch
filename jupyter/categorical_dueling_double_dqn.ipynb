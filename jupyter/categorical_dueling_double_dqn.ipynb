{
 "cells": [
  {
   "cell_type": "code",
   "execution_count": 1,
   "metadata": {
    "colab": {},
    "colab_type": "code",
    "id": "IWnm3qot3o1W"
   },
   "outputs": [],
   "source": [
    "# built-in\n",
    "import random\n",
    "from collections import deque\n",
    "from copy import deepcopy\n",
    "\n",
    "# tihrd party\n",
    "import gym\n",
    "import matplotlib.pyplot as plt\n",
    "import numpy as np\n",
    "import torch\n",
    "import torch.nn as nn\n",
    "import torch.optim as optim\n",
    "from torch.utils.data import DataLoader"
   ]
  },
  {
   "cell_type": "code",
   "execution_count": 2,
   "metadata": {
    "colab": {
     "base_uri": "https://localhost:8080/",
     "height": 35
    },
    "colab_type": "code",
    "executionInfo": {
     "elapsed": 708,
     "status": "ok",
     "timestamp": 1534482400648,
     "user": {
      "displayName": "윤승제",
      "photoUrl": "//lh5.googleusercontent.com/-EucKC7DmcQI/AAAAAAAAAAI/AAAAAAAAAGA/gQU1NPEmNFA/s50-c-k-no/photo.jpg",
      "userId": "105654037995838004821"
     },
     "user_tz": -540
    },
    "id": "maRVADiTlzHD",
    "outputId": "783b7610-95c2-4b54-b2ce-d8e853c484ba"
   },
   "outputs": [],
   "source": [
    "# for C51\n",
    "V_MAX = 10\n",
    "V_MIN = -10\n",
    "N_ATOMS = 51\n",
    "DELTA_Z = (V_MAX - V_MIN) / (N_ATOMS - 1)\n",
    "\n",
    "# for learning\n",
    "SEED = 1\n",
    "BATCH_SIZE = 256\n",
    "GAMMA = 0.99\n",
    "LR = 0.03\n",
    "EPS = 1e-8"
   ]
  },
  {
   "cell_type": "code",
   "execution_count": 3,
   "metadata": {
    "colab": {},
    "colab_type": "code",
    "id": "9Ffkl_5C4R81"
   },
   "outputs": [],
   "source": [
    "class CategoricalDuelingDQN(nn.Module):\n",
    "    def __init__(self, obs_space, action_space, n_atoms):\n",
    "        super().__init__()\n",
    "\n",
    "        self.head = nn.Sequential(\n",
    "            nn.Linear(obs_space, 256),\n",
    "            nn.ReLU(),\n",
    "            nn.Linear(256, 256),\n",
    "            nn.ReLU()\n",
    "        )\n",
    "\n",
    "        self.val = nn.Sequential(\n",
    "            nn.Linear(256, 256),\n",
    "            nn.ReLU(),\n",
    "            nn.Linear(256, n_atoms)\n",
    "        )\n",
    "\n",
    "        self.adv = nn.Sequential(\n",
    "            nn.Linear(256, 256),\n",
    "            nn.ReLU(),\n",
    "            nn.Linear(256, action_space * n_atoms)\n",
    "        )\n",
    "\n",
    "        self.log_softmax = nn.LogSoftmax(dim=-1)\n",
    "\n",
    "        self.register_buffer(\n",
    "            'support', torch.arange(V_MIN, V_MAX + DELTA_Z, DELTA_Z))\n",
    "\n",
    "    def forward(self, x):\n",
    "        out = self.head(x)\n",
    "        val_out = self.val(out).view(out.size(0), 1, N_ATOMS)\n",
    "        adv_out = self.adv(out).view(out.size(0), -1, N_ATOMS)\n",
    "        adv_mean = adv_out.mean(dim=1, keepdim=True)\n",
    "        out = val_out + adv_out - adv_mean\n",
    "        out = self.log_softmax(out)\n",
    "        probs = out.exp()\n",
    "\n",
    "        return probs"
   ]
  },
  {
   "cell_type": "code",
   "execution_count": 4,
   "metadata": {},
   "outputs": [],
   "source": [
    "losses = []\n",
    "\n",
    "\n",
    "def learn(net, tgt_net, optimizer, rep_memory):\n",
    "    net.train()\n",
    "    tgt_net.train()\n",
    "\n",
    "    train_data = []\n",
    "    train_data.extend(random.sample(rep_memory, BATCH_SIZE))\n",
    "\n",
    "    dataloader = DataLoader(train_data,\n",
    "                            batch_size=BATCH_SIZE,\n",
    "                            pin_memory=use_cuda)\n",
    "    # like a double DQN\n",
    "    for i, (s, a, r, _s, d) in enumerate(dataloader):\n",
    "        s_batch = s.to(device).float()\n",
    "        a_batch = a.to(device).long()\n",
    "        _s_batch = _s.to(device).float()\n",
    "        rewards = r.detach().cpu().numpy().astype(np.longlong)\n",
    "        dones = d.detach().cpu().numpy().astype(np.bool)\n",
    "\n",
    "        _p_batch = net(_s_batch)\n",
    "        _weights = _p_batch * net.support\n",
    "        _q_batch = _weights.sum(dim=2)\n",
    "        _q_batch_np = _q_batch.detach().cpu().numpy()[0]\n",
    "        _action_batch_np = np.argmax(_q_batch_np)\n",
    "\n",
    "        with torch.no_grad():\n",
    "            tgt_p_batch = tgt_net(_s_batch)\n",
    "            _p_best = tgt_p_batch[range(BATCH_SIZE), _action_batch_np]\n",
    "            _p_best_np = _p_best.cpu().numpy()\n",
    "\n",
    "        proj_p_np = projection(_p_best_np, rewards, dones)\n",
    "        proj_p = torch.tensor(proj_p_np).to(device).float()\n",
    "\n",
    "        p_batch = net(s_batch)\n",
    "        p_acting = p_batch[range(BATCH_SIZE), a_batch.data]\n",
    "\n",
    "        # loss\n",
    "        eps = np.finfo(np.float32).eps.item()\n",
    "        loss = -(proj_p * (p_acting + eps).log()).sum(dim=1).mean()\n",
    "        losses.append(loss)\n",
    "\n",
    "        optimizer.zero_grad()\n",
    "        loss.backward()\n",
    "        optimizer.step()"
   ]
  },
  {
   "cell_type": "code",
   "execution_count": 5,
   "metadata": {
    "colab": {},
    "colab_type": "code",
    "id": "FFhmC736lzHS"
   },
   "outputs": [],
   "source": [
    "def projection(next_p, rewards, dones):\n",
    "    proj_p = np.zeros((BATCH_SIZE, N_ATOMS), dtype=np.float32)\n",
    "    for atom in range(N_ATOMS):\n",
    "        z = np.minimum(V_MAX, np.maximum(\n",
    "            V_MIN, rewards + (V_MIN + atom * DELTA_Z) * GAMMA))\n",
    "        b = (z - V_MIN) / DELTA_Z\n",
    "        l = np.floor(b).astype(np.int64)\n",
    "        u = np.ceil(b).astype(np.int64)\n",
    "\n",
    "        eq_mask = u == l\n",
    "        proj_p[eq_mask, l[eq_mask]] += next_p[eq_mask, atom]\n",
    "        ne_mask = u != l\n",
    "        proj_p[ne_mask, l[ne_mask]] += next_p[ne_mask, atom] * (u - b)[ne_mask]\n",
    "        proj_p[ne_mask, u[ne_mask]] += next_p[ne_mask, atom] * (b - l)[ne_mask]\n",
    "\n",
    "        if dones.any():\n",
    "            proj_p[dones] = 0.0\n",
    "            z = np.minimum(V_MAX, np.maximum(V_MIN, rewards[dones]))\n",
    "            b = (z - V_MIN) / DELTA_Z\n",
    "            l = np.floor(b).astype(np.int64)\n",
    "            u = np.ceil(b).astype(np.int64)\n",
    "\n",
    "            eq_mask = u == l\n",
    "            eq_dones = dones.copy()\n",
    "            eq_dones[dones] = eq_mask\n",
    "            if eq_dones.any():\n",
    "                proj_p[eq_dones, l] = 1.0\n",
    "\n",
    "            ne_mask = u != l\n",
    "            ne_dones = dones.copy()\n",
    "            ne_dones[dones] = ne_mask\n",
    "            if ne_dones.any():\n",
    "                proj_p[ne_dones, l] = (u - b)[ne_mask]\n",
    "                proj_p[ne_dones, u] = (b - l)[ne_mask]\n",
    "\n",
    "    return proj_p"
   ]
  },
  {
   "cell_type": "code",
   "execution_count": 6,
   "metadata": {
    "colab": {
     "base_uri": "https://localhost:8080/",
     "height": 3377
    },
    "colab_type": "code",
    "executionInfo": {
     "elapsed": 135196,
     "status": "ok",
     "timestamp": 1534482559393,
     "user": {
      "displayName": "윤승제",
      "photoUrl": "//lh5.googleusercontent.com/-EucKC7DmcQI/AAAAAAAAAAI/AAAAAAAAAGA/gQU1NPEmNFA/s50-c-k-no/photo.jpg",
      "userId": "105654037995838004821"
     },
     "user_tz": -540
    },
    "id": "PnifSBJglzHh",
    "outputId": "94177345-918e-4a96-d9a8-d8aba0a4bc9a",
    "scrolled": true
   },
   "outputs": [
    {
     "name": "stdout",
     "output_type": "stream",
     "text": [
      "cuda: True\n",
      "\u001b[33mWARN: gym.spaces.Box autodetected dtype as <class 'numpy.float32'>. Please provide explicit dtype.\u001b[0m\n"
     ]
    },
    {
     "name": "stderr",
     "output_type": "stream",
     "text": [
      "/home/jay/anaconda3/lib/python3.6/site-packages/gym/__init__.py:22: UserWarning: DEPRECATION WARNING: to improve load times, gym no longer automatically loads gym.spaces. Please run \"import gym.spaces\" to load gym.spaces on your own. This warning will turn into an error in a future version of gym.\n",
      "  warnings.warn('DEPRECATION WARNING: to improve load times, gym no longer automatically loads gym.spaces. Please run \"import gym.spaces\" to load gym.spaces on your own. This warning will turn into an error in a future version of gym.')\n"
     ]
    }
   ],
   "source": [
    "# set device\n",
    "use_cuda = torch.cuda.is_available()\n",
    "print('cuda:', use_cuda)\n",
    "device = torch.device('cuda' if use_cuda else 'cpu')\n",
    "\n",
    "# random seed\n",
    "random.seed(SEED)\n",
    "np.random.seed(SEED)\n",
    "torch.manual_seed(SEED)\n",
    "if use_cuda:\n",
    "    torch.cuda.manual_seed_all(SEED)\n",
    "\n",
    "# make an environment\n",
    "env = gym.make('CartPole-v0')\n",
    "# env = gym.make('CartPole-v1')\n",
    "# env = gym.make('MountainCar-v0')\n",
    "# env = gym.make('LunarLander-v2')\n",
    "env.seed(SEED)\n",
    "obs_space = env.observation_space.shape[0]\n",
    "action_space = env.action_space.n\n",
    "max_steps = env.spec.max_episode_steps*env.spec.timestep_limit\n",
    "\n",
    "# hyperparameter\n",
    "learn_start = env.spec.timestep_limit*5\n",
    "memory_size = learn_start*20\n",
    "update_frq = int(env.spec.timestep_limit/10)\n",
    "epsilon = 1.\n",
    "eps_min = 0.0025\n",
    "eps_decay = 1. - np.exp(np.log(eps_min)/(max_steps/2))\n",
    "num_eval = 10\n",
    "\n",
    "# global values\n",
    "total_steps = 0\n",
    "learn_steps = 0\n",
    "rewards = []\n",
    "reward_eval = deque(maxlen=num_eval)\n",
    "is_learned = False\n",
    "is_solved = False\n",
    "\n",
    "# make two nerual networks\n",
    "net = CategoricalDuelingDQN(obs_space, action_space, N_ATOMS).to(device)\n",
    "target_net = deepcopy(net)\n",
    "\n",
    "# make optimizer\n",
    "# optimizer = optim.SGD(net.parameters(), momentum=0.9, lr=LR, weight_decay=1e-4)\n",
    "optimizer = optim.Adam(net.parameters(), lr=LR, eps=EPS)\n",
    "\n",
    "# make memory\n",
    "rep_memory = deque(maxlen=memory_size)"
   ]
  },
  {
   "cell_type": "code",
   "execution_count": 7,
   "metadata": {},
   "outputs": [
    {
     "data": {
      "text/plain": [
       "200"
      ]
     },
     "execution_count": 7,
     "metadata": {},
     "output_type": "execute_result"
    }
   ],
   "source": [
    "env.spec.max_episode_steps"
   ]
  },
  {
   "cell_type": "code",
   "execution_count": 8,
   "metadata": {},
   "outputs": [
    {
     "data": {
      "text/plain": [
       "195.0"
      ]
     },
     "execution_count": 8,
     "metadata": {},
     "output_type": "execute_result"
    }
   ],
   "source": [
    "env.spec.reward_threshold"
   ]
  },
  {
   "cell_type": "code",
   "execution_count": 9,
   "metadata": {
    "scrolled": true
   },
   "outputs": [
    {
     "data": {
      "text/plain": [
       "200"
      ]
     },
     "execution_count": 9,
     "metadata": {},
     "output_type": "execute_result"
    }
   ],
   "source": [
    "env.spec.timestep_limit"
   ]
  },
  {
   "cell_type": "code",
   "execution_count": 10,
   "metadata": {
    "colab": {
     "base_uri": "https://localhost:8080/",
     "height": 3377
    },
    "colab_type": "code",
    "executionInfo": {
     "elapsed": 135196,
     "status": "ok",
     "timestamp": 1534482559393,
     "user": {
      "displayName": "윤승제",
      "photoUrl": "//lh5.googleusercontent.com/-EucKC7DmcQI/AAAAAAAAAAI/AAAAAAAAAGA/gQU1NPEmNFA/s50-c-k-no/photo.jpg",
      "userId": "105654037995838004821"
     },
     "user_tz": -540
    },
    "id": "PnifSBJglzHh",
    "outputId": "94177345-918e-4a96-d9a8-d8aba0a4bc9a",
    "scrolled": false
   },
   "outputs": [
    {
     "name": "stdout",
     "output_type": "stream",
     "text": [
      "  1 Episode in    12 steps, reward 12.00\n",
      "  2 Episode in    27 steps, reward 15.00\n",
      "  3 Episode in    49 steps, reward 22.00\n",
      "  4 Episode in    94 steps, reward 45.00\n",
      "  5 Episode in   110 steps, reward 16.00\n",
      "  6 Episode in   125 steps, reward 15.00\n",
      "  7 Episode in   137 steps, reward 12.00\n",
      "  8 Episode in   148 steps, reward 11.00\n",
      "  9 Episode in   184 steps, reward 36.00\n",
      " 10 Episode in   197 steps, reward 13.00\n",
      " 11 Episode in   209 steps, reward 12.00\n",
      " 12 Episode in   226 steps, reward 17.00\n",
      " 13 Episode in   247 steps, reward 21.00\n",
      " 14 Episode in   282 steps, reward 35.00\n",
      " 15 Episode in   296 steps, reward 14.00\n",
      " 16 Episode in   306 steps, reward 10.00\n",
      " 17 Episode in   347 steps, reward 41.00\n",
      " 18 Episode in   359 steps, reward 12.00\n",
      " 19 Episode in   378 steps, reward 19.00\n",
      " 20 Episode in   401 steps, reward 23.00\n",
      " 21 Episode in   422 steps, reward 21.00\n",
      " 22 Episode in   442 steps, reward 20.00\n",
      " 23 Episode in   458 steps, reward 16.00\n",
      " 24 Episode in   469 steps, reward 11.00\n",
      " 25 Episode in   495 steps, reward 26.00\n",
      " 26 Episode in   504 steps, reward 9.00\n",
      " 27 Episode in   521 steps, reward 17.00\n",
      " 28 Episode in   536 steps, reward 15.00\n",
      " 29 Episode in   569 steps, reward 33.00\n",
      " 30 Episode in   594 steps, reward 25.00\n",
      " 31 Episode in   607 steps, reward 13.00\n",
      " 32 Episode in   621 steps, reward 14.00\n",
      " 33 Episode in   632 steps, reward 11.00\n",
      " 34 Episode in   647 steps, reward 15.00\n",
      " 35 Episode in   659 steps, reward 12.00\n",
      " 36 Episode in   672 steps, reward 13.00\n",
      " 37 Episode in   685 steps, reward 13.00\n",
      " 38 Episode in   704 steps, reward 19.00\n",
      " 39 Episode in   713 steps, reward 9.00\n",
      " 40 Episode in   757 steps, reward 44.00\n",
      " 41 Episode in   773 steps, reward 16.00\n",
      " 42 Episode in   789 steps, reward 16.00\n",
      " 43 Episode in   834 steps, reward 45.00\n",
      " 44 Episode in   845 steps, reward 11.00\n",
      " 45 Episode in   885 steps, reward 40.00\n",
      " 46 Episode in   900 steps, reward 15.00\n",
      " 47 Episode in   911 steps, reward 11.00\n",
      " 48 Episode in   929 steps, reward 18.00\n",
      " 49 Episode in   942 steps, reward 13.00\n",
      " 50 Episode in   973 steps, reward 31.00\n",
      " 51 Episode in   984 steps, reward 11.00\n",
      "\n",
      "============  Start Learning  ============\n",
      "\n",
      " 52 Episode in  1016 steps, reward 32.00\n",
      " 53 Episode in  1047 steps, reward 31.00\n",
      " 54 Episode in  1056 steps, reward 9.00\n",
      " 55 Episode in  1086 steps, reward 30.00\n",
      " 56 Episode in  1124 steps, reward 38.00\n",
      " 57 Episode in  1134 steps, reward 10.00\n",
      " 58 Episode in  1155 steps, reward 21.00\n",
      " 59 Episode in  1176 steps, reward 21.00\n",
      " 60 Episode in  1215 steps, reward 39.00\n",
      " 61 Episode in  1234 steps, reward 19.00\n",
      " 62 Episode in  1305 steps, reward 71.00\n",
      " 63 Episode in  1317 steps, reward 12.00\n",
      " 64 Episode in  1332 steps, reward 15.00\n",
      " 65 Episode in  1427 steps, reward 95.00\n",
      " 66 Episode in  1476 steps, reward 49.00\n",
      " 67 Episode in  1496 steps, reward 20.00\n",
      " 68 Episode in  1543 steps, reward 47.00\n",
      " 69 Episode in  1647 steps, reward 104.00\n",
      " 70 Episode in  1711 steps, reward 64.00\n",
      " 71 Episode in  1794 steps, reward 83.00\n",
      " 72 Episode in  1917 steps, reward 123.00\n",
      " 73 Episode in  2064 steps, reward 147.00\n",
      " 74 Episode in  2080 steps, reward 16.00\n",
      " 75 Episode in  2155 steps, reward 75.00\n",
      " 76 Episode in  2336 steps, reward 181.00\n",
      " 77 Episode in  2379 steps, reward 43.00\n",
      " 78 Episode in  2481 steps, reward 102.00\n",
      " 79 Episode in  2660 steps, reward 179.00\n",
      " 80 Episode in  2686 steps, reward 26.00\n",
      " 81 Episode in  2802 steps, reward 116.00\n",
      " 82 Episode in  2950 steps, reward 148.00\n",
      " 83 Episode in  3126 steps, reward 176.00\n",
      " 84 Episode in  3287 steps, reward 161.00\n",
      " 85 Episode in  3460 steps, reward 173.00\n",
      " 86 Episode in  3660 steps, reward 200.00\n",
      " 87 Episode in  3860 steps, reward 200.00\n",
      " 88 Episode in  4060 steps, reward 200.00\n",
      " 89 Episode in  4260 steps, reward 200.00\n",
      " 90 Episode in  4452 steps, reward 192.00\n",
      " 91 Episode in  4652 steps, reward 200.00\n",
      " 92 Episode in  4852 steps, reward 200.00\n",
      " 93 Episode in  5052 steps, reward 200.00\n",
      " 94 Episode in  5249 steps, reward 197.00\n",
      "\n",
      "CartPole-v0 is sloved!  94 Episode in 5249 steps\n"
     ]
    }
   ],
   "source": [
    "# play\n",
    "for i in range(1, env.spec.max_episode_steps+1):\n",
    "    obs = env.reset()\n",
    "    done = False\n",
    "    ep_reward = 0\n",
    "    while not done:\n",
    "#         env.render()\n",
    "        if np.random.rand() < epsilon:\n",
    "            action = env.action_space.sample()\n",
    "        else:\n",
    "            target_net.eval()\n",
    "            with torch.no_grad():\n",
    "                state = torch.tensor([obs]).to(device).float()\n",
    "                probs = target_net(state)\n",
    "                weights = probs * net.support\n",
    "                q = weights.sum(dim=2)\n",
    "                q_np = q.cpu().numpy()[0]\n",
    "                action = np.argmax(q_np)\n",
    "\n",
    "        _obs, reward, done, _ = env.step(action)\n",
    "\n",
    "        rep_memory.append((obs, action, reward, _obs, done))\n",
    "\n",
    "        obs = _obs\n",
    "        total_steps += 1\n",
    "        ep_reward += reward\n",
    "        epsilon -= epsilon * eps_decay\n",
    "        epsilon = max(eps_min, epsilon)\n",
    "\n",
    "        if len(rep_memory) >= learn_start:\n",
    "            if len(rep_memory) == learn_start:\n",
    "                print('\\n============  Start Learning  ============\\n')\n",
    "            learn(net, target_net, optimizer, rep_memory)\n",
    "            learn_steps += 1\n",
    "\n",
    "        if learn_steps == update_frq:\n",
    "            target_net.load_state_dict(net.state_dict())\n",
    "            learn_steps = 0\n",
    "    if done:\n",
    "        rewards.append(ep_reward)\n",
    "        reward_eval.append(ep_reward)\n",
    "        print('{:3} Episode in {:5} steps, reward {:.2f}'.format(\n",
    "            i, total_steps, ep_reward))\n",
    "\n",
    "        if len(reward_eval) >= num_eval:\n",
    "            if np.mean(reward_eval) >= env.spec.reward_threshold:\n",
    "                print('\\n{} is sloved! {:3} Episode in {:3} steps'.format(\n",
    "                    env.spec.id, i, total_steps))\n",
    "                break\n",
    "env.close()"
   ]
  },
  {
   "cell_type": "code",
   "execution_count": 11,
   "metadata": {
    "scrolled": false
   },
   "outputs": [
    {
     "data": {
      "image/png": "[encoded data removed]",
      "text/plain": [
       "<Figure size 1080x360 with 1 Axes>"
      ]
     },
     "metadata": {
      "needs_background": "light"
     },
     "output_type": "display_data"
    },
    {
     "data": {
      "image/png": "[encoded data removed]",
      "text/plain": [
       "<Figure size 1080x360 with 1 Axes>"
      ]
     },
     "metadata": {
      "needs_background": "light"
     },
     "output_type": "display_data"
    }
   ],
   "source": [
    "plt.figure(figsize=(15, 5))\n",
    "plt.title('reward')\n",
    "plt.plot(rewards)\n",
    "plt.figure(figsize=(15, 5))\n",
    "plt.title('loss')\n",
    "plt.plot(losses)\n",
    "plt.show()"
   ]
  }
 ],
 "metadata": {
  "colab": {
   "collapsed_sections": [],
   "name": "C51_tensorflow.ipynb",
   "provenance": [],
   "version": "0.3.2"
  },
  "kernelspec": {
   "display_name": "Python 3",
   "language": "python",
   "name": "python3"
  },
  "language_info": {
   "codemirror_mode": {
    "name": "ipython",
    "version": 3
   },
   "file_extension": ".py",
   "mimetype": "text/x-python",
   "name": "python",
   "nbconvert_exporter": "python",
   "pygments_lexer": "ipython3",
   "version": "3.6.6"
  }
 },
 "nbformat": 4,
 "nbformat_minor": 1
}
